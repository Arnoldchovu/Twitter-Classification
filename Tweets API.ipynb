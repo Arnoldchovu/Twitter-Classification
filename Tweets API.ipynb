{
 "cells": [
  {
   "cell_type": "code",
   "execution_count": 1,
   "metadata": {},
   "outputs": [],
   "source": [
    "import snscrape.modules.twitter as sntwitter\n",
    "import pandas as pd\n",
    "from nltk.corpus import stopwords\n",
    "import warnings\n",
    "import re \n",
    "import string\n",
    "warnings.filterwarnings(\"ignore\")"
   ]
  },
  {
   "cell_type": "code",
   "execution_count": 59,
   "metadata": {},
   "outputs": [],
   "source": [
    "maxTweets = 20000\n",
    "# Creating list to append tweet data to\n",
    "tweets_list2 = []\n",
    "# Using TwitterSearchScraper to scrape data and append tweets to list\n",
    "for i,tweet in enumerate(sntwitter.TwitterSearchScraper('Safaricom_Care since:2016-01-01 until:2022-12-15').get_items()):\n",
    "    if i>maxTweets:\n",
    "        break\n",
    "    tweets_list2.append([tweet.date, tweet.id, tweet.content, tweet.username])\n",
    "# Creating a dataframe from the tweets list above\n",
    "tweets_df = pd.DataFrame(tweets_list2, columns=['Datetime', 'Tweet Id', 'Text', 'Username'])\n",
    "tweets_df.to_csv(\"tweets.csv\", index = False)"
   ]
  },
  {
   "cell_type": "code",
   "execution_count": 60,
   "metadata": {},
   "outputs": [],
   "source": [
    "tweets_df['Text'] = tweets_df['Text'].str.lower() "
   ]
  },
  {
   "cell_type": "code",
   "execution_count": 61,
   "metadata": {},
   "outputs": [
    {
     "data": {
      "text/html": [
       "<div>\n",
       "<style scoped>\n",
       "    .dataframe tbody tr th:only-of-type {\n",
       "        vertical-align: middle;\n",
       "    }\n",
       "\n",
       "    .dataframe tbody tr th {\n",
       "        vertical-align: top;\n",
       "    }\n",
       "\n",
       "    .dataframe thead th {\n",
       "        text-align: right;\n",
       "    }\n",
       "</style>\n",
       "<table border=\"1\" class=\"dataframe\">\n",
       "  <thead>\n",
       "    <tr style=\"text-align: right;\">\n",
       "      <th></th>\n",
       "      <th>Datetime</th>\n",
       "      <th>Tweet Id</th>\n",
       "      <th>Text</th>\n",
       "      <th>Username</th>\n",
       "    </tr>\n",
       "  </thead>\n",
       "  <tbody>\n",
       "    <tr>\n",
       "      <th>0</th>\n",
       "      <td>2022-12-14 23:47:00+00:00</td>\n",
       "      <td>1603174748451733504</td>\n",
       "      <td>ditto @safaricom_care https://t.co/sgk6l3yqhd</td>\n",
       "      <td>OnguruMeister</td>\n",
       "    </tr>\n",
       "    <tr>\n",
       "      <th>1</th>\n",
       "      <td>2022-12-14 23:41:18+00:00</td>\n",
       "      <td>1603173313052037120</td>\n",
       "      <td>@ital_john hello john, the deadline was octobe...</td>\n",
       "      <td>Safaricom_Care</td>\n",
       "    </tr>\n",
       "    <tr>\n",
       "      <th>2</th>\n",
       "      <td>2022-12-14 23:35:29+00:00</td>\n",
       "      <td>1603171849428508673</td>\n",
       "      <td>@missy_k32 @abdulahiadan10 @safaricom_care @be...</td>\n",
       "      <td>I_im_kibagendi</td>\n",
       "    </tr>\n",
       "    <tr>\n",
       "      <th>3</th>\n",
       "      <td>2022-12-14 23:34:57+00:00</td>\n",
       "      <td>1603171716594692096</td>\n",
       "      <td>@safaricom_care, @safaricomplc  we demand you ...</td>\n",
       "      <td>MutonyeMutuku_</td>\n",
       "    </tr>\n",
       "    <tr>\n",
       "      <th>4</th>\n",
       "      <td>2022-12-14 23:19:59+00:00</td>\n",
       "      <td>1603167951682764800</td>\n",
       "      <td>hey @safaricom_care @safaricomplc ,15th decemb...</td>\n",
       "      <td>ndungujosephn</td>\n",
       "    </tr>\n",
       "  </tbody>\n",
       "</table>\n",
       "</div>"
      ],
      "text/plain": [
       "                   Datetime             Tweet Id  \\\n",
       "0 2022-12-14 23:47:00+00:00  1603174748451733504   \n",
       "1 2022-12-14 23:41:18+00:00  1603173313052037120   \n",
       "2 2022-12-14 23:35:29+00:00  1603171849428508673   \n",
       "3 2022-12-14 23:34:57+00:00  1603171716594692096   \n",
       "4 2022-12-14 23:19:59+00:00  1603167951682764800   \n",
       "\n",
       "                                                Text        Username  \n",
       "0      ditto @safaricom_care https://t.co/sgk6l3yqhd   OnguruMeister  \n",
       "1  @ital_john hello john, the deadline was octobe...  Safaricom_Care  \n",
       "2  @missy_k32 @abdulahiadan10 @safaricom_care @be...  I_im_kibagendi  \n",
       "3  @safaricom_care, @safaricomplc  we demand you ...  MutonyeMutuku_  \n",
       "4  hey @safaricom_care @safaricomplc ,15th decemb...   ndungujosephn  "
      ]
     },
     "execution_count": 61,
     "metadata": {},
     "output_type": "execute_result"
    }
   ],
   "source": [
    "tweets_df.head()"
   ]
  },
  {
   "cell_type": "code",
   "execution_count": 62,
   "metadata": {},
   "outputs": [],
   "source": [
    "tweets_df = tweets_df[tweets_df['Username'] != 'Safaricom_Care']"
   ]
  },
  {
   "cell_type": "code",
   "execution_count": 63,
   "metadata": {},
   "outputs": [
    {
     "data": {
      "text/plain": [
       "(14786, 4)"
      ]
     },
     "execution_count": 63,
     "metadata": {},
     "output_type": "execute_result"
    }
   ],
   "source": [
    "tweets_df.shape"
   ]
  },
  {
   "cell_type": "code",
   "execution_count": 64,
   "metadata": {},
   "outputs": [
    {
     "data": {
      "text/html": [
       "<div>\n",
       "<style scoped>\n",
       "    .dataframe tbody tr th:only-of-type {\n",
       "        vertical-align: middle;\n",
       "    }\n",
       "\n",
       "    .dataframe tbody tr th {\n",
       "        vertical-align: top;\n",
       "    }\n",
       "\n",
       "    .dataframe thead th {\n",
       "        text-align: right;\n",
       "    }\n",
       "</style>\n",
       "<table border=\"1\" class=\"dataframe\">\n",
       "  <thead>\n",
       "    <tr style=\"text-align: right;\">\n",
       "      <th></th>\n",
       "      <th>Datetime</th>\n",
       "      <th>Tweet Id</th>\n",
       "      <th>Text</th>\n",
       "      <th>Username</th>\n",
       "    </tr>\n",
       "  </thead>\n",
       "  <tbody>\n",
       "    <tr>\n",
       "      <th>0</th>\n",
       "      <td>2022-12-14 23:47:00+00:00</td>\n",
       "      <td>1603174748451733504</td>\n",
       "      <td>ditto @safaricom_care https://t.co/sgk6l3yqhd</td>\n",
       "      <td>OnguruMeister</td>\n",
       "    </tr>\n",
       "    <tr>\n",
       "      <th>2</th>\n",
       "      <td>2022-12-14 23:35:29+00:00</td>\n",
       "      <td>1603171849428508673</td>\n",
       "      <td>@missy_k32 @abdulahiadan10 @safaricom_care @be...</td>\n",
       "      <td>I_im_kibagendi</td>\n",
       "    </tr>\n",
       "    <tr>\n",
       "      <th>3</th>\n",
       "      <td>2022-12-14 23:34:57+00:00</td>\n",
       "      <td>1603171716594692096</td>\n",
       "      <td>@safaricom_care, @safaricomplc  we demand you ...</td>\n",
       "      <td>MutonyeMutuku_</td>\n",
       "    </tr>\n",
       "    <tr>\n",
       "      <th>4</th>\n",
       "      <td>2022-12-14 23:19:59+00:00</td>\n",
       "      <td>1603167951682764800</td>\n",
       "      <td>hey @safaricom_care @safaricomplc ,15th decemb...</td>\n",
       "      <td>ndungujosephn</td>\n",
       "    </tr>\n",
       "    <tr>\n",
       "      <th>5</th>\n",
       "      <td>2022-12-14 23:00:12+00:00</td>\n",
       "      <td>1603162972456640517</td>\n",
       "      <td>@enockmogaka7 @safaricomplc @safaricom_care th...</td>\n",
       "      <td>cellestialtech</td>\n",
       "    </tr>\n",
       "  </tbody>\n",
       "</table>\n",
       "</div>"
      ],
      "text/plain": [
       "                   Datetime             Tweet Id  \\\n",
       "0 2022-12-14 23:47:00+00:00  1603174748451733504   \n",
       "2 2022-12-14 23:35:29+00:00  1603171849428508673   \n",
       "3 2022-12-14 23:34:57+00:00  1603171716594692096   \n",
       "4 2022-12-14 23:19:59+00:00  1603167951682764800   \n",
       "5 2022-12-14 23:00:12+00:00  1603162972456640517   \n",
       "\n",
       "                                                Text        Username  \n",
       "0      ditto @safaricom_care https://t.co/sgk6l3yqhd   OnguruMeister  \n",
       "2  @missy_k32 @abdulahiadan10 @safaricom_care @be...  I_im_kibagendi  \n",
       "3  @safaricom_care, @safaricomplc  we demand you ...  MutonyeMutuku_  \n",
       "4  hey @safaricom_care @safaricomplc ,15th decemb...   ndungujosephn  \n",
       "5  @enockmogaka7 @safaricomplc @safaricom_care th...  cellestialtech  "
      ]
     },
     "execution_count": 64,
     "metadata": {},
     "output_type": "execute_result"
    }
   ],
   "source": [
    "tweets_df.head()"
   ]
  },
  {
   "cell_type": "code",
   "execution_count": 65,
   "metadata": {},
   "outputs": [],
   "source": [
    "# Defining functions to clean data\n",
    "def remove_links(tweet):\n",
    "    \"\"\"Takes in a string and removes weblinks from it\"\"\"\n",
    "    tweet = re.sub(r\"https\\S+\",\" \",tweet)\n",
    "    tweet = re.sub(r\"bit.ly/\\S+\", \" \",tweet)\n",
    "    return tweet\n",
    "def remove_user(tweet):\n",
    "    \"\"\"Takes in a string and removes @user information from it\"\"\"\n",
    "    tweet = re.sub('(rt\\s@[a-z]+[a-z0-9-_]+)', '',tweet)\n",
    "    tweet = re.sub('(@[a-z]+[a-z0-9-_]+)', '',tweet)\n",
    "    # tweet = re.sub(\"(sxsw)\",\" \",tweet)\n",
    "    # tweet = re.sub(\"(link)\",\" \",tweet)\n",
    "    return tweet\n",
    "def remove_hasgtags(tweet):\n",
    "    \"\"\"Takes in a string and removes @user information from it\"\"\"\n",
    "    tweeet = re.sub('(#[a-z]+[a-z0-9-_]+)', '',tweet)\n",
    "    return tweet\n",
    "def basic_clean(tweet):\n",
    "    \"\"\"Returns cleaned data, remove punctuation and numbers\"\"\"\n",
    "    tweet = remove_user(tweet)\n",
    "    tweet = remove_links(tweet)\n",
    "    tweet = remove_hasgtags(tweet)\n",
    "    tweet = re.sub('['+ string.punctuation+ ']+', '',tweet) # Removes punctuation\n",
    "    tweet = re.sub('([0-9]+)',\" \",tweet) # Removes numbers\n",
    "    return tweet\n"
   ]
  },
  {
   "cell_type": "code",
   "execution_count": 66,
   "metadata": {},
   "outputs": [],
   "source": [
    "ls1=[]\n",
    "for i in tweets_df[\"Text\"]:\n",
    "    ls1.append(basic_clean(i))\n",
    "\n",
    "tweets_df['cleaned tweets']=ls1\n",
    "    "
   ]
  },
  {
   "cell_type": "code",
   "execution_count": 67,
   "metadata": {},
   "outputs": [
    {
     "data": {
      "text/html": [
       "<div>\n",
       "<style scoped>\n",
       "    .dataframe tbody tr th:only-of-type {\n",
       "        vertical-align: middle;\n",
       "    }\n",
       "\n",
       "    .dataframe tbody tr th {\n",
       "        vertical-align: top;\n",
       "    }\n",
       "\n",
       "    .dataframe thead th {\n",
       "        text-align: right;\n",
       "    }\n",
       "</style>\n",
       "<table border=\"1\" class=\"dataframe\">\n",
       "  <thead>\n",
       "    <tr style=\"text-align: right;\">\n",
       "      <th></th>\n",
       "      <th>Datetime</th>\n",
       "      <th>Tweet Id</th>\n",
       "      <th>Text</th>\n",
       "      <th>Username</th>\n",
       "      <th>cleaned tweets</th>\n",
       "    </tr>\n",
       "  </thead>\n",
       "  <tbody>\n",
       "    <tr>\n",
       "      <th>0</th>\n",
       "      <td>2022-12-14 23:47:00+00:00</td>\n",
       "      <td>1603174748451733504</td>\n",
       "      <td>ditto @safaricom_care https://t.co/sgk6l3yqhd</td>\n",
       "      <td>OnguruMeister</td>\n",
       "      <td>ditto</td>\n",
       "    </tr>\n",
       "    <tr>\n",
       "      <th>2</th>\n",
       "      <td>2022-12-14 23:35:29+00:00</td>\n",
       "      <td>1603171849428508673</td>\n",
       "      <td>@missy_k32 @abdulahiadan10 @safaricom_care @be...</td>\n",
       "      <td>I_im_kibagendi</td>\n",
       "      <td>i can see you have started and clearly thi...</td>\n",
       "    </tr>\n",
       "    <tr>\n",
       "      <th>3</th>\n",
       "      <td>2022-12-14 23:34:57+00:00</td>\n",
       "      <td>1603171716594692096</td>\n",
       "      <td>@safaricom_care, @safaricomplc  we demand you ...</td>\n",
       "      <td>MutonyeMutuku_</td>\n",
       "      <td>we demand you issue a statement concerning ...</td>\n",
       "    </tr>\n",
       "    <tr>\n",
       "      <th>4</th>\n",
       "      <td>2022-12-14 23:19:59+00:00</td>\n",
       "      <td>1603167951682764800</td>\n",
       "      <td>hey @safaricom_care @safaricomplc ,15th decemb...</td>\n",
       "      <td>ndungujosephn</td>\n",
       "      <td>hey    th december is my birthday i can see it...</td>\n",
       "    </tr>\n",
       "    <tr>\n",
       "      <th>5</th>\n",
       "      <td>2022-12-14 23:00:12+00:00</td>\n",
       "      <td>1603162972456640517</td>\n",
       "      <td>@enockmogaka7 @safaricomplc @safaricom_care th...</td>\n",
       "      <td>cellestialtech</td>\n",
       "      <td>the man is dead  you buggers still holding ...</td>\n",
       "    </tr>\n",
       "  </tbody>\n",
       "</table>\n",
       "</div>"
      ],
      "text/plain": [
       "                   Datetime             Tweet Id  \\\n",
       "0 2022-12-14 23:47:00+00:00  1603174748451733504   \n",
       "2 2022-12-14 23:35:29+00:00  1603171849428508673   \n",
       "3 2022-12-14 23:34:57+00:00  1603171716594692096   \n",
       "4 2022-12-14 23:19:59+00:00  1603167951682764800   \n",
       "5 2022-12-14 23:00:12+00:00  1603162972456640517   \n",
       "\n",
       "                                                Text        Username  \\\n",
       "0      ditto @safaricom_care https://t.co/sgk6l3yqhd   OnguruMeister   \n",
       "2  @missy_k32 @abdulahiadan10 @safaricom_care @be...  I_im_kibagendi   \n",
       "3  @safaricom_care, @safaricomplc  we demand you ...  MutonyeMutuku_   \n",
       "4  hey @safaricom_care @safaricomplc ,15th decemb...   ndungujosephn   \n",
       "5  @enockmogaka7 @safaricomplc @safaricom_care th...  cellestialtech   \n",
       "\n",
       "                                      cleaned tweets  \n",
       "0                                           ditto     \n",
       "2      i can see you have started and clearly thi...  \n",
       "3     we demand you issue a statement concerning ...  \n",
       "4  hey    th december is my birthday i can see it...  \n",
       "5     the man is dead  you buggers still holding ...  "
      ]
     },
     "execution_count": 67,
     "metadata": {},
     "output_type": "execute_result"
    }
   ],
   "source": [
    "tweets_df.head()"
   ]
  },
  {
   "cell_type": "code",
   "execution_count": 68,
   "metadata": {},
   "outputs": [
    {
     "data": {
      "text/html": [
       "<div>\n",
       "<style scoped>\n",
       "    .dataframe tbody tr th:only-of-type {\n",
       "        vertical-align: middle;\n",
       "    }\n",
       "\n",
       "    .dataframe tbody tr th {\n",
       "        vertical-align: top;\n",
       "    }\n",
       "\n",
       "    .dataframe thead th {\n",
       "        text-align: right;\n",
       "    }\n",
       "</style>\n",
       "<table border=\"1\" class=\"dataframe\">\n",
       "  <thead>\n",
       "    <tr style=\"text-align: right;\">\n",
       "      <th></th>\n",
       "      <th>Datetime</th>\n",
       "      <th>cleaned tweets</th>\n",
       "    </tr>\n",
       "  </thead>\n",
       "  <tbody>\n",
       "    <tr>\n",
       "      <th>0</th>\n",
       "      <td>2022-12-14 23:47:00+00:00</td>\n",
       "      <td>ditto</td>\n",
       "    </tr>\n",
       "    <tr>\n",
       "      <th>2</th>\n",
       "      <td>2022-12-14 23:35:29+00:00</td>\n",
       "      <td>i can see you have started and clearly thi...</td>\n",
       "    </tr>\n",
       "    <tr>\n",
       "      <th>3</th>\n",
       "      <td>2022-12-14 23:34:57+00:00</td>\n",
       "      <td>we demand you issue a statement concerning ...</td>\n",
       "    </tr>\n",
       "    <tr>\n",
       "      <th>4</th>\n",
       "      <td>2022-12-14 23:19:59+00:00</td>\n",
       "      <td>hey    th december is my birthday i can see it...</td>\n",
       "    </tr>\n",
       "    <tr>\n",
       "      <th>5</th>\n",
       "      <td>2022-12-14 23:00:12+00:00</td>\n",
       "      <td>the man is dead  you buggers still holding ...</td>\n",
       "    </tr>\n",
       "  </tbody>\n",
       "</table>\n",
       "</div>"
      ],
      "text/plain": [
       "                   Datetime                                     cleaned tweets\n",
       "0 2022-12-14 23:47:00+00:00                                           ditto   \n",
       "2 2022-12-14 23:35:29+00:00      i can see you have started and clearly thi...\n",
       "3 2022-12-14 23:34:57+00:00     we demand you issue a statement concerning ...\n",
       "4 2022-12-14 23:19:59+00:00  hey    th december is my birthday i can see it...\n",
       "5 2022-12-14 23:00:12+00:00     the man is dead  you buggers still holding ..."
      ]
     },
     "execution_count": 68,
     "metadata": {},
     "output_type": "execute_result"
    }
   ],
   "source": [
    "df = tweets_df[['Datetime', 'cleaned tweets']]\n",
    "df.head()"
   ]
  },
  {
   "cell_type": "code",
   "execution_count": 69,
   "metadata": {},
   "outputs": [
    {
     "data": {
      "text/plain": [
       "general    14212\n",
       "credit       388\n",
       "mpesa        160\n",
       "fibre         26\n",
       "Name: LikeCount, dtype: int64"
      ]
     },
     "execution_count": 69,
     "metadata": {},
     "output_type": "execute_result"
    }
   ],
   "source": [
    "mpesa = {\"pesa\", \"m-pesa\", \"esa\", 'send money'}\n",
    "airtime = {\"credit\", \"card\",'credo', 'credit', 'airtime'}\n",
    "fibre = {'home fibre', 'faiba','safaricom home'}\n",
    "def label_tweet(tweet):\n",
    "    if mpesa.intersection(tweet.split(\" \")):\n",
    "        return \"mpesa\"\n",
    "    elif airtime.intersection(tweet.split(\" \")):\n",
    "        return \"credit\"\n",
    "    elif fibre.intersection(tweet.split(\" \")):\n",
    "        return \"fibre\"\n",
    "    else:\n",
    "        return \"general\"\n",
    "# Add a new column to the dataframe with the labels for each tweet\n",
    "df[\"LikeCount\"] = df['cleaned tweets'].apply(label_tweet)\n",
    "df[\"LikeCount\"].value_counts()\n"
   ]
  },
  {
   "cell_type": "code",
   "execution_count": null,
   "metadata": {},
   "outputs": [],
   "source": []
  }
 ],
 "metadata": {
  "kernelspec": {
   "display_name": "Python (learn-env)",
   "language": "python",
   "name": "learn-env"
  },
  "language_info": {
   "codemirror_mode": {
    "name": "ipython",
    "version": 3
   },
   "file_extension": ".py",
   "mimetype": "text/x-python",
   "name": "python",
   "nbconvert_exporter": "python",
   "pygments_lexer": "ipython3",
   "version": "3.8.5"
  }
 },
 "nbformat": 4,
 "nbformat_minor": 4
}
