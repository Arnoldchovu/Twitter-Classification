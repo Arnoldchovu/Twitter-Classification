{
  "cells": [
    {
      "cell_type": "markdown",
      "metadata": {
        "id": "MDGRtTzm7qjp"
      },
      "source": [
        "# Twitter API"
      ]
    },
    {
      "cell_type": "markdown",
      "metadata": {
        "id": "oscm0vHr7qjs"
      },
      "source": [
        "## 1. Business Understanding"
      ]
    },
    {
      "cell_type": "code",
      "source": [],
      "metadata": {
        "id": "hzAhsd7ujLII"
      },
      "execution_count": null,
      "outputs": []
    },
    {
      "cell_type": "markdown",
      "metadata": {
        "id": "8d_WnZb07qjt"
      },
      "source": [
        "### 1.1 Overview"
      ]
    },
    {
      "cell_type": "markdown",
      "metadata": {
        "id": "bTNmX_H87qjt"
      },
      "source": [
        "### 1.2 Problem Statement"
      ]
    },
    {
      "cell_type": "markdown",
      "metadata": {
        "id": "0e_0tVe-7qjt"
      },
      "source": [
        "### 1.3 Business Objectives"
      ]
    },
    {
      "cell_type": "markdown",
      "metadata": {
        "id": "NRPDUkeG7qju"
      },
      "source": [
        "### 1.4 Business Success Criteria"
      ]
    },
    {
      "cell_type": "markdown",
      "metadata": {
        "id": "NGSZ25gM7qju"
      },
      "source": [
        "## 2. Data Understanding"
      ]
    },
    {
      "cell_type": "markdown",
      "metadata": {
        "id": "6XioRZFJ7qju"
      },
      "source": [
        "### 2.1 Collecting the Data"
      ]
    },
    {
      "cell_type": "code",
      "execution_count": 111,
      "metadata": {
        "colab": {
          "base_uri": "https://localhost:8080/"
        },
        "id": "8iHj_J0C7qjv",
        "outputId": "f3e68f15-b909-4c45-e5e0-ef8623b5476d"
      },
      "outputs": [
        {
          "output_type": "stream",
          "name": "stderr",
          "text": [
            "[nltk_data] Downloading package stopwords to /root/nltk_data...\n",
            "[nltk_data]   Package stopwords is already up-to-date!\n"
          ]
        }
      ],
      "source": [
        "#Importing the libraries\n",
        "import datetime\n",
        "import numpy as np\n",
        "import pandas as pd\n",
        "import seaborn as sns\n",
        "#import snscrape.modules.twitter as sntwitter\n",
        "from nltk.corpus import stopwords\n",
        "import nltk\n",
        "nltk.download('stopwords')\n",
        "import warnings\n",
        "import re \n",
        "import string\n",
        "import wordninja \n",
        "from textblob import Word\n",
        "from textblob import TextBlob\n",
        "import matplotlib.pyplot as plt\n",
        "from wordcloud import WordCloud\n",
        "warnings.filterwarnings(\"ignore\")"
      ]
    },
    {
      "cell_type": "code",
      "source": [
        "# ! pip install textblob\n",
        "# ! pip install wordninja\n",
        "# ! pip install sntwitter"
      ],
      "metadata": {
        "id": "IG5zUIyt_58j"
      },
      "execution_count": 112,
      "outputs": []
    },
    {
      "cell_type": "code",
      "execution_count": 113,
      "metadata": {
        "scrolled": true,
        "colab": {
          "base_uri": "https://localhost:8080/",
          "height": 206
        },
        "id": "Y_zfmrfT7qjx",
        "outputId": "eacce1bb-a022-41fa-8ca1-970dd9226548"
      },
      "outputs": [
        {
          "output_type": "execute_result",
          "data": {
            "text/plain": [
              "                    Datetime             Tweet Id  \\\n",
              "0  2022-12-14 23:47:00+00:00  1603174748451733504   \n",
              "1  2022-12-14 23:41:18+00:00  1603173313052037120   \n",
              "2  2022-12-14 23:35:29+00:00  1603171849428508673   \n",
              "3  2022-12-14 23:34:57+00:00  1603171716594692096   \n",
              "4  2022-12-14 23:19:59+00:00  1603167951682764800   \n",
              "\n",
              "                                                Text        Username  \\\n",
              "0      Ditto @Safaricom_Care https://t.co/SgK6L3YQhd   OnguruMeister   \n",
              "1  @ital_john Hello John, the deadline was Octobe...  Safaricom_Care   \n",
              "2  @missy_k32 @AbdulahiAdan10 @Safaricom_Care @be...  I_im_kibagendi   \n",
              "3  @Safaricom_Care, @SafaricomPLC  we demand you ...  MutonyeMutuku_   \n",
              "4  Hey @Safaricom_Care @SafaricomPLC ,15th Decemb...   ndungujosephn   \n",
              "\n",
              "   LikeCount  \n",
              "0          0  \n",
              "1          0  \n",
              "2          0  \n",
              "3          2  \n",
              "4          0  "
            ],
            "text/html": [
              "\n",
              "  <div id=\"df-d9ff78d5-7b44-42ed-8572-50ddfd09aa5e\">\n",
              "    <div class=\"colab-df-container\">\n",
              "      <div>\n",
              "<style scoped>\n",
              "    .dataframe tbody tr th:only-of-type {\n",
              "        vertical-align: middle;\n",
              "    }\n",
              "\n",
              "    .dataframe tbody tr th {\n",
              "        vertical-align: top;\n",
              "    }\n",
              "\n",
              "    .dataframe thead th {\n",
              "        text-align: right;\n",
              "    }\n",
              "</style>\n",
              "<table border=\"1\" class=\"dataframe\">\n",
              "  <thead>\n",
              "    <tr style=\"text-align: right;\">\n",
              "      <th></th>\n",
              "      <th>Datetime</th>\n",
              "      <th>Tweet Id</th>\n",
              "      <th>Text</th>\n",
              "      <th>Username</th>\n",
              "      <th>LikeCount</th>\n",
              "    </tr>\n",
              "  </thead>\n",
              "  <tbody>\n",
              "    <tr>\n",
              "      <th>0</th>\n",
              "      <td>2022-12-14 23:47:00+00:00</td>\n",
              "      <td>1603174748451733504</td>\n",
              "      <td>Ditto @Safaricom_Care https://t.co/SgK6L3YQhd</td>\n",
              "      <td>OnguruMeister</td>\n",
              "      <td>0</td>\n",
              "    </tr>\n",
              "    <tr>\n",
              "      <th>1</th>\n",
              "      <td>2022-12-14 23:41:18+00:00</td>\n",
              "      <td>1603173313052037120</td>\n",
              "      <td>@ital_john Hello John, the deadline was Octobe...</td>\n",
              "      <td>Safaricom_Care</td>\n",
              "      <td>0</td>\n",
              "    </tr>\n",
              "    <tr>\n",
              "      <th>2</th>\n",
              "      <td>2022-12-14 23:35:29+00:00</td>\n",
              "      <td>1603171849428508673</td>\n",
              "      <td>@missy_k32 @AbdulahiAdan10 @Safaricom_Care @be...</td>\n",
              "      <td>I_im_kibagendi</td>\n",
              "      <td>0</td>\n",
              "    </tr>\n",
              "    <tr>\n",
              "      <th>3</th>\n",
              "      <td>2022-12-14 23:34:57+00:00</td>\n",
              "      <td>1603171716594692096</td>\n",
              "      <td>@Safaricom_Care, @SafaricomPLC  we demand you ...</td>\n",
              "      <td>MutonyeMutuku_</td>\n",
              "      <td>2</td>\n",
              "    </tr>\n",
              "    <tr>\n",
              "      <th>4</th>\n",
              "      <td>2022-12-14 23:19:59+00:00</td>\n",
              "      <td>1603167951682764800</td>\n",
              "      <td>Hey @Safaricom_Care @SafaricomPLC ,15th Decemb...</td>\n",
              "      <td>ndungujosephn</td>\n",
              "      <td>0</td>\n",
              "    </tr>\n",
              "  </tbody>\n",
              "</table>\n",
              "</div>\n",
              "      <button class=\"colab-df-convert\" onclick=\"convertToInteractive('df-d9ff78d5-7b44-42ed-8572-50ddfd09aa5e')\"\n",
              "              title=\"Convert this dataframe to an interactive table.\"\n",
              "              style=\"display:none;\">\n",
              "        \n",
              "  <svg xmlns=\"http://www.w3.org/2000/svg\" height=\"24px\"viewBox=\"0 0 24 24\"\n",
              "       width=\"24px\">\n",
              "    <path d=\"M0 0h24v24H0V0z\" fill=\"none\"/>\n",
              "    <path d=\"M18.56 5.44l.94 2.06.94-2.06 2.06-.94-2.06-.94-.94-2.06-.94 2.06-2.06.94zm-11 1L8.5 8.5l.94-2.06 2.06-.94-2.06-.94L8.5 2.5l-.94 2.06-2.06.94zm10 10l.94 2.06.94-2.06 2.06-.94-2.06-.94-.94-2.06-.94 2.06-2.06.94z\"/><path d=\"M17.41 7.96l-1.37-1.37c-.4-.4-.92-.59-1.43-.59-.52 0-1.04.2-1.43.59L10.3 9.45l-7.72 7.72c-.78.78-.78 2.05 0 2.83L4 21.41c.39.39.9.59 1.41.59.51 0 1.02-.2 1.41-.59l7.78-7.78 2.81-2.81c.8-.78.8-2.07 0-2.86zM5.41 20L4 18.59l7.72-7.72 1.47 1.35L5.41 20z\"/>\n",
              "  </svg>\n",
              "      </button>\n",
              "      \n",
              "  <style>\n",
              "    .colab-df-container {\n",
              "      display:flex;\n",
              "      flex-wrap:wrap;\n",
              "      gap: 12px;\n",
              "    }\n",
              "\n",
              "    .colab-df-convert {\n",
              "      background-color: #E8F0FE;\n",
              "      border: none;\n",
              "      border-radius: 50%;\n",
              "      cursor: pointer;\n",
              "      display: none;\n",
              "      fill: #1967D2;\n",
              "      height: 32px;\n",
              "      padding: 0 0 0 0;\n",
              "      width: 32px;\n",
              "    }\n",
              "\n",
              "    .colab-df-convert:hover {\n",
              "      background-color: #E2EBFA;\n",
              "      box-shadow: 0px 1px 2px rgba(60, 64, 67, 0.3), 0px 1px 3px 1px rgba(60, 64, 67, 0.15);\n",
              "      fill: #174EA6;\n",
              "    }\n",
              "\n",
              "    [theme=dark] .colab-df-convert {\n",
              "      background-color: #3B4455;\n",
              "      fill: #D2E3FC;\n",
              "    }\n",
              "\n",
              "    [theme=dark] .colab-df-convert:hover {\n",
              "      background-color: #434B5C;\n",
              "      box-shadow: 0px 1px 3px 1px rgba(0, 0, 0, 0.15);\n",
              "      filter: drop-shadow(0px 1px 2px rgba(0, 0, 0, 0.3));\n",
              "      fill: #FFFFFF;\n",
              "    }\n",
              "  </style>\n",
              "\n",
              "      <script>\n",
              "        const buttonEl =\n",
              "          document.querySelector('#df-d9ff78d5-7b44-42ed-8572-50ddfd09aa5e button.colab-df-convert');\n",
              "        buttonEl.style.display =\n",
              "          google.colab.kernel.accessAllowed ? 'block' : 'none';\n",
              "\n",
              "        async function convertToInteractive(key) {\n",
              "          const element = document.querySelector('#df-d9ff78d5-7b44-42ed-8572-50ddfd09aa5e');\n",
              "          const dataTable =\n",
              "            await google.colab.kernel.invokeFunction('convertToInteractive',\n",
              "                                                     [key], {});\n",
              "          if (!dataTable) return;\n",
              "\n",
              "          const docLinkHtml = 'Like what you see? Visit the ' +\n",
              "            '<a target=\"_blank\" href=https://colab.research.google.com/notebooks/data_table.ipynb>data table notebook</a>'\n",
              "            + ' to learn more about interactive tables.';\n",
              "          element.innerHTML = '';\n",
              "          dataTable['output_type'] = 'display_data';\n",
              "          await google.colab.output.renderOutput(dataTable, element);\n",
              "          const docLink = document.createElement('div');\n",
              "          docLink.innerHTML = docLinkHtml;\n",
              "          element.appendChild(docLink);\n",
              "        }\n",
              "      </script>\n",
              "    </div>\n",
              "  </div>\n",
              "  "
            ]
          },
          "metadata": {},
          "execution_count": 113
        }
      ],
      "source": [
        "#Loading the data set\n",
        "tweets_df = pd.read_csv('/content/drive/MyDrive/tweaks/1MillTweets.csv')\n",
        "tweets_df.head()"
      ]
    },
    {
      "cell_type": "markdown",
      "metadata": {
        "id": "B_YB5It47qjx"
      },
      "source": [
        "### 2.2 Describing the Data"
      ]
    },
    {
      "cell_type": "markdown",
      "metadata": {
        "id": "YfcPUlH27qjx"
      },
      "source": [
        "#### 2.2.1 Description of the columns in the data set:\n",
        "\n",
        "> * Datetime - This refers to the date of the tweet\n",
        "\n",
        "> * Tweet Id - This refers to the unique id of the tweet\n",
        "\n",
        "> * Text - This refers to the actual text in the tweet\n",
        "\n",
        "> * Username - This refers to the name of the user who commented\n",
        "\n",
        "> * Like Count -This refers to the number of likes a tweet receives"
      ]
    },
    {
      "cell_type": "markdown",
      "metadata": {
        "id": "hxHT9Tj37qjy"
      },
      "source": [
        "#### 2.2.2 Description of the size, statistics and data type"
      ]
    },
    {
      "cell_type": "code",
      "execution_count": 114,
      "metadata": {
        "id": "DC2Va1O67qjy"
      },
      "outputs": [],
      "source": [
        "# creating a class that we will use to describe the data\n",
        "\n",
        "class describing_the_data(object):\n",
        "      def __init__(self, df):\n",
        "        self.info = df.info\n",
        "        self.shape = df.shape\n",
        "        self.describe = df.describe()\n",
        "        self.duplicates = df.duplicated().sum()\n",
        "        self.missing = df.isna().sum()"
      ]
    },
    {
      "cell_type": "code",
      "execution_count": 115,
      "metadata": {
        "id": "UQgYIpTT7qjy"
      },
      "outputs": [],
      "source": [
        "#Instantiating the class\n",
        "data_description = describing_the_data(tweets_df)"
      ]
    },
    {
      "cell_type": "code",
      "execution_count": 116,
      "metadata": {
        "colab": {
          "base_uri": "https://localhost:8080/"
        },
        "id": "bcWL6jjO7qjy",
        "outputId": "39347a90-6ac2-41f1-e843-2918ea13a7f6"
      },
      "outputs": [
        {
          "output_type": "stream",
          "name": "stdout",
          "text": [
            "<class 'pandas.core.frame.DataFrame'>\n",
            "RangeIndex: 1000001 entries, 0 to 1000000\n",
            "Data columns (total 5 columns):\n",
            " #   Column     Non-Null Count    Dtype \n",
            "---  ------     --------------    ----- \n",
            " 0   Datetime   1000001 non-null  object\n",
            " 1   Tweet Id   1000001 non-null  int64 \n",
            " 2   Text       1000001 non-null  object\n",
            " 3   Username   1000001 non-null  object\n",
            " 4   LikeCount  1000001 non-null  int64 \n",
            "dtypes: int64(2), object(3)\n",
            "memory usage: 38.1+ MB\n"
          ]
        }
      ],
      "source": [
        "# describe the data type of the columns\n",
        "data_description.info()"
      ]
    },
    {
      "cell_type": "code",
      "execution_count": 117,
      "metadata": {
        "colab": {
          "base_uri": "https://localhost:8080/"
        },
        "id": "2bS58jvx7qjz",
        "outputId": "c44ba28e-0efe-4461-a78a-f34ee3d582d1"
      },
      "outputs": [
        {
          "output_type": "execute_result",
          "data": {
            "text/plain": [
              "(1000001, 5)"
            ]
          },
          "metadata": {},
          "execution_count": 117
        }
      ],
      "source": [
        "#shape of the data\n",
        "data_description.shape"
      ]
    },
    {
      "cell_type": "code",
      "execution_count": 118,
      "metadata": {
        "colab": {
          "base_uri": "https://localhost:8080/",
          "height": 300
        },
        "id": "2ZshknkI7qjz",
        "outputId": "48ad5aa9-4f37-435e-9319-186bc644320c"
      },
      "outputs": [
        {
          "output_type": "execute_result",
          "data": {
            "text/plain": [
              "           Tweet Id     LikeCount\n",
              "count  1.000001e+06  1.000001e+06\n",
              "mean   1.342273e+18  7.958292e-01\n",
              "std    1.550978e+17  2.739744e+01\n",
              "min    1.055776e+18  0.000000e+00\n",
              "25%    1.226837e+18  0.000000e+00\n",
              "50%    1.322460e+18  0.000000e+00\n",
              "75%    1.475853e+18  0.000000e+00\n",
              "max    1.603175e+18  1.028200e+04"
            ],
            "text/html": [
              "\n",
              "  <div id=\"df-28668f58-7cf5-4ee6-a8be-09ae69858eec\">\n",
              "    <div class=\"colab-df-container\">\n",
              "      <div>\n",
              "<style scoped>\n",
              "    .dataframe tbody tr th:only-of-type {\n",
              "        vertical-align: middle;\n",
              "    }\n",
              "\n",
              "    .dataframe tbody tr th {\n",
              "        vertical-align: top;\n",
              "    }\n",
              "\n",
              "    .dataframe thead th {\n",
              "        text-align: right;\n",
              "    }\n",
              "</style>\n",
              "<table border=\"1\" class=\"dataframe\">\n",
              "  <thead>\n",
              "    <tr style=\"text-align: right;\">\n",
              "      <th></th>\n",
              "      <th>Tweet Id</th>\n",
              "      <th>LikeCount</th>\n",
              "    </tr>\n",
              "  </thead>\n",
              "  <tbody>\n",
              "    <tr>\n",
              "      <th>count</th>\n",
              "      <td>1.000001e+06</td>\n",
              "      <td>1.000001e+06</td>\n",
              "    </tr>\n",
              "    <tr>\n",
              "      <th>mean</th>\n",
              "      <td>1.342273e+18</td>\n",
              "      <td>7.958292e-01</td>\n",
              "    </tr>\n",
              "    <tr>\n",
              "      <th>std</th>\n",
              "      <td>1.550978e+17</td>\n",
              "      <td>2.739744e+01</td>\n",
              "    </tr>\n",
              "    <tr>\n",
              "      <th>min</th>\n",
              "      <td>1.055776e+18</td>\n",
              "      <td>0.000000e+00</td>\n",
              "    </tr>\n",
              "    <tr>\n",
              "      <th>25%</th>\n",
              "      <td>1.226837e+18</td>\n",
              "      <td>0.000000e+00</td>\n",
              "    </tr>\n",
              "    <tr>\n",
              "      <th>50%</th>\n",
              "      <td>1.322460e+18</td>\n",
              "      <td>0.000000e+00</td>\n",
              "    </tr>\n",
              "    <tr>\n",
              "      <th>75%</th>\n",
              "      <td>1.475853e+18</td>\n",
              "      <td>0.000000e+00</td>\n",
              "    </tr>\n",
              "    <tr>\n",
              "      <th>max</th>\n",
              "      <td>1.603175e+18</td>\n",
              "      <td>1.028200e+04</td>\n",
              "    </tr>\n",
              "  </tbody>\n",
              "</table>\n",
              "</div>\n",
              "      <button class=\"colab-df-convert\" onclick=\"convertToInteractive('df-28668f58-7cf5-4ee6-a8be-09ae69858eec')\"\n",
              "              title=\"Convert this dataframe to an interactive table.\"\n",
              "              style=\"display:none;\">\n",
              "        \n",
              "  <svg xmlns=\"http://www.w3.org/2000/svg\" height=\"24px\"viewBox=\"0 0 24 24\"\n",
              "       width=\"24px\">\n",
              "    <path d=\"M0 0h24v24H0V0z\" fill=\"none\"/>\n",
              "    <path d=\"M18.56 5.44l.94 2.06.94-2.06 2.06-.94-2.06-.94-.94-2.06-.94 2.06-2.06.94zm-11 1L8.5 8.5l.94-2.06 2.06-.94-2.06-.94L8.5 2.5l-.94 2.06-2.06.94zm10 10l.94 2.06.94-2.06 2.06-.94-2.06-.94-.94-2.06-.94 2.06-2.06.94z\"/><path d=\"M17.41 7.96l-1.37-1.37c-.4-.4-.92-.59-1.43-.59-.52 0-1.04.2-1.43.59L10.3 9.45l-7.72 7.72c-.78.78-.78 2.05 0 2.83L4 21.41c.39.39.9.59 1.41.59.51 0 1.02-.2 1.41-.59l7.78-7.78 2.81-2.81c.8-.78.8-2.07 0-2.86zM5.41 20L4 18.59l7.72-7.72 1.47 1.35L5.41 20z\"/>\n",
              "  </svg>\n",
              "      </button>\n",
              "      \n",
              "  <style>\n",
              "    .colab-df-container {\n",
              "      display:flex;\n",
              "      flex-wrap:wrap;\n",
              "      gap: 12px;\n",
              "    }\n",
              "\n",
              "    .colab-df-convert {\n",
              "      background-color: #E8F0FE;\n",
              "      border: none;\n",
              "      border-radius: 50%;\n",
              "      cursor: pointer;\n",
              "      display: none;\n",
              "      fill: #1967D2;\n",
              "      height: 32px;\n",
              "      padding: 0 0 0 0;\n",
              "      width: 32px;\n",
              "    }\n",
              "\n",
              "    .colab-df-convert:hover {\n",
              "      background-color: #E2EBFA;\n",
              "      box-shadow: 0px 1px 2px rgba(60, 64, 67, 0.3), 0px 1px 3px 1px rgba(60, 64, 67, 0.15);\n",
              "      fill: #174EA6;\n",
              "    }\n",
              "\n",
              "    [theme=dark] .colab-df-convert {\n",
              "      background-color: #3B4455;\n",
              "      fill: #D2E3FC;\n",
              "    }\n",
              "\n",
              "    [theme=dark] .colab-df-convert:hover {\n",
              "      background-color: #434B5C;\n",
              "      box-shadow: 0px 1px 3px 1px rgba(0, 0, 0, 0.15);\n",
              "      filter: drop-shadow(0px 1px 2px rgba(0, 0, 0, 0.3));\n",
              "      fill: #FFFFFF;\n",
              "    }\n",
              "  </style>\n",
              "\n",
              "      <script>\n",
              "        const buttonEl =\n",
              "          document.querySelector('#df-28668f58-7cf5-4ee6-a8be-09ae69858eec button.colab-df-convert');\n",
              "        buttonEl.style.display =\n",
              "          google.colab.kernel.accessAllowed ? 'block' : 'none';\n",
              "\n",
              "        async function convertToInteractive(key) {\n",
              "          const element = document.querySelector('#df-28668f58-7cf5-4ee6-a8be-09ae69858eec');\n",
              "          const dataTable =\n",
              "            await google.colab.kernel.invokeFunction('convertToInteractive',\n",
              "                                                     [key], {});\n",
              "          if (!dataTable) return;\n",
              "\n",
              "          const docLinkHtml = 'Like what you see? Visit the ' +\n",
              "            '<a target=\"_blank\" href=https://colab.research.google.com/notebooks/data_table.ipynb>data table notebook</a>'\n",
              "            + ' to learn more about interactive tables.';\n",
              "          element.innerHTML = '';\n",
              "          dataTable['output_type'] = 'display_data';\n",
              "          await google.colab.output.renderOutput(dataTable, element);\n",
              "          const docLink = document.createElement('div');\n",
              "          docLink.innerHTML = docLinkHtml;\n",
              "          element.appendChild(docLink);\n",
              "        }\n",
              "      </script>\n",
              "    </div>\n",
              "  </div>\n",
              "  "
            ]
          },
          "metadata": {},
          "execution_count": 118
        }
      ],
      "source": [
        "#descriptive statistics of the data\n",
        "data_description.describe"
      ]
    },
    {
      "cell_type": "code",
      "execution_count": 119,
      "metadata": {
        "colab": {
          "base_uri": "https://localhost:8080/"
        },
        "id": "MAEXrX9x7qjz",
        "outputId": "cf1b6ae9-b9db-4bf9-b2e4-d003817165fa"
      },
      "outputs": [
        {
          "output_type": "execute_result",
          "data": {
            "text/plain": [
              "0"
            ]
          },
          "metadata": {},
          "execution_count": 119
        }
      ],
      "source": [
        "#checking for duplicates\n",
        "data_description.duplicates"
      ]
    },
    {
      "cell_type": "code",
      "execution_count": 120,
      "metadata": {
        "colab": {
          "base_uri": "https://localhost:8080/"
        },
        "id": "lV3svihu7qjz",
        "outputId": "53424538-a4c7-44e6-ef7d-ac7beafa2462"
      },
      "outputs": [
        {
          "output_type": "execute_result",
          "data": {
            "text/plain": [
              "Datetime     0\n",
              "Tweet Id     0\n",
              "Text         0\n",
              "Username     0\n",
              "LikeCount    0\n",
              "dtype: int64"
            ]
          },
          "metadata": {},
          "execution_count": 120
        }
      ],
      "source": [
        "#checking for missing values\n",
        "data_description.missing"
      ]
    },
    {
      "cell_type": "markdown",
      "metadata": {
        "id": "ZadOvmCJ7qjz"
      },
      "source": [
        "## 3. Data Preparation"
      ]
    },
    {
      "cell_type": "markdown",
      "metadata": {
        "id": "6arBoxe57qjz"
      },
      "source": [
        "### 3.1 Data Cleaning"
      ]
    },
    {
      "cell_type": "code",
      "execution_count": 121,
      "metadata": {
        "id": "WA0pJPJI7qj0"
      },
      "outputs": [],
      "source": [
        "#Removing Tweets by Safaricom in order to have tweets from their customers only\n",
        "tweets_df = tweets_df[tweets_df['Username'] != 'Safaricom_Care']"
      ]
    },
    {
      "cell_type": "code",
      "execution_count": 122,
      "metadata": {
        "id": "YxmHgs4l7qj0"
      },
      "outputs": [],
      "source": [
        "#Instantiating the class\n",
        "data_description_2 = describing_the_data(tweets_df)"
      ]
    },
    {
      "cell_type": "code",
      "execution_count": 123,
      "metadata": {
        "colab": {
          "base_uri": "https://localhost:8080/"
        },
        "id": "rwQKDvN87qj0",
        "outputId": "ad50955f-0680-41da-9b1f-f372d154c123"
      },
      "outputs": [
        {
          "output_type": "execute_result",
          "data": {
            "text/plain": [
              "(740364, 5)"
            ]
          },
          "metadata": {},
          "execution_count": 123
        }
      ],
      "source": [
        "data_description_2.shape"
      ]
    },
    {
      "cell_type": "code",
      "execution_count": 124,
      "metadata": {
        "id": "nsMIMuid7qj0"
      },
      "outputs": [],
      "source": [
        "# Defining functions to clean data\n",
        "def lower_case(tweet):\n",
        "    tweet = tweet.lower() \n",
        "    return tweet\n",
        "\n",
        "# def tokenization(tweet):\n",
        "#     tweet = tweet.split() \n",
        "\n",
        "# def \n",
        "\n",
        "def remove_links(tweet):\n",
        "    tweet = re.sub(r\"https\\S+\",\" \",tweet) #removes weblinks\n",
        "    tweet = re.sub(r\"bit.ly/\\S+\", \" \",tweet) #removes weblinks\n",
        "    return tweet\n",
        "\n",
        "def remove_user(tweet):\n",
        "    tweet = re.sub('(rt\\s@[a-z]+[a-z0-9-_]+)', '',str(tweet)) #removes @user information\n",
        "    tweet = re.sub('(@[a-z]+[a-z0-9-_]+)', '',str(tweet))#removes @user information\n",
        "    return tweet\n",
        "\n",
        "    # tweet = re.sub(\"(sxsw)\",\" \",tweet)\n",
        "    # tweet = re.sub(\"(link)\",\" \",tweet)\n",
        "# def remove_user(tweet):\n",
        "#     tweet = re.sub('(rt\\s@[a-z]+[a-z0-9-_]+)', '',tweet) #removes @user information\n",
        "#     tweet = re.sub('(@[a-z]+[a-z0-9-_]+)', '',tweet) #removes @user information\n",
        "#     # tweet = re.sub(\"(sxsw)\",\" \",tweet)\n",
        "#     # tweet = re.sub(\"(link)\",\" \",tweet)\n",
        "   \n",
        "def remove_hashtags(tweet):\n",
        "    tweeet = re.sub('(#[a-z]+[a-z0-9-_]+)', '',tweet) #removes the hashtags\n",
        "    return tweet\n",
        "def deEmojify(text):\n",
        "    regrex_pattern = re.compile(pattern = \"[\"\n",
        "        u\"\\U0001F600-\\U0001F64F\"  # emoticons\n",
        "        u\"\\U0001F300-\\U0001F5FF\"  # symbols & pictographs\n",
        "        u\"\\U0001F680-\\U0001F6FF\"  # transport & map symbols\n",
        "        u\"\\U0001F1E0-\\U0001F1FF\"  # flags (iOS)\n",
        "                           \"]+\", flags = re.UNICODE)\n",
        "    return regrex_pattern.sub(r'',text)\n",
        "\n",
        "# def remove_stopwords(tweet):\n",
        "#     stop_words = stopwords.words('english')\n",
        "#     new_stopwords = [\"dm\", \"check\", \"kindly\", \"please\", \"na\" , \"ni\", \"get\" , \"ya\", \"hello\", \"still\", \"need\", \"cant\", \"help\", \n",
        "#                  \"even\",\"hey\", \"like\", \"issue\", \"whats\", \"hii\", \"since\", \"hi\", \"kwa\", \"using\", \"dont\", \"assist\", \"im\", \"know\", \n",
        "#                  \"people\", \"someone\", \"thanks\", \"thank\", \"waiting\", \"today\", \"ive\", \"want\", \"us\", \"use\", \"ama\", \"without\", \n",
        "#                  \"trying\", \"guys\", \"happening\"]\n",
        "#     stop_words.extend(new_stopwords)\n",
        "#     tweet = tweet.join(word for word in tweet.split () if word not in (stop_words))\n",
        "#     return tweet\n",
        "\n",
        "def basic_clean(tweet):\n",
        "    \"\"\"Returns cleaned data, remove punctuation and numbers\"\"\"\n",
        "    tweet = lower_case(tweet)\n",
        "#     tweet = tokenization(tweet)\n",
        "    tweet = remove_user(tweet)\n",
        "    tweet = remove_links(tweet)\n",
        "    tweet = remove_hashtags(tweet)\n",
        "    tweet = deEmojify(tweet)\n",
        "#     tweet = remove_stopwords(tweet)\n",
        "    tweet = re.sub('['+ string.punctuation+ ']+', '',tweet) # Removes punctuation\n",
        "    tweet = re.sub('([0-9]+)',\" \",tweet) # Removes numbers\n",
        "    return tweet\n"
      ]
    },
    {
      "cell_type": "code",
      "execution_count": 125,
      "metadata": {
        "id": "6HArrR2O7qj0"
      },
      "outputs": [],
      "source": [
        "#creating a new column with the clean tweets\n",
        "clean_data=[]\n",
        "for i in tweets_df[\"Text\"]:\n",
        "    clean_data.append(basic_clean(i))\n",
        "\n",
        "tweets_df['Clean_Tweets']=clean_data\n",
        "    "
      ]
    },
    {
      "cell_type": "code",
      "execution_count": 126,
      "metadata": {
        "colab": {
          "base_uri": "https://localhost:8080/",
          "height": 250
        },
        "id": "YePNBbpn7qj0",
        "outputId": "c1443fbd-180f-4610-87b2-79cc12c94bb8"
      },
      "outputs": [
        {
          "output_type": "execute_result",
          "data": {
            "text/plain": [
              "                    Datetime             Tweet Id  \\\n",
              "0  2022-12-14 23:47:00+00:00  1603174748451733504   \n",
              "2  2022-12-14 23:35:29+00:00  1603171849428508673   \n",
              "3  2022-12-14 23:34:57+00:00  1603171716594692096   \n",
              "4  2022-12-14 23:19:59+00:00  1603167951682764800   \n",
              "5  2022-12-14 23:00:12+00:00  1603162972456640517   \n",
              "\n",
              "                                                Text        Username  \\\n",
              "0      Ditto @Safaricom_Care https://t.co/SgK6L3YQhd   OnguruMeister   \n",
              "2  @missy_k32 @AbdulahiAdan10 @Safaricom_Care @be...  I_im_kibagendi   \n",
              "3  @Safaricom_Care, @SafaricomPLC  we demand you ...  MutonyeMutuku_   \n",
              "4  Hey @Safaricom_Care @SafaricomPLC ,15th Decemb...   ndungujosephn   \n",
              "5  @enockmogaka7 @SafaricomPLC @Safaricom_Care Th...  cellestialtech   \n",
              "\n",
              "   LikeCount                                       Clean_Tweets  \n",
              "0          0                                           ditto     \n",
              "2          0      i can see you have started and clearly thi...  \n",
              "3          2     we demand you issue a statement concerning ...  \n",
              "4          0  hey    th december is my birthday i can see it...  \n",
              "5          0     the man is dead  you buggers still holding ...  "
            ],
            "text/html": [
              "\n",
              "  <div id=\"df-fc6613b0-c026-43cc-94ca-7ec91e0282ba\">\n",
              "    <div class=\"colab-df-container\">\n",
              "      <div>\n",
              "<style scoped>\n",
              "    .dataframe tbody tr th:only-of-type {\n",
              "        vertical-align: middle;\n",
              "    }\n",
              "\n",
              "    .dataframe tbody tr th {\n",
              "        vertical-align: top;\n",
              "    }\n",
              "\n",
              "    .dataframe thead th {\n",
              "        text-align: right;\n",
              "    }\n",
              "</style>\n",
              "<table border=\"1\" class=\"dataframe\">\n",
              "  <thead>\n",
              "    <tr style=\"text-align: right;\">\n",
              "      <th></th>\n",
              "      <th>Datetime</th>\n",
              "      <th>Tweet Id</th>\n",
              "      <th>Text</th>\n",
              "      <th>Username</th>\n",
              "      <th>LikeCount</th>\n",
              "      <th>Clean_Tweets</th>\n",
              "    </tr>\n",
              "  </thead>\n",
              "  <tbody>\n",
              "    <tr>\n",
              "      <th>0</th>\n",
              "      <td>2022-12-14 23:47:00+00:00</td>\n",
              "      <td>1603174748451733504</td>\n",
              "      <td>Ditto @Safaricom_Care https://t.co/SgK6L3YQhd</td>\n",
              "      <td>OnguruMeister</td>\n",
              "      <td>0</td>\n",
              "      <td>ditto</td>\n",
              "    </tr>\n",
              "    <tr>\n",
              "      <th>2</th>\n",
              "      <td>2022-12-14 23:35:29+00:00</td>\n",
              "      <td>1603171849428508673</td>\n",
              "      <td>@missy_k32 @AbdulahiAdan10 @Safaricom_Care @be...</td>\n",
              "      <td>I_im_kibagendi</td>\n",
              "      <td>0</td>\n",
              "      <td>i can see you have started and clearly thi...</td>\n",
              "    </tr>\n",
              "    <tr>\n",
              "      <th>3</th>\n",
              "      <td>2022-12-14 23:34:57+00:00</td>\n",
              "      <td>1603171716594692096</td>\n",
              "      <td>@Safaricom_Care, @SafaricomPLC  we demand you ...</td>\n",
              "      <td>MutonyeMutuku_</td>\n",
              "      <td>2</td>\n",
              "      <td>we demand you issue a statement concerning ...</td>\n",
              "    </tr>\n",
              "    <tr>\n",
              "      <th>4</th>\n",
              "      <td>2022-12-14 23:19:59+00:00</td>\n",
              "      <td>1603167951682764800</td>\n",
              "      <td>Hey @Safaricom_Care @SafaricomPLC ,15th Decemb...</td>\n",
              "      <td>ndungujosephn</td>\n",
              "      <td>0</td>\n",
              "      <td>hey    th december is my birthday i can see it...</td>\n",
              "    </tr>\n",
              "    <tr>\n",
              "      <th>5</th>\n",
              "      <td>2022-12-14 23:00:12+00:00</td>\n",
              "      <td>1603162972456640517</td>\n",
              "      <td>@enockmogaka7 @SafaricomPLC @Safaricom_Care Th...</td>\n",
              "      <td>cellestialtech</td>\n",
              "      <td>0</td>\n",
              "      <td>the man is dead  you buggers still holding ...</td>\n",
              "    </tr>\n",
              "  </tbody>\n",
              "</table>\n",
              "</div>\n",
              "      <button class=\"colab-df-convert\" onclick=\"convertToInteractive('df-fc6613b0-c026-43cc-94ca-7ec91e0282ba')\"\n",
              "              title=\"Convert this dataframe to an interactive table.\"\n",
              "              style=\"display:none;\">\n",
              "        \n",
              "  <svg xmlns=\"http://www.w3.org/2000/svg\" height=\"24px\"viewBox=\"0 0 24 24\"\n",
              "       width=\"24px\">\n",
              "    <path d=\"M0 0h24v24H0V0z\" fill=\"none\"/>\n",
              "    <path d=\"M18.56 5.44l.94 2.06.94-2.06 2.06-.94-2.06-.94-.94-2.06-.94 2.06-2.06.94zm-11 1L8.5 8.5l.94-2.06 2.06-.94-2.06-.94L8.5 2.5l-.94 2.06-2.06.94zm10 10l.94 2.06.94-2.06 2.06-.94-2.06-.94-.94-2.06-.94 2.06-2.06.94z\"/><path d=\"M17.41 7.96l-1.37-1.37c-.4-.4-.92-.59-1.43-.59-.52 0-1.04.2-1.43.59L10.3 9.45l-7.72 7.72c-.78.78-.78 2.05 0 2.83L4 21.41c.39.39.9.59 1.41.59.51 0 1.02-.2 1.41-.59l7.78-7.78 2.81-2.81c.8-.78.8-2.07 0-2.86zM5.41 20L4 18.59l7.72-7.72 1.47 1.35L5.41 20z\"/>\n",
              "  </svg>\n",
              "      </button>\n",
              "      \n",
              "  <style>\n",
              "    .colab-df-container {\n",
              "      display:flex;\n",
              "      flex-wrap:wrap;\n",
              "      gap: 12px;\n",
              "    }\n",
              "\n",
              "    .colab-df-convert {\n",
              "      background-color: #E8F0FE;\n",
              "      border: none;\n",
              "      border-radius: 50%;\n",
              "      cursor: pointer;\n",
              "      display: none;\n",
              "      fill: #1967D2;\n",
              "      height: 32px;\n",
              "      padding: 0 0 0 0;\n",
              "      width: 32px;\n",
              "    }\n",
              "\n",
              "    .colab-df-convert:hover {\n",
              "      background-color: #E2EBFA;\n",
              "      box-shadow: 0px 1px 2px rgba(60, 64, 67, 0.3), 0px 1px 3px 1px rgba(60, 64, 67, 0.15);\n",
              "      fill: #174EA6;\n",
              "    }\n",
              "\n",
              "    [theme=dark] .colab-df-convert {\n",
              "      background-color: #3B4455;\n",
              "      fill: #D2E3FC;\n",
              "    }\n",
              "\n",
              "    [theme=dark] .colab-df-convert:hover {\n",
              "      background-color: #434B5C;\n",
              "      box-shadow: 0px 1px 3px 1px rgba(0, 0, 0, 0.15);\n",
              "      filter: drop-shadow(0px 1px 2px rgba(0, 0, 0, 0.3));\n",
              "      fill: #FFFFFF;\n",
              "    }\n",
              "  </style>\n",
              "\n",
              "      <script>\n",
              "        const buttonEl =\n",
              "          document.querySelector('#df-fc6613b0-c026-43cc-94ca-7ec91e0282ba button.colab-df-convert');\n",
              "        buttonEl.style.display =\n",
              "          google.colab.kernel.accessAllowed ? 'block' : 'none';\n",
              "\n",
              "        async function convertToInteractive(key) {\n",
              "          const element = document.querySelector('#df-fc6613b0-c026-43cc-94ca-7ec91e0282ba');\n",
              "          const dataTable =\n",
              "            await google.colab.kernel.invokeFunction('convertToInteractive',\n",
              "                                                     [key], {});\n",
              "          if (!dataTable) return;\n",
              "\n",
              "          const docLinkHtml = 'Like what you see? Visit the ' +\n",
              "            '<a target=\"_blank\" href=https://colab.research.google.com/notebooks/data_table.ipynb>data table notebook</a>'\n",
              "            + ' to learn more about interactive tables.';\n",
              "          element.innerHTML = '';\n",
              "          dataTable['output_type'] = 'display_data';\n",
              "          await google.colab.output.renderOutput(dataTable, element);\n",
              "          const docLink = document.createElement('div');\n",
              "          docLink.innerHTML = docLinkHtml;\n",
              "          element.appendChild(docLink);\n",
              "        }\n",
              "      </script>\n",
              "    </div>\n",
              "  </div>\n",
              "  "
            ]
          },
          "metadata": {},
          "execution_count": 126
        }
      ],
      "source": [
        "tweets_df.head()"
      ]
    },
    {
      "cell_type": "code",
      "execution_count": 127,
      "metadata": {
        "colab": {
          "base_uri": "https://localhost:8080/",
          "height": 206
        },
        "id": "W4t6N8Qt7qj0",
        "outputId": "982d9a7a-fd29-4cff-b2be-442df16d31b2"
      },
      "outputs": [
        {
          "output_type": "execute_result",
          "data": {
            "text/plain": [
              "                    Datetime             Tweet Id        Username  \\\n",
              "0  2022-12-14 23:47:00+00:00  1603174748451733504   OnguruMeister   \n",
              "2  2022-12-14 23:35:29+00:00  1603171849428508673  I_im_kibagendi   \n",
              "3  2022-12-14 23:34:57+00:00  1603171716594692096  MutonyeMutuku_   \n",
              "4  2022-12-14 23:19:59+00:00  1603167951682764800   ndungujosephn   \n",
              "5  2022-12-14 23:00:12+00:00  1603162972456640517  cellestialtech   \n",
              "\n",
              "                                        Clean_Tweets  \n",
              "0                                           ditto     \n",
              "2      i can see you have started and clearly thi...  \n",
              "3     we demand you issue a statement concerning ...  \n",
              "4  hey    th december is my birthday i can see it...  \n",
              "5     the man is dead  you buggers still holding ...  "
            ],
            "text/html": [
              "\n",
              "  <div id=\"df-c993a09f-76dd-4d64-9325-a0158a933771\">\n",
              "    <div class=\"colab-df-container\">\n",
              "      <div>\n",
              "<style scoped>\n",
              "    .dataframe tbody tr th:only-of-type {\n",
              "        vertical-align: middle;\n",
              "    }\n",
              "\n",
              "    .dataframe tbody tr th {\n",
              "        vertical-align: top;\n",
              "    }\n",
              "\n",
              "    .dataframe thead th {\n",
              "        text-align: right;\n",
              "    }\n",
              "</style>\n",
              "<table border=\"1\" class=\"dataframe\">\n",
              "  <thead>\n",
              "    <tr style=\"text-align: right;\">\n",
              "      <th></th>\n",
              "      <th>Datetime</th>\n",
              "      <th>Tweet Id</th>\n",
              "      <th>Username</th>\n",
              "      <th>Clean_Tweets</th>\n",
              "    </tr>\n",
              "  </thead>\n",
              "  <tbody>\n",
              "    <tr>\n",
              "      <th>0</th>\n",
              "      <td>2022-12-14 23:47:00+00:00</td>\n",
              "      <td>1603174748451733504</td>\n",
              "      <td>OnguruMeister</td>\n",
              "      <td>ditto</td>\n",
              "    </tr>\n",
              "    <tr>\n",
              "      <th>2</th>\n",
              "      <td>2022-12-14 23:35:29+00:00</td>\n",
              "      <td>1603171849428508673</td>\n",
              "      <td>I_im_kibagendi</td>\n",
              "      <td>i can see you have started and clearly thi...</td>\n",
              "    </tr>\n",
              "    <tr>\n",
              "      <th>3</th>\n",
              "      <td>2022-12-14 23:34:57+00:00</td>\n",
              "      <td>1603171716594692096</td>\n",
              "      <td>MutonyeMutuku_</td>\n",
              "      <td>we demand you issue a statement concerning ...</td>\n",
              "    </tr>\n",
              "    <tr>\n",
              "      <th>4</th>\n",
              "      <td>2022-12-14 23:19:59+00:00</td>\n",
              "      <td>1603167951682764800</td>\n",
              "      <td>ndungujosephn</td>\n",
              "      <td>hey    th december is my birthday i can see it...</td>\n",
              "    </tr>\n",
              "    <tr>\n",
              "      <th>5</th>\n",
              "      <td>2022-12-14 23:00:12+00:00</td>\n",
              "      <td>1603162972456640517</td>\n",
              "      <td>cellestialtech</td>\n",
              "      <td>the man is dead  you buggers still holding ...</td>\n",
              "    </tr>\n",
              "  </tbody>\n",
              "</table>\n",
              "</div>\n",
              "      <button class=\"colab-df-convert\" onclick=\"convertToInteractive('df-c993a09f-76dd-4d64-9325-a0158a933771')\"\n",
              "              title=\"Convert this dataframe to an interactive table.\"\n",
              "              style=\"display:none;\">\n",
              "        \n",
              "  <svg xmlns=\"http://www.w3.org/2000/svg\" height=\"24px\"viewBox=\"0 0 24 24\"\n",
              "       width=\"24px\">\n",
              "    <path d=\"M0 0h24v24H0V0z\" fill=\"none\"/>\n",
              "    <path d=\"M18.56 5.44l.94 2.06.94-2.06 2.06-.94-2.06-.94-.94-2.06-.94 2.06-2.06.94zm-11 1L8.5 8.5l.94-2.06 2.06-.94-2.06-.94L8.5 2.5l-.94 2.06-2.06.94zm10 10l.94 2.06.94-2.06 2.06-.94-2.06-.94-.94-2.06-.94 2.06-2.06.94z\"/><path d=\"M17.41 7.96l-1.37-1.37c-.4-.4-.92-.59-1.43-.59-.52 0-1.04.2-1.43.59L10.3 9.45l-7.72 7.72c-.78.78-.78 2.05 0 2.83L4 21.41c.39.39.9.59 1.41.59.51 0 1.02-.2 1.41-.59l7.78-7.78 2.81-2.81c.8-.78.8-2.07 0-2.86zM5.41 20L4 18.59l7.72-7.72 1.47 1.35L5.41 20z\"/>\n",
              "  </svg>\n",
              "      </button>\n",
              "      \n",
              "  <style>\n",
              "    .colab-df-container {\n",
              "      display:flex;\n",
              "      flex-wrap:wrap;\n",
              "      gap: 12px;\n",
              "    }\n",
              "\n",
              "    .colab-df-convert {\n",
              "      background-color: #E8F0FE;\n",
              "      border: none;\n",
              "      border-radius: 50%;\n",
              "      cursor: pointer;\n",
              "      display: none;\n",
              "      fill: #1967D2;\n",
              "      height: 32px;\n",
              "      padding: 0 0 0 0;\n",
              "      width: 32px;\n",
              "    }\n",
              "\n",
              "    .colab-df-convert:hover {\n",
              "      background-color: #E2EBFA;\n",
              "      box-shadow: 0px 1px 2px rgba(60, 64, 67, 0.3), 0px 1px 3px 1px rgba(60, 64, 67, 0.15);\n",
              "      fill: #174EA6;\n",
              "    }\n",
              "\n",
              "    [theme=dark] .colab-df-convert {\n",
              "      background-color: #3B4455;\n",
              "      fill: #D2E3FC;\n",
              "    }\n",
              "\n",
              "    [theme=dark] .colab-df-convert:hover {\n",
              "      background-color: #434B5C;\n",
              "      box-shadow: 0px 1px 3px 1px rgba(0, 0, 0, 0.15);\n",
              "      filter: drop-shadow(0px 1px 2px rgba(0, 0, 0, 0.3));\n",
              "      fill: #FFFFFF;\n",
              "    }\n",
              "  </style>\n",
              "\n",
              "      <script>\n",
              "        const buttonEl =\n",
              "          document.querySelector('#df-c993a09f-76dd-4d64-9325-a0158a933771 button.colab-df-convert');\n",
              "        buttonEl.style.display =\n",
              "          google.colab.kernel.accessAllowed ? 'block' : 'none';\n",
              "\n",
              "        async function convertToInteractive(key) {\n",
              "          const element = document.querySelector('#df-c993a09f-76dd-4d64-9325-a0158a933771');\n",
              "          const dataTable =\n",
              "            await google.colab.kernel.invokeFunction('convertToInteractive',\n",
              "                                                     [key], {});\n",
              "          if (!dataTable) return;\n",
              "\n",
              "          const docLinkHtml = 'Like what you see? Visit the ' +\n",
              "            '<a target=\"_blank\" href=https://colab.research.google.com/notebooks/data_table.ipynb>data table notebook</a>'\n",
              "            + ' to learn more about interactive tables.';\n",
              "          element.innerHTML = '';\n",
              "          dataTable['output_type'] = 'display_data';\n",
              "          await google.colab.output.renderOutput(dataTable, element);\n",
              "          const docLink = document.createElement('div');\n",
              "          docLink.innerHTML = docLinkHtml;\n",
              "          element.appendChild(docLink);\n",
              "        }\n",
              "      </script>\n",
              "    </div>\n",
              "  </div>\n",
              "  "
            ]
          },
          "metadata": {},
          "execution_count": 127
        }
      ],
      "source": [
        "df = tweets_df[['Datetime','Tweet Id', 'Username', 'Clean_Tweets']]\n",
        "df.head()"
      ]
    },
    {
      "cell_type": "code",
      "execution_count": 128,
      "metadata": {
        "colab": {
          "base_uri": "https://localhost:8080/"
        },
        "id": "Jty_qcBt7qj1",
        "outputId": "676a7252-eedc-4dd9-f0f8-7185c5f9fc0b"
      },
      "outputs": [
        {
          "output_type": "stream",
          "name": "stdout",
          "text": [
            "<class 'pandas.core.frame.DataFrame'>\n",
            "Int64Index: 740364 entries, 0 to 1000000\n",
            "Data columns (total 4 columns):\n",
            " #   Column        Non-Null Count   Dtype              \n",
            "---  ------        --------------   -----              \n",
            " 0   Datetime      740364 non-null  datetime64[ns, UTC]\n",
            " 1   Tweet Id      740364 non-null  int64              \n",
            " 2   Username      740364 non-null  object             \n",
            " 3   Clean_Tweets  740364 non-null  object             \n",
            "dtypes: datetime64[ns, UTC](1), int64(1), object(2)\n",
            "memory usage: 28.2+ MB\n"
          ]
        }
      ],
      "source": [
        "df['Datetime'] = pd.to_datetime(df['Datetime'])\n",
        "\n",
        "df.info()"
      ]
    },
    {
      "cell_type": "code",
      "execution_count": 129,
      "metadata": {
        "colab": {
          "base_uri": "https://localhost:8080/",
          "height": 206
        },
        "id": "zh40NyfH7qj1",
        "outputId": "3c629de7-5b6f-434b-9d8d-e23a10923b2c"
      },
      "outputs": [
        {
          "output_type": "execute_result",
          "data": {
            "text/plain": [
              "                   Datetime             Tweet Id        Username  \\\n",
              "0 2022-12-14 23:47:00+00:00  1603174748451733504   OnguruMeister   \n",
              "2 2022-12-14 23:35:29+00:00  1603171849428508673  I_im_kibagendi   \n",
              "3 2022-12-14 23:34:57+00:00  1603171716594692096  MutonyeMutuku_   \n",
              "4 2022-12-14 23:19:59+00:00  1603167951682764800   ndungujosephn   \n",
              "5 2022-12-14 23:00:12+00:00  1603162972456640517  cellestialtech   \n",
              "\n",
              "                                        Clean_Tweets  hour  \n",
              "0                                           ditto       23  \n",
              "2      i can see you have started and clearly thi...    23  \n",
              "3     we demand you issue a statement concerning ...    23  \n",
              "4  hey    th december is my birthday i can see it...    23  \n",
              "5     the man is dead  you buggers still holding ...    23  "
            ],
            "text/html": [
              "\n",
              "  <div id=\"df-b475e2fc-9b27-48bc-bf86-d82a33b628b1\">\n",
              "    <div class=\"colab-df-container\">\n",
              "      <div>\n",
              "<style scoped>\n",
              "    .dataframe tbody tr th:only-of-type {\n",
              "        vertical-align: middle;\n",
              "    }\n",
              "\n",
              "    .dataframe tbody tr th {\n",
              "        vertical-align: top;\n",
              "    }\n",
              "\n",
              "    .dataframe thead th {\n",
              "        text-align: right;\n",
              "    }\n",
              "</style>\n",
              "<table border=\"1\" class=\"dataframe\">\n",
              "  <thead>\n",
              "    <tr style=\"text-align: right;\">\n",
              "      <th></th>\n",
              "      <th>Datetime</th>\n",
              "      <th>Tweet Id</th>\n",
              "      <th>Username</th>\n",
              "      <th>Clean_Tweets</th>\n",
              "      <th>hour</th>\n",
              "    </tr>\n",
              "  </thead>\n",
              "  <tbody>\n",
              "    <tr>\n",
              "      <th>0</th>\n",
              "      <td>2022-12-14 23:47:00+00:00</td>\n",
              "      <td>1603174748451733504</td>\n",
              "      <td>OnguruMeister</td>\n",
              "      <td>ditto</td>\n",
              "      <td>23</td>\n",
              "    </tr>\n",
              "    <tr>\n",
              "      <th>2</th>\n",
              "      <td>2022-12-14 23:35:29+00:00</td>\n",
              "      <td>1603171849428508673</td>\n",
              "      <td>I_im_kibagendi</td>\n",
              "      <td>i can see you have started and clearly thi...</td>\n",
              "      <td>23</td>\n",
              "    </tr>\n",
              "    <tr>\n",
              "      <th>3</th>\n",
              "      <td>2022-12-14 23:34:57+00:00</td>\n",
              "      <td>1603171716594692096</td>\n",
              "      <td>MutonyeMutuku_</td>\n",
              "      <td>we demand you issue a statement concerning ...</td>\n",
              "      <td>23</td>\n",
              "    </tr>\n",
              "    <tr>\n",
              "      <th>4</th>\n",
              "      <td>2022-12-14 23:19:59+00:00</td>\n",
              "      <td>1603167951682764800</td>\n",
              "      <td>ndungujosephn</td>\n",
              "      <td>hey    th december is my birthday i can see it...</td>\n",
              "      <td>23</td>\n",
              "    </tr>\n",
              "    <tr>\n",
              "      <th>5</th>\n",
              "      <td>2022-12-14 23:00:12+00:00</td>\n",
              "      <td>1603162972456640517</td>\n",
              "      <td>cellestialtech</td>\n",
              "      <td>the man is dead  you buggers still holding ...</td>\n",
              "      <td>23</td>\n",
              "    </tr>\n",
              "  </tbody>\n",
              "</table>\n",
              "</div>\n",
              "      <button class=\"colab-df-convert\" onclick=\"convertToInteractive('df-b475e2fc-9b27-48bc-bf86-d82a33b628b1')\"\n",
              "              title=\"Convert this dataframe to an interactive table.\"\n",
              "              style=\"display:none;\">\n",
              "        \n",
              "  <svg xmlns=\"http://www.w3.org/2000/svg\" height=\"24px\"viewBox=\"0 0 24 24\"\n",
              "       width=\"24px\">\n",
              "    <path d=\"M0 0h24v24H0V0z\" fill=\"none\"/>\n",
              "    <path d=\"M18.56 5.44l.94 2.06.94-2.06 2.06-.94-2.06-.94-.94-2.06-.94 2.06-2.06.94zm-11 1L8.5 8.5l.94-2.06 2.06-.94-2.06-.94L8.5 2.5l-.94 2.06-2.06.94zm10 10l.94 2.06.94-2.06 2.06-.94-2.06-.94-.94-2.06-.94 2.06-2.06.94z\"/><path d=\"M17.41 7.96l-1.37-1.37c-.4-.4-.92-.59-1.43-.59-.52 0-1.04.2-1.43.59L10.3 9.45l-7.72 7.72c-.78.78-.78 2.05 0 2.83L4 21.41c.39.39.9.59 1.41.59.51 0 1.02-.2 1.41-.59l7.78-7.78 2.81-2.81c.8-.78.8-2.07 0-2.86zM5.41 20L4 18.59l7.72-7.72 1.47 1.35L5.41 20z\"/>\n",
              "  </svg>\n",
              "      </button>\n",
              "      \n",
              "  <style>\n",
              "    .colab-df-container {\n",
              "      display:flex;\n",
              "      flex-wrap:wrap;\n",
              "      gap: 12px;\n",
              "    }\n",
              "\n",
              "    .colab-df-convert {\n",
              "      background-color: #E8F0FE;\n",
              "      border: none;\n",
              "      border-radius: 50%;\n",
              "      cursor: pointer;\n",
              "      display: none;\n",
              "      fill: #1967D2;\n",
              "      height: 32px;\n",
              "      padding: 0 0 0 0;\n",
              "      width: 32px;\n",
              "    }\n",
              "\n",
              "    .colab-df-convert:hover {\n",
              "      background-color: #E2EBFA;\n",
              "      box-shadow: 0px 1px 2px rgba(60, 64, 67, 0.3), 0px 1px 3px 1px rgba(60, 64, 67, 0.15);\n",
              "      fill: #174EA6;\n",
              "    }\n",
              "\n",
              "    [theme=dark] .colab-df-convert {\n",
              "      background-color: #3B4455;\n",
              "      fill: #D2E3FC;\n",
              "    }\n",
              "\n",
              "    [theme=dark] .colab-df-convert:hover {\n",
              "      background-color: #434B5C;\n",
              "      box-shadow: 0px 1px 3px 1px rgba(0, 0, 0, 0.15);\n",
              "      filter: drop-shadow(0px 1px 2px rgba(0, 0, 0, 0.3));\n",
              "      fill: #FFFFFF;\n",
              "    }\n",
              "  </style>\n",
              "\n",
              "      <script>\n",
              "        const buttonEl =\n",
              "          document.querySelector('#df-b475e2fc-9b27-48bc-bf86-d82a33b628b1 button.colab-df-convert');\n",
              "        buttonEl.style.display =\n",
              "          google.colab.kernel.accessAllowed ? 'block' : 'none';\n",
              "\n",
              "        async function convertToInteractive(key) {\n",
              "          const element = document.querySelector('#df-b475e2fc-9b27-48bc-bf86-d82a33b628b1');\n",
              "          const dataTable =\n",
              "            await google.colab.kernel.invokeFunction('convertToInteractive',\n",
              "                                                     [key], {});\n",
              "          if (!dataTable) return;\n",
              "\n",
              "          const docLinkHtml = 'Like what you see? Visit the ' +\n",
              "            '<a target=\"_blank\" href=https://colab.research.google.com/notebooks/data_table.ipynb>data table notebook</a>'\n",
              "            + ' to learn more about interactive tables.';\n",
              "          element.innerHTML = '';\n",
              "          dataTable['output_type'] = 'display_data';\n",
              "          await google.colab.output.renderOutput(dataTable, element);\n",
              "          const docLink = document.createElement('div');\n",
              "          docLink.innerHTML = docLinkHtml;\n",
              "          element.appendChild(docLink);\n",
              "        }\n",
              "      </script>\n",
              "    </div>\n",
              "  </div>\n",
              "  "
            ]
          },
          "metadata": {},
          "execution_count": 129
        }
      ],
      "source": [
        "df[\"hour\"] = df[\"Datetime\"].apply(lambda x: x.hour)\n",
        "df.head()"
      ]
    },
    {
      "cell_type": "code",
      "execution_count": 130,
      "metadata": {
        "id": "ChmMUSWs7qj1"
      },
      "outputs": [],
      "source": [
        "# a function for categorizing time\n",
        "def get_time(hour):\n",
        "  \"\"\" This function checks the time a tweet was tweeted and categorizes it as morning evening or afternoon\"\"\"\n",
        "    if hour >=6 and hour < 12:\n",
        "         return 'Morning'\n",
        "    if hour > 12 and hour < 18:\n",
        "        return 'Afternoon'\n",
        "    else:\n",
        "        return 'Evening'"
      ]
    },
    {
      "cell_type": "code",
      "execution_count": 132,
      "metadata": {
        "colab": {
          "base_uri": "https://localhost:8080/"
        },
        "id": "Muj81WIB7qj1",
        "outputId": "ed1e3081-1647-4814-c69c-0f17d7389779"
      },
      "outputs": [
        {
          "output_type": "execute_result",
          "data": {
            "text/plain": [
              "Morning      290148\n",
              "Evening      226615\n",
              "Afternoon    223601\n",
              "Name: Time_of_Day, dtype: int64"
            ]
          },
          "metadata": {},
          "execution_count": 132
        }
      ],
      "source": [
        "df['Time_of_Day'] = df['hour'].apply(get_time)\n",
        "df['Time_of_Day'].value_counts()"
      ]
    },
    {
      "cell_type": "code",
      "execution_count": 133,
      "metadata": {
        "id": "6pr3JBdo7qj1"
      },
      "outputs": [],
      "source": [
        "# # Splitting concatenated words into separate words \n",
        "# df[\"Clean_Tweets\"] = df.Clean_Tweets.apply(lambda x: wordninja.split(str(TextBlob(x))))  \n",
        "# df[\"Clean_Tweets\"] = df.Clean_Tweets.str.join(' ')\n",
        "# df[\"Clean_Tweets\"].head()"
      ]
    },
    {
      "cell_type": "code",
      "execution_count": 134,
      "metadata": {
        "colab": {
          "base_uri": "https://localhost:8080/",
          "height": 206
        },
        "id": "-hO2PX6O7qj1",
        "outputId": "28084804-7109-46a9-8f8a-ed32020d5d07"
      },
      "outputs": [
        {
          "output_type": "execute_result",
          "data": {
            "text/plain": [
              "                   Datetime             Tweet Id        Username  \\\n",
              "0 2022-12-14 23:47:00+00:00  1603174748451733504   OnguruMeister   \n",
              "2 2022-12-14 23:35:29+00:00  1603171849428508673  I_im_kibagendi   \n",
              "3 2022-12-14 23:34:57+00:00  1603171716594692096  MutonyeMutuku_   \n",
              "4 2022-12-14 23:19:59+00:00  1603167951682764800   ndungujosephn   \n",
              "5 2022-12-14 23:00:12+00:00  1603162972456640517  cellestialtech   \n",
              "\n",
              "                                        Clean_Tweets  hour Time_of_Day  \n",
              "0                                              ditto    23     Evening  \n",
              "2  see started clearly show boychild misses funda...    23     Evening  \n",
              "3  demand statement concerning maxine wahome youv...    23     Evening  \n",
              "4  th december birthday see something data bundle...    23     Evening  \n",
              "5  man dead buggers holding sponsorship maxinewah...    23     Evening  "
            ],
            "text/html": [
              "\n",
              "  <div id=\"df-a97ce841-fe39-49e4-a7ba-03fd02f25cb0\">\n",
              "    <div class=\"colab-df-container\">\n",
              "      <div>\n",
              "<style scoped>\n",
              "    .dataframe tbody tr th:only-of-type {\n",
              "        vertical-align: middle;\n",
              "    }\n",
              "\n",
              "    .dataframe tbody tr th {\n",
              "        vertical-align: top;\n",
              "    }\n",
              "\n",
              "    .dataframe thead th {\n",
              "        text-align: right;\n",
              "    }\n",
              "</style>\n",
              "<table border=\"1\" class=\"dataframe\">\n",
              "  <thead>\n",
              "    <tr style=\"text-align: right;\">\n",
              "      <th></th>\n",
              "      <th>Datetime</th>\n",
              "      <th>Tweet Id</th>\n",
              "      <th>Username</th>\n",
              "      <th>Clean_Tweets</th>\n",
              "      <th>hour</th>\n",
              "      <th>Time_of_Day</th>\n",
              "    </tr>\n",
              "  </thead>\n",
              "  <tbody>\n",
              "    <tr>\n",
              "      <th>0</th>\n",
              "      <td>2022-12-14 23:47:00+00:00</td>\n",
              "      <td>1603174748451733504</td>\n",
              "      <td>OnguruMeister</td>\n",
              "      <td>ditto</td>\n",
              "      <td>23</td>\n",
              "      <td>Evening</td>\n",
              "    </tr>\n",
              "    <tr>\n",
              "      <th>2</th>\n",
              "      <td>2022-12-14 23:35:29+00:00</td>\n",
              "      <td>1603171849428508673</td>\n",
              "      <td>I_im_kibagendi</td>\n",
              "      <td>see started clearly show boychild misses funda...</td>\n",
              "      <td>23</td>\n",
              "      <td>Evening</td>\n",
              "    </tr>\n",
              "    <tr>\n",
              "      <th>3</th>\n",
              "      <td>2022-12-14 23:34:57+00:00</td>\n",
              "      <td>1603171716594692096</td>\n",
              "      <td>MutonyeMutuku_</td>\n",
              "      <td>demand statement concerning maxine wahome youv...</td>\n",
              "      <td>23</td>\n",
              "      <td>Evening</td>\n",
              "    </tr>\n",
              "    <tr>\n",
              "      <th>4</th>\n",
              "      <td>2022-12-14 23:19:59+00:00</td>\n",
              "      <td>1603167951682764800</td>\n",
              "      <td>ndungujosephn</td>\n",
              "      <td>th december birthday see something data bundle...</td>\n",
              "      <td>23</td>\n",
              "      <td>Evening</td>\n",
              "    </tr>\n",
              "    <tr>\n",
              "      <th>5</th>\n",
              "      <td>2022-12-14 23:00:12+00:00</td>\n",
              "      <td>1603162972456640517</td>\n",
              "      <td>cellestialtech</td>\n",
              "      <td>man dead buggers holding sponsorship maxinewah...</td>\n",
              "      <td>23</td>\n",
              "      <td>Evening</td>\n",
              "    </tr>\n",
              "  </tbody>\n",
              "</table>\n",
              "</div>\n",
              "      <button class=\"colab-df-convert\" onclick=\"convertToInteractive('df-a97ce841-fe39-49e4-a7ba-03fd02f25cb0')\"\n",
              "              title=\"Convert this dataframe to an interactive table.\"\n",
              "              style=\"display:none;\">\n",
              "        \n",
              "  <svg xmlns=\"http://www.w3.org/2000/svg\" height=\"24px\"viewBox=\"0 0 24 24\"\n",
              "       width=\"24px\">\n",
              "    <path d=\"M0 0h24v24H0V0z\" fill=\"none\"/>\n",
              "    <path d=\"M18.56 5.44l.94 2.06.94-2.06 2.06-.94-2.06-.94-.94-2.06-.94 2.06-2.06.94zm-11 1L8.5 8.5l.94-2.06 2.06-.94-2.06-.94L8.5 2.5l-.94 2.06-2.06.94zm10 10l.94 2.06.94-2.06 2.06-.94-2.06-.94-.94-2.06-.94 2.06-2.06.94z\"/><path d=\"M17.41 7.96l-1.37-1.37c-.4-.4-.92-.59-1.43-.59-.52 0-1.04.2-1.43.59L10.3 9.45l-7.72 7.72c-.78.78-.78 2.05 0 2.83L4 21.41c.39.39.9.59 1.41.59.51 0 1.02-.2 1.41-.59l7.78-7.78 2.81-2.81c.8-.78.8-2.07 0-2.86zM5.41 20L4 18.59l7.72-7.72 1.47 1.35L5.41 20z\"/>\n",
              "  </svg>\n",
              "      </button>\n",
              "      \n",
              "  <style>\n",
              "    .colab-df-container {\n",
              "      display:flex;\n",
              "      flex-wrap:wrap;\n",
              "      gap: 12px;\n",
              "    }\n",
              "\n",
              "    .colab-df-convert {\n",
              "      background-color: #E8F0FE;\n",
              "      border: none;\n",
              "      border-radius: 50%;\n",
              "      cursor: pointer;\n",
              "      display: none;\n",
              "      fill: #1967D2;\n",
              "      height: 32px;\n",
              "      padding: 0 0 0 0;\n",
              "      width: 32px;\n",
              "    }\n",
              "\n",
              "    .colab-df-convert:hover {\n",
              "      background-color: #E2EBFA;\n",
              "      box-shadow: 0px 1px 2px rgba(60, 64, 67, 0.3), 0px 1px 3px 1px rgba(60, 64, 67, 0.15);\n",
              "      fill: #174EA6;\n",
              "    }\n",
              "\n",
              "    [theme=dark] .colab-df-convert {\n",
              "      background-color: #3B4455;\n",
              "      fill: #D2E3FC;\n",
              "    }\n",
              "\n",
              "    [theme=dark] .colab-df-convert:hover {\n",
              "      background-color: #434B5C;\n",
              "      box-shadow: 0px 1px 3px 1px rgba(0, 0, 0, 0.15);\n",
              "      filter: drop-shadow(0px 1px 2px rgba(0, 0, 0, 0.3));\n",
              "      fill: #FFFFFF;\n",
              "    }\n",
              "  </style>\n",
              "\n",
              "      <script>\n",
              "        const buttonEl =\n",
              "          document.querySelector('#df-a97ce841-fe39-49e4-a7ba-03fd02f25cb0 button.colab-df-convert');\n",
              "        buttonEl.style.display =\n",
              "          google.colab.kernel.accessAllowed ? 'block' : 'none';\n",
              "\n",
              "        async function convertToInteractive(key) {\n",
              "          const element = document.querySelector('#df-a97ce841-fe39-49e4-a7ba-03fd02f25cb0');\n",
              "          const dataTable =\n",
              "            await google.colab.kernel.invokeFunction('convertToInteractive',\n",
              "                                                     [key], {});\n",
              "          if (!dataTable) return;\n",
              "\n",
              "          const docLinkHtml = 'Like what you see? Visit the ' +\n",
              "            '<a target=\"_blank\" href=https://colab.research.google.com/notebooks/data_table.ipynb>data table notebook</a>'\n",
              "            + ' to learn more about interactive tables.';\n",
              "          element.innerHTML = '';\n",
              "          dataTable['output_type'] = 'display_data';\n",
              "          await google.colab.output.renderOutput(dataTable, element);\n",
              "          const docLink = document.createElement('div');\n",
              "          docLink.innerHTML = docLinkHtml;\n",
              "          element.appendChild(docLink);\n",
              "        }\n",
              "      </script>\n",
              "    </div>\n",
              "  </div>\n",
              "  "
            ]
          },
          "metadata": {},
          "execution_count": 134
        }
      ],
      "source": [
        "#Removing stopwords\n",
        "stop_words = stopwords.words('english')\n",
        "new_stopwords = [\"dm\", \"check\", \"kindly\", \"please\", \"na\" , \"ni\", \"get\" , \"ya\", \"hello\", \"still\", \"need\", \"cant\", \"help\", \n",
        "                 \"even\",\"hey\", \"like\", \"issue\", \"whats\", \"hii\", \"since\", \"hi\", \"kwa\", \"using\", \"dont\", \"assist\", \"im\", \"know\", \n",
        "                 \"people\", \"someone\", \"thanks\", \"thank\", \"waiting\", \"today\", \"ive\", \"want\", \"us\", \"use\", \"ama\", \"without\", \n",
        "                 \"trying\", \"guys\", \"happening\"]\n",
        "stop_words.extend(new_stopwords)\n",
        "df[\"Clean_Tweets\"] = df[\"Clean_Tweets\"].apply(lambda x: ' '.join(word for word in x.split () if word not in (stop_words)))\n",
        "df.head()"
      ]
    },
    {
      "cell_type": "code",
      "execution_count": 135,
      "metadata": {
        "colab": {
          "base_uri": "https://localhost:8080/",
          "height": 424
        },
        "id": "3o_w_uAO7qj1",
        "outputId": "0687af01-1d0f-491c-b622-07b54316e2d8"
      },
      "outputs": [
        {
          "output_type": "execute_result",
          "data": {
            "text/plain": [
              "                         Datetime             Tweet Id        Username  \\\n",
              "0       2022-12-14 23:47:00+00:00  1603174748451733504   OnguruMeister   \n",
              "2       2022-12-14 23:35:29+00:00  1603171849428508673  I_im_kibagendi   \n",
              "3       2022-12-14 23:34:57+00:00  1603171716594692096  MutonyeMutuku_   \n",
              "4       2022-12-14 23:19:59+00:00  1603167951682764800   ndungujosephn   \n",
              "5       2022-12-14 23:00:12+00:00  1603162972456640517  cellestialtech   \n",
              "...                           ...                  ...             ...   \n",
              "999996  2018-10-26 11:00:21+00:00  1055776139237568512    vincegfxpert   \n",
              "999997  2018-10-26 10:58:57+00:00  1055775786958024704       KThefirst   \n",
              "999998  2018-10-26 10:58:36+00:00  1055775697233424384         gimwesh   \n",
              "999999  2018-10-26 10:58:27+00:00  1055775662072623105  hbograndmaster   \n",
              "1000000 2018-10-26 10:58:23+00:00  1055775643055673344       munene___   \n",
              "\n",
              "                                              Clean_Tweets  hour Time_of_Day  \n",
              "0                                                    ditto    23     Evening  \n",
              "2        see started clearly show boychild misses funda...    23     Evening  \n",
              "3        demand statement concerning maxine wahome youv...    23     Evening  \n",
              "4        th december birthday see something data bundle...    23     Evening  \n",
              "5        man dead buggers holding sponsorship maxinewah...    23     Evening  \n",
              "...                                                    ...   ...         ...  \n",
              "999996           god knows happened quick responses forget    11     Morning  \n",
              "999997   saf hamjawai nipromote si mfanye ivyo woiye na...    10     Morning  \n",
              "999998        havent received promotion used safaricom yrs    10     Morning  \n",
              "999999                     chenye nishawahi shinda tu njaa    10     Morning  \n",
              "1000000                        nataka za mzinga leo friday    10     Morning  \n",
              "\n",
              "[740364 rows x 6 columns]"
            ],
            "text/html": [
              "\n",
              "  <div id=\"df-2f81846a-8b07-4e77-965e-0a4022dc0dac\">\n",
              "    <div class=\"colab-df-container\">\n",
              "      <div>\n",
              "<style scoped>\n",
              "    .dataframe tbody tr th:only-of-type {\n",
              "        vertical-align: middle;\n",
              "    }\n",
              "\n",
              "    .dataframe tbody tr th {\n",
              "        vertical-align: top;\n",
              "    }\n",
              "\n",
              "    .dataframe thead th {\n",
              "        text-align: right;\n",
              "    }\n",
              "</style>\n",
              "<table border=\"1\" class=\"dataframe\">\n",
              "  <thead>\n",
              "    <tr style=\"text-align: right;\">\n",
              "      <th></th>\n",
              "      <th>Datetime</th>\n",
              "      <th>Tweet Id</th>\n",
              "      <th>Username</th>\n",
              "      <th>Clean_Tweets</th>\n",
              "      <th>hour</th>\n",
              "      <th>Time_of_Day</th>\n",
              "    </tr>\n",
              "  </thead>\n",
              "  <tbody>\n",
              "    <tr>\n",
              "      <th>0</th>\n",
              "      <td>2022-12-14 23:47:00+00:00</td>\n",
              "      <td>1603174748451733504</td>\n",
              "      <td>OnguruMeister</td>\n",
              "      <td>ditto</td>\n",
              "      <td>23</td>\n",
              "      <td>Evening</td>\n",
              "    </tr>\n",
              "    <tr>\n",
              "      <th>2</th>\n",
              "      <td>2022-12-14 23:35:29+00:00</td>\n",
              "      <td>1603171849428508673</td>\n",
              "      <td>I_im_kibagendi</td>\n",
              "      <td>see started clearly show boychild misses funda...</td>\n",
              "      <td>23</td>\n",
              "      <td>Evening</td>\n",
              "    </tr>\n",
              "    <tr>\n",
              "      <th>3</th>\n",
              "      <td>2022-12-14 23:34:57+00:00</td>\n",
              "      <td>1603171716594692096</td>\n",
              "      <td>MutonyeMutuku_</td>\n",
              "      <td>demand statement concerning maxine wahome youv...</td>\n",
              "      <td>23</td>\n",
              "      <td>Evening</td>\n",
              "    </tr>\n",
              "    <tr>\n",
              "      <th>4</th>\n",
              "      <td>2022-12-14 23:19:59+00:00</td>\n",
              "      <td>1603167951682764800</td>\n",
              "      <td>ndungujosephn</td>\n",
              "      <td>th december birthday see something data bundle...</td>\n",
              "      <td>23</td>\n",
              "      <td>Evening</td>\n",
              "    </tr>\n",
              "    <tr>\n",
              "      <th>5</th>\n",
              "      <td>2022-12-14 23:00:12+00:00</td>\n",
              "      <td>1603162972456640517</td>\n",
              "      <td>cellestialtech</td>\n",
              "      <td>man dead buggers holding sponsorship maxinewah...</td>\n",
              "      <td>23</td>\n",
              "      <td>Evening</td>\n",
              "    </tr>\n",
              "    <tr>\n",
              "      <th>...</th>\n",
              "      <td>...</td>\n",
              "      <td>...</td>\n",
              "      <td>...</td>\n",
              "      <td>...</td>\n",
              "      <td>...</td>\n",
              "      <td>...</td>\n",
              "    </tr>\n",
              "    <tr>\n",
              "      <th>999996</th>\n",
              "      <td>2018-10-26 11:00:21+00:00</td>\n",
              "      <td>1055776139237568512</td>\n",
              "      <td>vincegfxpert</td>\n",
              "      <td>god knows happened quick responses forget</td>\n",
              "      <td>11</td>\n",
              "      <td>Morning</td>\n",
              "    </tr>\n",
              "    <tr>\n",
              "      <th>999997</th>\n",
              "      <td>2018-10-26 10:58:57+00:00</td>\n",
              "      <td>1055775786958024704</td>\n",
              "      <td>KThefirst</td>\n",
              "      <td>saf hamjawai nipromote si mfanye ivyo woiye na...</td>\n",
              "      <td>10</td>\n",
              "      <td>Morning</td>\n",
              "    </tr>\n",
              "    <tr>\n",
              "      <th>999998</th>\n",
              "      <td>2018-10-26 10:58:36+00:00</td>\n",
              "      <td>1055775697233424384</td>\n",
              "      <td>gimwesh</td>\n",
              "      <td>havent received promotion used safaricom yrs</td>\n",
              "      <td>10</td>\n",
              "      <td>Morning</td>\n",
              "    </tr>\n",
              "    <tr>\n",
              "      <th>999999</th>\n",
              "      <td>2018-10-26 10:58:27+00:00</td>\n",
              "      <td>1055775662072623105</td>\n",
              "      <td>hbograndmaster</td>\n",
              "      <td>chenye nishawahi shinda tu njaa</td>\n",
              "      <td>10</td>\n",
              "      <td>Morning</td>\n",
              "    </tr>\n",
              "    <tr>\n",
              "      <th>1000000</th>\n",
              "      <td>2018-10-26 10:58:23+00:00</td>\n",
              "      <td>1055775643055673344</td>\n",
              "      <td>munene___</td>\n",
              "      <td>nataka za mzinga leo friday</td>\n",
              "      <td>10</td>\n",
              "      <td>Morning</td>\n",
              "    </tr>\n",
              "  </tbody>\n",
              "</table>\n",
              "<p>740364 rows × 6 columns</p>\n",
              "</div>\n",
              "      <button class=\"colab-df-convert\" onclick=\"convertToInteractive('df-2f81846a-8b07-4e77-965e-0a4022dc0dac')\"\n",
              "              title=\"Convert this dataframe to an interactive table.\"\n",
              "              style=\"display:none;\">\n",
              "        \n",
              "  <svg xmlns=\"http://www.w3.org/2000/svg\" height=\"24px\"viewBox=\"0 0 24 24\"\n",
              "       width=\"24px\">\n",
              "    <path d=\"M0 0h24v24H0V0z\" fill=\"none\"/>\n",
              "    <path d=\"M18.56 5.44l.94 2.06.94-2.06 2.06-.94-2.06-.94-.94-2.06-.94 2.06-2.06.94zm-11 1L8.5 8.5l.94-2.06 2.06-.94-2.06-.94L8.5 2.5l-.94 2.06-2.06.94zm10 10l.94 2.06.94-2.06 2.06-.94-2.06-.94-.94-2.06-.94 2.06-2.06.94z\"/><path d=\"M17.41 7.96l-1.37-1.37c-.4-.4-.92-.59-1.43-.59-.52 0-1.04.2-1.43.59L10.3 9.45l-7.72 7.72c-.78.78-.78 2.05 0 2.83L4 21.41c.39.39.9.59 1.41.59.51 0 1.02-.2 1.41-.59l7.78-7.78 2.81-2.81c.8-.78.8-2.07 0-2.86zM5.41 20L4 18.59l7.72-7.72 1.47 1.35L5.41 20z\"/>\n",
              "  </svg>\n",
              "      </button>\n",
              "      \n",
              "  <style>\n",
              "    .colab-df-container {\n",
              "      display:flex;\n",
              "      flex-wrap:wrap;\n",
              "      gap: 12px;\n",
              "    }\n",
              "\n",
              "    .colab-df-convert {\n",
              "      background-color: #E8F0FE;\n",
              "      border: none;\n",
              "      border-radius: 50%;\n",
              "      cursor: pointer;\n",
              "      display: none;\n",
              "      fill: #1967D2;\n",
              "      height: 32px;\n",
              "      padding: 0 0 0 0;\n",
              "      width: 32px;\n",
              "    }\n",
              "\n",
              "    .colab-df-convert:hover {\n",
              "      background-color: #E2EBFA;\n",
              "      box-shadow: 0px 1px 2px rgba(60, 64, 67, 0.3), 0px 1px 3px 1px rgba(60, 64, 67, 0.15);\n",
              "      fill: #174EA6;\n",
              "    }\n",
              "\n",
              "    [theme=dark] .colab-df-convert {\n",
              "      background-color: #3B4455;\n",
              "      fill: #D2E3FC;\n",
              "    }\n",
              "\n",
              "    [theme=dark] .colab-df-convert:hover {\n",
              "      background-color: #434B5C;\n",
              "      box-shadow: 0px 1px 3px 1px rgba(0, 0, 0, 0.15);\n",
              "      filter: drop-shadow(0px 1px 2px rgba(0, 0, 0, 0.3));\n",
              "      fill: #FFFFFF;\n",
              "    }\n",
              "  </style>\n",
              "\n",
              "      <script>\n",
              "        const buttonEl =\n",
              "          document.querySelector('#df-2f81846a-8b07-4e77-965e-0a4022dc0dac button.colab-df-convert');\n",
              "        buttonEl.style.display =\n",
              "          google.colab.kernel.accessAllowed ? 'block' : 'none';\n",
              "\n",
              "        async function convertToInteractive(key) {\n",
              "          const element = document.querySelector('#df-2f81846a-8b07-4e77-965e-0a4022dc0dac');\n",
              "          const dataTable =\n",
              "            await google.colab.kernel.invokeFunction('convertToInteractive',\n",
              "                                                     [key], {});\n",
              "          if (!dataTable) return;\n",
              "\n",
              "          const docLinkHtml = 'Like what you see? Visit the ' +\n",
              "            '<a target=\"_blank\" href=https://colab.research.google.com/notebooks/data_table.ipynb>data table notebook</a>'\n",
              "            + ' to learn more about interactive tables.';\n",
              "          element.innerHTML = '';\n",
              "          dataTable['output_type'] = 'display_data';\n",
              "          await google.colab.output.renderOutput(dataTable, element);\n",
              "          const docLink = document.createElement('div');\n",
              "          docLink.innerHTML = docLinkHtml;\n",
              "          element.appendChild(docLink);\n",
              "        }\n",
              "      </script>\n",
              "    </div>\n",
              "  </div>\n",
              "  "
            ]
          },
          "metadata": {},
          "execution_count": 135
        }
      ],
      "source": [
        "# mapping the clean tweets to a new column in the dataframe\n",
        "ls2=[]\n",
        "for i in df[\"Clean_Tweets\"]:\n",
        "    ls2.append(basic_clean(i))\n",
        "\n",
        "df['Clean_Tweets']=ls2\n",
        "# check the df\n",
        "df"
      ]
    },
    {
      "cell_type": "code",
      "execution_count": 136,
      "metadata": {
        "scrolled": true,
        "colab": {
          "base_uri": "https://localhost:8080/"
        },
        "id": "dRRZHAgF7qj1",
        "outputId": "fe770c80-10d7-4c88-a157-151a1830de74"
      },
      "outputs": [
        {
          "output_type": "execute_result",
          "data": {
            "text/plain": [
              "mb              3922\n",
              "mobile          3912\n",
              "shop            3901\n",
              "say             3887\n",
              "end             3870\n",
              "taking          3859\n",
              "text            3821\n",
              "assistance      3820\n",
              "true            3785\n",
              "bank            3785\n",
              "transactions    3779\n",
              "thing           3703\n",
              "n               3700\n",
              "register        3700\n",
              "support         3679\n",
              "it’s            3668\n",
              "cost            3668\n",
              "offer           3664\n",
              "confirm         3660\n",
              "daily           3658\n",
              "person          3634\n",
              "ok              3623\n",
              "lines           3620\n",
              "doesnt          3593\n",
              "place           3496\n",
              "statement       3481\n",
              "ethiopian       3455\n",
              "kenyans         3444\n",
              "okay            3441\n",
              "wait            3438\n",
              "contact         3427\n",
              "hope            3415\n",
              "advise          3404\n",
              "kwani           3378\n",
              "mtu             3374\n",
              "saf             3368\n",
              "poor            3365\n",
              "refund          3354\n",
              "loan            3353\n",
              "asap            3353\n",
              "happened        3334\n",
              "ata             3322\n",
              "coz             3320\n",
              "must            3311\n",
              "tigray          3309\n",
              "follow          3300\n",
              "youre           3295\n",
              "code            3283\n",
              "receiving       3232\n",
              "right           3227\n",
              "dtype: int64"
            ]
          },
          "metadata": {},
          "execution_count": 136
        }
      ],
      "source": [
        "# frequent words\n",
        "freq = pd.Series(' '.join(df.Clean_Tweets).split()).value_counts()[200:250]\n",
        "freq"
      ]
    },
    {
      "cell_type": "markdown",
      "source": [
        "#### Creating Labels"
      ],
      "metadata": {
        "id": "HwNIE4lUmOGB"
      }
    },
    {
      "cell_type": "code",
      "execution_count": 138,
      "metadata": {
        "colab": {
          "base_uri": "https://localhost:8080/"
        },
        "id": "RDTa4xDM7qj2",
        "outputId": "e298a6bc-e634-4857-cdfd-ffde1052a412"
      },
      "outputs": [
        {
          "output_type": "execute_result",
          "data": {
            "text/plain": [
              "general               155486\n",
              "mpesa                 112060\n",
              "internet               78976\n",
              "valueaddedservices     40132\n",
              "voice                  38074\n",
              "customercare           21348\n",
              "Name: Category, dtype: int64"
            ]
          },
          "metadata": {},
          "execution_count": 138
        }
      ],
      "source": [
        "# creating labels\n",
        "\n",
        "# frequent words n tweets for categorization\n",
        "mpesa = {\"pesa\", \"m-pesa\", \"esa\", \"send money\", \"mpesa\", \"money\", \"till\", \"fuliza\", \"reverse\", \"transaction\", \n",
        "         \"transactions\" \"reversal\" , \"agent\", \"paybill\", \"buygoods\", \"statement\", \"loan\", \"bank\", \"cash\", \"recipient\", \n",
        "         \"mshwari\", \"withdraw\",\"lipa\", \"reversed\", \"sentmoney\", \"kcb\", \"pay\", \"pochi\", \"pochilabiashara\", \"refund\"}\n",
        "voice = {\"credit\", \"card\",'credo', \"okoa\",\"credit\", \"airtime\", \"call\", \"minutes\", \"calls\", \"phone\", \"jahazi\"}\n",
        "internet = {\"fibre\", \"fiber\", \"faiba\",'safaricom home', \"data\", \"internet\", \"bundles\", \"bundle\", \"network\", \"gb\", \"wifi\", \n",
        "            \"connection\", \"youtube\", \"net\", \"mbps\", \"mbs\", \"mb\", \"hanging\"}\n",
        "valueaddedservices = {\"bonga\", \"daima\" , \"lipamdogomdogo\", \"hustler\", \"points\", \"customerobsessionmonth\", \"twendetukiuke\" , \n",
        "                      \"safaricomforyou\", \"uteowafuraha\", \"birthday\", \"app\", \"zuri\", \"csmonth\", \"tuinuane\"}\n",
        "customercare = {\"simcards\", \"customer\", \"service\", \"customerservice\", \"poor\", \"problem\", \"register\", \"registration\", \n",
        "                \"registered\", \"scam\", \"sim\"}\n",
        "def label_tweet(tweet):\n",
        "    if mpesa.intersection(tweet.split(\" \")):\n",
        "        return \"mpesa\"\n",
        "    elif internet.intersection(tweet.split(\" \")):\n",
        "        return \"internet\"\n",
        "    elif voice.intersection(tweet.split(\" \")):\n",
        "        return \"voice\"\n",
        "    elif valueaddedservices.intersection(tweet.split(\" \")):\n",
        "        return \"valueaddedservices\"\n",
        "    elif customercare.intersection(tweet.split(\" \")):\n",
        "        return \"customercare\"\n",
        "    else:\n",
        "        return \"general\"\n",
        "# Add a new column to the dataframe with the labels for each tweet\n",
        "df[\"Category\"] = df['Clean_Tweets'].apply(label_tweet)\n",
        "df[\"Category\"].value_counts()\n"
      ]
    },
    {
      "cell_type": "code",
      "execution_count": 139,
      "metadata": {
        "colab": {
          "base_uri": "https://localhost:8080/",
          "height": 424
        },
        "id": "-2-6GhSt7qj2",
        "outputId": "56486911-c838-4dd4-87e4-ceeb673d38a7"
      },
      "outputs": [
        {
          "output_type": "execute_result",
          "data": {
            "text/plain": [
              "                         Datetime             Tweet Id         Username  \\\n",
              "2       2022-12-14 23:35:29+00:00  1603171849428508673   I_im_kibagendi   \n",
              "3       2022-12-14 23:34:57+00:00  1603171716594692096   MutonyeMutuku_   \n",
              "4       2022-12-14 23:19:59+00:00  1603167951682764800    ndungujosephn   \n",
              "5       2022-12-14 23:00:12+00:00  1603162972456640517   cellestialtech   \n",
              "6       2022-12-14 22:58:45+00:00  1603162608898637824  LuckySa89737923   \n",
              "...                           ...                  ...              ...   \n",
              "999996  2018-10-26 11:00:21+00:00  1055776139237568512     vincegfxpert   \n",
              "999997  2018-10-26 10:58:57+00:00  1055775786958024704        KThefirst   \n",
              "999998  2018-10-26 10:58:36+00:00  1055775697233424384          gimwesh   \n",
              "999999  2018-10-26 10:58:27+00:00  1055775662072623105   hbograndmaster   \n",
              "1000000 2018-10-26 10:58:23+00:00  1055775643055673344        munene___   \n",
              "\n",
              "                                              Clean_Tweets  hour Time_of_Day  \\\n",
              "2        see started clearly show boychild misses funda...    23     Evening   \n",
              "3        demand statement concerning maxine wahome youv...    23     Evening   \n",
              "4        th december birthday see something data bundle...    23     Evening   \n",
              "5        man dead buggers holding sponsorship maxinewah...    23     Evening   \n",
              "6        kumbe hizi bundles za saf huwa scam thought zi...    22     Evening   \n",
              "...                                                    ...   ...         ...   \n",
              "999996           god knows happened quick responses forget    11     Morning   \n",
              "999997   saf hamjawai nipromote si mfanye ivyo woiye na...    10     Morning   \n",
              "999998        havent received promotion used safaricom yrs    10     Morning   \n",
              "999999                     chenye nishawahi shinda tu njaa    10     Morning   \n",
              "1000000                        nataka za mzinga leo friday    10     Morning   \n",
              "\n",
              "         Category  \n",
              "2         general  \n",
              "3           mpesa  \n",
              "4        internet  \n",
              "5         general  \n",
              "6        internet  \n",
              "...           ...  \n",
              "999996    general  \n",
              "999997    general  \n",
              "999998    general  \n",
              "999999    general  \n",
              "1000000   general  \n",
              "\n",
              "[446076 rows x 7 columns]"
            ],
            "text/html": [
              "\n",
              "  <div id=\"df-670c533b-ae9b-4c76-950a-e09de32f9668\">\n",
              "    <div class=\"colab-df-container\">\n",
              "      <div>\n",
              "<style scoped>\n",
              "    .dataframe tbody tr th:only-of-type {\n",
              "        vertical-align: middle;\n",
              "    }\n",
              "\n",
              "    .dataframe tbody tr th {\n",
              "        vertical-align: top;\n",
              "    }\n",
              "\n",
              "    .dataframe thead th {\n",
              "        text-align: right;\n",
              "    }\n",
              "</style>\n",
              "<table border=\"1\" class=\"dataframe\">\n",
              "  <thead>\n",
              "    <tr style=\"text-align: right;\">\n",
              "      <th></th>\n",
              "      <th>Datetime</th>\n",
              "      <th>Tweet Id</th>\n",
              "      <th>Username</th>\n",
              "      <th>Clean_Tweets</th>\n",
              "      <th>hour</th>\n",
              "      <th>Time_of_Day</th>\n",
              "      <th>Category</th>\n",
              "    </tr>\n",
              "  </thead>\n",
              "  <tbody>\n",
              "    <tr>\n",
              "      <th>2</th>\n",
              "      <td>2022-12-14 23:35:29+00:00</td>\n",
              "      <td>1603171849428508673</td>\n",
              "      <td>I_im_kibagendi</td>\n",
              "      <td>see started clearly show boychild misses funda...</td>\n",
              "      <td>23</td>\n",
              "      <td>Evening</td>\n",
              "      <td>general</td>\n",
              "    </tr>\n",
              "    <tr>\n",
              "      <th>3</th>\n",
              "      <td>2022-12-14 23:34:57+00:00</td>\n",
              "      <td>1603171716594692096</td>\n",
              "      <td>MutonyeMutuku_</td>\n",
              "      <td>demand statement concerning maxine wahome youv...</td>\n",
              "      <td>23</td>\n",
              "      <td>Evening</td>\n",
              "      <td>mpesa</td>\n",
              "    </tr>\n",
              "    <tr>\n",
              "      <th>4</th>\n",
              "      <td>2022-12-14 23:19:59+00:00</td>\n",
              "      <td>1603167951682764800</td>\n",
              "      <td>ndungujosephn</td>\n",
              "      <td>th december birthday see something data bundle...</td>\n",
              "      <td>23</td>\n",
              "      <td>Evening</td>\n",
              "      <td>internet</td>\n",
              "    </tr>\n",
              "    <tr>\n",
              "      <th>5</th>\n",
              "      <td>2022-12-14 23:00:12+00:00</td>\n",
              "      <td>1603162972456640517</td>\n",
              "      <td>cellestialtech</td>\n",
              "      <td>man dead buggers holding sponsorship maxinewah...</td>\n",
              "      <td>23</td>\n",
              "      <td>Evening</td>\n",
              "      <td>general</td>\n",
              "    </tr>\n",
              "    <tr>\n",
              "      <th>6</th>\n",
              "      <td>2022-12-14 22:58:45+00:00</td>\n",
              "      <td>1603162608898637824</td>\n",
              "      <td>LuckySa89737923</td>\n",
              "      <td>kumbe hizi bundles za saf huwa scam thought zi...</td>\n",
              "      <td>22</td>\n",
              "      <td>Evening</td>\n",
              "      <td>internet</td>\n",
              "    </tr>\n",
              "    <tr>\n",
              "      <th>...</th>\n",
              "      <td>...</td>\n",
              "      <td>...</td>\n",
              "      <td>...</td>\n",
              "      <td>...</td>\n",
              "      <td>...</td>\n",
              "      <td>...</td>\n",
              "      <td>...</td>\n",
              "    </tr>\n",
              "    <tr>\n",
              "      <th>999996</th>\n",
              "      <td>2018-10-26 11:00:21+00:00</td>\n",
              "      <td>1055776139237568512</td>\n",
              "      <td>vincegfxpert</td>\n",
              "      <td>god knows happened quick responses forget</td>\n",
              "      <td>11</td>\n",
              "      <td>Morning</td>\n",
              "      <td>general</td>\n",
              "    </tr>\n",
              "    <tr>\n",
              "      <th>999997</th>\n",
              "      <td>2018-10-26 10:58:57+00:00</td>\n",
              "      <td>1055775786958024704</td>\n",
              "      <td>KThefirst</td>\n",
              "      <td>saf hamjawai nipromote si mfanye ivyo woiye na...</td>\n",
              "      <td>10</td>\n",
              "      <td>Morning</td>\n",
              "      <td>general</td>\n",
              "    </tr>\n",
              "    <tr>\n",
              "      <th>999998</th>\n",
              "      <td>2018-10-26 10:58:36+00:00</td>\n",
              "      <td>1055775697233424384</td>\n",
              "      <td>gimwesh</td>\n",
              "      <td>havent received promotion used safaricom yrs</td>\n",
              "      <td>10</td>\n",
              "      <td>Morning</td>\n",
              "      <td>general</td>\n",
              "    </tr>\n",
              "    <tr>\n",
              "      <th>999999</th>\n",
              "      <td>2018-10-26 10:58:27+00:00</td>\n",
              "      <td>1055775662072623105</td>\n",
              "      <td>hbograndmaster</td>\n",
              "      <td>chenye nishawahi shinda tu njaa</td>\n",
              "      <td>10</td>\n",
              "      <td>Morning</td>\n",
              "      <td>general</td>\n",
              "    </tr>\n",
              "    <tr>\n",
              "      <th>1000000</th>\n",
              "      <td>2018-10-26 10:58:23+00:00</td>\n",
              "      <td>1055775643055673344</td>\n",
              "      <td>munene___</td>\n",
              "      <td>nataka za mzinga leo friday</td>\n",
              "      <td>10</td>\n",
              "      <td>Morning</td>\n",
              "      <td>general</td>\n",
              "    </tr>\n",
              "  </tbody>\n",
              "</table>\n",
              "<p>446076 rows × 7 columns</p>\n",
              "</div>\n",
              "      <button class=\"colab-df-convert\" onclick=\"convertToInteractive('df-670c533b-ae9b-4c76-950a-e09de32f9668')\"\n",
              "              title=\"Convert this dataframe to an interactive table.\"\n",
              "              style=\"display:none;\">\n",
              "        \n",
              "  <svg xmlns=\"http://www.w3.org/2000/svg\" height=\"24px\"viewBox=\"0 0 24 24\"\n",
              "       width=\"24px\">\n",
              "    <path d=\"M0 0h24v24H0V0z\" fill=\"none\"/>\n",
              "    <path d=\"M18.56 5.44l.94 2.06.94-2.06 2.06-.94-2.06-.94-.94-2.06-.94 2.06-2.06.94zm-11 1L8.5 8.5l.94-2.06 2.06-.94-2.06-.94L8.5 2.5l-.94 2.06-2.06.94zm10 10l.94 2.06.94-2.06 2.06-.94-2.06-.94-.94-2.06-.94 2.06-2.06.94z\"/><path d=\"M17.41 7.96l-1.37-1.37c-.4-.4-.92-.59-1.43-.59-.52 0-1.04.2-1.43.59L10.3 9.45l-7.72 7.72c-.78.78-.78 2.05 0 2.83L4 21.41c.39.39.9.59 1.41.59.51 0 1.02-.2 1.41-.59l7.78-7.78 2.81-2.81c.8-.78.8-2.07 0-2.86zM5.41 20L4 18.59l7.72-7.72 1.47 1.35L5.41 20z\"/>\n",
              "  </svg>\n",
              "      </button>\n",
              "      \n",
              "  <style>\n",
              "    .colab-df-container {\n",
              "      display:flex;\n",
              "      flex-wrap:wrap;\n",
              "      gap: 12px;\n",
              "    }\n",
              "\n",
              "    .colab-df-convert {\n",
              "      background-color: #E8F0FE;\n",
              "      border: none;\n",
              "      border-radius: 50%;\n",
              "      cursor: pointer;\n",
              "      display: none;\n",
              "      fill: #1967D2;\n",
              "      height: 32px;\n",
              "      padding: 0 0 0 0;\n",
              "      width: 32px;\n",
              "    }\n",
              "\n",
              "    .colab-df-convert:hover {\n",
              "      background-color: #E2EBFA;\n",
              "      box-shadow: 0px 1px 2px rgba(60, 64, 67, 0.3), 0px 1px 3px 1px rgba(60, 64, 67, 0.15);\n",
              "      fill: #174EA6;\n",
              "    }\n",
              "\n",
              "    [theme=dark] .colab-df-convert {\n",
              "      background-color: #3B4455;\n",
              "      fill: #D2E3FC;\n",
              "    }\n",
              "\n",
              "    [theme=dark] .colab-df-convert:hover {\n",
              "      background-color: #434B5C;\n",
              "      box-shadow: 0px 1px 3px 1px rgba(0, 0, 0, 0.15);\n",
              "      filter: drop-shadow(0px 1px 2px rgba(0, 0, 0, 0.3));\n",
              "      fill: #FFFFFF;\n",
              "    }\n",
              "  </style>\n",
              "\n",
              "      <script>\n",
              "        const buttonEl =\n",
              "          document.querySelector('#df-670c533b-ae9b-4c76-950a-e09de32f9668 button.colab-df-convert');\n",
              "        buttonEl.style.display =\n",
              "          google.colab.kernel.accessAllowed ? 'block' : 'none';\n",
              "\n",
              "        async function convertToInteractive(key) {\n",
              "          const element = document.querySelector('#df-670c533b-ae9b-4c76-950a-e09de32f9668');\n",
              "          const dataTable =\n",
              "            await google.colab.kernel.invokeFunction('convertToInteractive',\n",
              "                                                     [key], {});\n",
              "          if (!dataTable) return;\n",
              "\n",
              "          const docLinkHtml = 'Like what you see? Visit the ' +\n",
              "            '<a target=\"_blank\" href=https://colab.research.google.com/notebooks/data_table.ipynb>data table notebook</a>'\n",
              "            + ' to learn more about interactive tables.';\n",
              "          element.innerHTML = '';\n",
              "          dataTable['output_type'] = 'display_data';\n",
              "          await google.colab.output.renderOutput(dataTable, element);\n",
              "          const docLink = document.createElement('div');\n",
              "          docLink.innerHTML = docLinkHtml;\n",
              "          element.appendChild(docLink);\n",
              "        }\n",
              "      </script>\n",
              "    </div>\n",
              "  </div>\n",
              "  "
            ]
          },
          "metadata": {},
          "execution_count": 139
        }
      ],
      "source": [
        "# removing tweets with less than three words \n",
        "df[\"Clean_Tweets\"] = df.Clean_Tweets.apply(lambda x: x if len(x.split()) > 3 else None)\n",
        "df = df.dropna()\n",
        "df"
      ]
    },
    {
      "cell_type": "markdown",
      "metadata": {
        "id": "_vp0O_z87qj2"
      },
      "source": [
        "### 3.2 Exploratory Data Analysis\n",
        "\n",
        "---\n",
        "\n"
      ]
    },
    {
      "cell_type": "markdown",
      "metadata": {
        "id": "so-vU4VJ7qj2"
      },
      "source": [
        "#### 3.2.1 Univariate Data Analysis"
      ]
    },
    {
      "cell_type": "code",
      "execution_count": 142,
      "metadata": {
        "id": "ElF41mXd7qj2"
      },
      "outputs": [],
      "source": [
        "# a function for displaying a count plot\n",
        "def count_plot(df,column):\n",
        "\n",
        "  \"\"\"This function  creates an sns countplot for a given column\"\"\"\n",
        "  \n",
        "  plt.figure(figsize=(16,8))\n",
        "  sns.countplot(x=column,data=df, order=df[column].value_counts().iloc[:5].index, palette='BuPu')\n",
        "  plt.title(f'{column}')\n",
        "  plt.xlabel(column)\n",
        "  plt.xticks(rotation=90)\n",
        "  plt.show();"
      ]
    },
    {
      "cell_type": "code",
      "execution_count": 143,
      "metadata": {
        "colab": {
          "base_uri": "https://localhost:8080/",
          "height": 619
        },
        "id": "nYSnCx5o7qj2",
        "outputId": "2b53a0f8-b9de-4d1a-9799-42845dd0405c"
      },
      "outputs": [
        {
          "output_type": "display_data",
          "data": {
            "text/plain": [
              "<Figure size 1152x576 with 1 Axes>"
            ],
            "image/png": "[encoded data removed]"
          },
          "metadata": {}
        }
      ],
      "source": [
        "count_plot(df, 'Category')"
      ]
    },
    {
      "cell_type": "code",
      "execution_count": 144,
      "metadata": {
        "colab": {
          "base_uri": "https://localhost:8080/",
          "height": 562
        },
        "id": "oNA4KjoW7qj2",
        "outputId": "cd8cc38e-49ef-4631-d341-06c4ef8e8669"
      },
      "outputs": [
        {
          "output_type": "display_data",
          "data": {
            "text/plain": [
              "<Figure size 1152x576 with 1 Axes>"
            ],
            "image/png": "[encoded data removed]"
          },
          "metadata": {}
        }
      ],
      "source": [
        "count_plot(df, 'Time_of_Day')"
      ]
    },
    {
      "cell_type": "code",
      "execution_count": 145,
      "metadata": {
        "colab": {
          "base_uri": "https://localhost:8080/",
          "height": 490
        },
        "id": "sb8fkzX37qj3",
        "outputId": "945847c7-d4b3-406f-9912-2a027d44f7ad"
      },
      "outputs": [
        {
          "output_type": "execute_result",
          "data": {
            "text/plain": [
              "<matplotlib.image.AxesImage at 0x7fe0fd8ca910>"
            ]
          },
          "metadata": {},
          "execution_count": 145
        },
        {
          "output_type": "display_data",
          "data": {
            "text/plain": [
              "<Figure size 1080x1080 with 1 Axes>"
            ],
            "image/png": "[encoded data removed]"
          },
          "metadata": {}
        }
      ],
      "source": [
        "sentences = tweets_df['Clean_Tweets'].tolist()\n",
        "sentences_ss = \" \".join(sentences)\n",
        "\n",
        "plt.figure(figsize=(15,15))\n",
        "# plt.imshow(WordCloud(background_color='white',mask=twitter_mask).generate(sentences_ss))\n",
        "plt.imshow(WordCloud().generate(sentences_ss))"
      ]
    },
    {
      "cell_type": "markdown",
      "metadata": {
        "id": "pLdrJJhb7qj3"
      },
      "source": [
        "#### 3.2.2 Bivariate Data Analysis"
      ]
    },
    {
      "cell_type": "code",
      "execution_count": 146,
      "metadata": {
        "colab": {
          "base_uri": "https://localhost:8080/",
          "height": 682
        },
        "id": "YWDQNGKf7qj3",
        "outputId": "749d1e30-3cc3-4106-ccfa-7538d11da6d9"
      },
      "outputs": [
        {
          "output_type": "execute_result",
          "data": {
            "text/plain": [
              "(array([0, 1, 2]), <a list of 3 Text major ticklabel objects>)"
            ]
          },
          "metadata": {},
          "execution_count": 146
        },
        {
          "output_type": "display_data",
          "data": {
            "text/plain": [
              "<Figure size 1080x720 with 1 Axes>"
            ],
            "image/png": "[encoded data removed]"
          },
          "metadata": {}
        }
      ],
      "source": [
        "plt.figure(figsize=(15,10))\n",
        "\n",
        "#set seaborn plotting aesthetics\n",
        "sns.set(style='white')\n",
        "\n",
        "#create grouped bar chart\n",
        "sns.countplot(x='Time_of_Day', hue='Category', data=df,\n",
        "            palette=['purple', 'steelblue'])\n",
        "\n",
        "#add overall title\n",
        "plt.title('Category vs Time_of_Day', fontsize=16)\n",
        "\n",
        "#add axis titles\n",
        "plt.xlabel('Time of Day')\n",
        "plt.ylabel('Count')\n",
        "\n",
        "#rotate x-axis labels\n",
        "plt.xticks(rotation=45)"
      ]
    },
    {
      "cell_type": "code",
      "execution_count": 148,
      "metadata": {
        "id": "6T-VBqL07qj3"
      },
      "outputs": [],
      "source": [
        "# categories = df.groupby('Category')\n",
        "\n",
        "# categories.head()"
      ]
    },
    {
      "cell_type": "code",
      "execution_count": 149,
      "metadata": {
        "id": "oATNkzBN7qj3"
      },
      "outputs": [],
      "source": [
        "# general = categories.get_group('general')\n",
        "\n",
        "# general.head(5)"
      ]
    },
    {
      "cell_type": "code",
      "execution_count": 150,
      "metadata": {
        "id": "xxUHYu257qj3"
      },
      "outputs": [],
      "source": [
        "# general[\"Clean_Tweets\"] = general.Clean_Tweets.apply(lambda x: x if len(x.split()) > 3 else None)\n",
        "# general = general.dropna()\n",
        "# general"
      ]
    },
    {
      "cell_type": "code",
      "execution_count": 151,
      "metadata": {
        "id": "3ezutbpx7qj3"
      },
      "outputs": [],
      "source": [
        "# freq = pd.Series(' '.join(general.Clean_Tweets).split()).value_counts()[:50]\n",
        "# freq"
      ]
    },
    {
      "cell_type": "code",
      "execution_count": 152,
      "metadata": {
        "id": "kX5FovHW7qj4"
      },
      "outputs": [],
      "source": [
        "# mpesa = categories.get_group('mpesa')\n",
        "# mpesa = mpesa[:20000]\n",
        "# mpesa"
      ]
    },
    {
      "cell_type": "code",
      "execution_count": 153,
      "metadata": {
        "id": "TPafibbi7qj4"
      },
      "outputs": [],
      "source": [
        "# general= general[:20000]\n",
        "# # general"
      ]
    },
    {
      "cell_type": "code",
      "execution_count": 154,
      "metadata": {
        "id": "yq2nSkHu7qj4"
      },
      "outputs": [],
      "source": [
        "# valueaddedservices = categories.get_group('valueaddedservices')[:20000]  \n",
        "# valueaddedservices"
      ]
    },
    {
      "cell_type": "code",
      "execution_count": 155,
      "metadata": {
        "id": "M5Iea5zL7qj4"
      },
      "outputs": [],
      "source": [
        "# internet= categories.get_group('internet')[:20000] \n",
        "# valueaddedservices = categories.get_group('valueaddedservices')[:20000]  \n",
        "# voice = categories.get_group('voice') [:20000] \n",
        "\n",
        "# customercare = categories.get_group('customercare')[:20000] \n",
        "\n",
        "# df2= pd.concat([general, mpesa, internet,valueaddedservices, voice, customercare])    \n",
        "# df2"
      ]
    },
    {
      "cell_type": "code",
      "execution_count": 156,
      "metadata": {
        "id": "WgnCeEWw7qj4"
      },
      "outputs": [],
      "source": [
        "# from sklearn.utils import shuffle\n",
        "# df = shuffle(df2)\n",
        "# # df"
      ]
    },
    {
      "cell_type": "markdown",
      "metadata": {
        "id": "7ykoZPPu7qj4"
      },
      "source": [
        "# Modelling "
      ]
    },
    {
      "cell_type": "code",
      "execution_count": 157,
      "metadata": {
        "id": "Hpslc1Nw7qj4"
      },
      "outputs": [],
      "source": [
        "# importing the libraries for classiffication\n",
        "from sklearn.model_selection import train_test_split\n",
        "from sklearn.feature_extraction.text import TfidfVectorizer\n",
        "from sklearn.ensemble import RandomForestClassifier \n",
        "from sklearn.preprocessing import OneHotEncoder\n",
        "from sklearn.metrics import accuracy_score, confusion_matrix, classification_report\n",
        "from sklearn.tree import DecisionTreeClassifier\n",
        "from sklearn.pipeline import Pipeline\n",
        "from sklearn.neighbors import KNeighborsClassifier\n",
        "from sklearn.svm import SVC\n"
      ]
    },
    {
      "cell_type": "code",
      "execution_count": 159,
      "metadata": {
        "colab": {
          "base_uri": "https://localhost:8080/",
          "height": 424
        },
        "id": "hY2isic67qj4",
        "outputId": "a4332711-560b-40c7-a7b9-331fe27bc137"
      },
      "outputs": [
        {
          "output_type": "execute_result",
          "data": {
            "text/plain": [
              "                         Datetime             Tweet Id         Username  \\\n",
              "2       2022-12-14 23:35:29+00:00  1603171849428508673   I_im_kibagendi   \n",
              "3       2022-12-14 23:34:57+00:00  1603171716594692096   MutonyeMutuku_   \n",
              "4       2022-12-14 23:19:59+00:00  1603167951682764800    ndungujosephn   \n",
              "5       2022-12-14 23:00:12+00:00  1603162972456640517   cellestialtech   \n",
              "6       2022-12-14 22:58:45+00:00  1603162608898637824  LuckySa89737923   \n",
              "...                           ...                  ...              ...   \n",
              "999996  2018-10-26 11:00:21+00:00  1055776139237568512     vincegfxpert   \n",
              "999997  2018-10-26 10:58:57+00:00  1055775786958024704        KThefirst   \n",
              "999998  2018-10-26 10:58:36+00:00  1055775697233424384          gimwesh   \n",
              "999999  2018-10-26 10:58:27+00:00  1055775662072623105   hbograndmaster   \n",
              "1000000 2018-10-26 10:58:23+00:00  1055775643055673344        munene___   \n",
              "\n",
              "                                              Clean_Tweets  hour Time_of_Day  \\\n",
              "2        see started clearly show boychild misses funda...    23     Evening   \n",
              "3        demand statement concerning maxine wahome youv...    23     Evening   \n",
              "4        th december birthday see something data bundle...    23     Evening   \n",
              "5        man dead buggers holding sponsorship maxinewah...    23     Evening   \n",
              "6        kumbe hizi bundles za saf huwa scam thought zi...    22     Evening   \n",
              "...                                                    ...   ...         ...   \n",
              "999996           god knows happened quick responses forget    11     Morning   \n",
              "999997   saf hamjawai nipromote si mfanye ivyo woiye na...    10     Morning   \n",
              "999998        havent received promotion used safaricom yrs    10     Morning   \n",
              "999999                     chenye nishawahi shinda tu njaa    10     Morning   \n",
              "1000000                        nataka za mzinga leo friday    10     Morning   \n",
              "\n",
              "         Category  \n",
              "2         general  \n",
              "3           mpesa  \n",
              "4        internet  \n",
              "5         general  \n",
              "6        internet  \n",
              "...           ...  \n",
              "999996    general  \n",
              "999997    general  \n",
              "999998    general  \n",
              "999999    general  \n",
              "1000000   general  \n",
              "\n",
              "[446076 rows x 7 columns]"
            ],
            "text/html": [
              "\n",
              "  <div id=\"df-18f75348-5dfd-49b7-9fa2-b7f25dfb14c1\">\n",
              "    <div class=\"colab-df-container\">\n",
              "      <div>\n",
              "<style scoped>\n",
              "    .dataframe tbody tr th:only-of-type {\n",
              "        vertical-align: middle;\n",
              "    }\n",
              "\n",
              "    .dataframe tbody tr th {\n",
              "        vertical-align: top;\n",
              "    }\n",
              "\n",
              "    .dataframe thead th {\n",
              "        text-align: right;\n",
              "    }\n",
              "</style>\n",
              "<table border=\"1\" class=\"dataframe\">\n",
              "  <thead>\n",
              "    <tr style=\"text-align: right;\">\n",
              "      <th></th>\n",
              "      <th>Datetime</th>\n",
              "      <th>Tweet Id</th>\n",
              "      <th>Username</th>\n",
              "      <th>Clean_Tweets</th>\n",
              "      <th>hour</th>\n",
              "      <th>Time_of_Day</th>\n",
              "      <th>Category</th>\n",
              "    </tr>\n",
              "  </thead>\n",
              "  <tbody>\n",
              "    <tr>\n",
              "      <th>2</th>\n",
              "      <td>2022-12-14 23:35:29+00:00</td>\n",
              "      <td>1603171849428508673</td>\n",
              "      <td>I_im_kibagendi</td>\n",
              "      <td>see started clearly show boychild misses funda...</td>\n",
              "      <td>23</td>\n",
              "      <td>Evening</td>\n",
              "      <td>general</td>\n",
              "    </tr>\n",
              "    <tr>\n",
              "      <th>3</th>\n",
              "      <td>2022-12-14 23:34:57+00:00</td>\n",
              "      <td>1603171716594692096</td>\n",
              "      <td>MutonyeMutuku_</td>\n",
              "      <td>demand statement concerning maxine wahome youv...</td>\n",
              "      <td>23</td>\n",
              "      <td>Evening</td>\n",
              "      <td>mpesa</td>\n",
              "    </tr>\n",
              "    <tr>\n",
              "      <th>4</th>\n",
              "      <td>2022-12-14 23:19:59+00:00</td>\n",
              "      <td>1603167951682764800</td>\n",
              "      <td>ndungujosephn</td>\n",
              "      <td>th december birthday see something data bundle...</td>\n",
              "      <td>23</td>\n",
              "      <td>Evening</td>\n",
              "      <td>internet</td>\n",
              "    </tr>\n",
              "    <tr>\n",
              "      <th>5</th>\n",
              "      <td>2022-12-14 23:00:12+00:00</td>\n",
              "      <td>1603162972456640517</td>\n",
              "      <td>cellestialtech</td>\n",
              "      <td>man dead buggers holding sponsorship maxinewah...</td>\n",
              "      <td>23</td>\n",
              "      <td>Evening</td>\n",
              "      <td>general</td>\n",
              "    </tr>\n",
              "    <tr>\n",
              "      <th>6</th>\n",
              "      <td>2022-12-14 22:58:45+00:00</td>\n",
              "      <td>1603162608898637824</td>\n",
              "      <td>LuckySa89737923</td>\n",
              "      <td>kumbe hizi bundles za saf huwa scam thought zi...</td>\n",
              "      <td>22</td>\n",
              "      <td>Evening</td>\n",
              "      <td>internet</td>\n",
              "    </tr>\n",
              "    <tr>\n",
              "      <th>...</th>\n",
              "      <td>...</td>\n",
              "      <td>...</td>\n",
              "      <td>...</td>\n",
              "      <td>...</td>\n",
              "      <td>...</td>\n",
              "      <td>...</td>\n",
              "      <td>...</td>\n",
              "    </tr>\n",
              "    <tr>\n",
              "      <th>999996</th>\n",
              "      <td>2018-10-26 11:00:21+00:00</td>\n",
              "      <td>1055776139237568512</td>\n",
              "      <td>vincegfxpert</td>\n",
              "      <td>god knows happened quick responses forget</td>\n",
              "      <td>11</td>\n",
              "      <td>Morning</td>\n",
              "      <td>general</td>\n",
              "    </tr>\n",
              "    <tr>\n",
              "      <th>999997</th>\n",
              "      <td>2018-10-26 10:58:57+00:00</td>\n",
              "      <td>1055775786958024704</td>\n",
              "      <td>KThefirst</td>\n",
              "      <td>saf hamjawai nipromote si mfanye ivyo woiye na...</td>\n",
              "      <td>10</td>\n",
              "      <td>Morning</td>\n",
              "      <td>general</td>\n",
              "    </tr>\n",
              "    <tr>\n",
              "      <th>999998</th>\n",
              "      <td>2018-10-26 10:58:36+00:00</td>\n",
              "      <td>1055775697233424384</td>\n",
              "      <td>gimwesh</td>\n",
              "      <td>havent received promotion used safaricom yrs</td>\n",
              "      <td>10</td>\n",
              "      <td>Morning</td>\n",
              "      <td>general</td>\n",
              "    </tr>\n",
              "    <tr>\n",
              "      <th>999999</th>\n",
              "      <td>2018-10-26 10:58:27+00:00</td>\n",
              "      <td>1055775662072623105</td>\n",
              "      <td>hbograndmaster</td>\n",
              "      <td>chenye nishawahi shinda tu njaa</td>\n",
              "      <td>10</td>\n",
              "      <td>Morning</td>\n",
              "      <td>general</td>\n",
              "    </tr>\n",
              "    <tr>\n",
              "      <th>1000000</th>\n",
              "      <td>2018-10-26 10:58:23+00:00</td>\n",
              "      <td>1055775643055673344</td>\n",
              "      <td>munene___</td>\n",
              "      <td>nataka za mzinga leo friday</td>\n",
              "      <td>10</td>\n",
              "      <td>Morning</td>\n",
              "      <td>general</td>\n",
              "    </tr>\n",
              "  </tbody>\n",
              "</table>\n",
              "<p>446076 rows × 7 columns</p>\n",
              "</div>\n",
              "      <button class=\"colab-df-convert\" onclick=\"convertToInteractive('df-18f75348-5dfd-49b7-9fa2-b7f25dfb14c1')\"\n",
              "              title=\"Convert this dataframe to an interactive table.\"\n",
              "              style=\"display:none;\">\n",
              "        \n",
              "  <svg xmlns=\"http://www.w3.org/2000/svg\" height=\"24px\"viewBox=\"0 0 24 24\"\n",
              "       width=\"24px\">\n",
              "    <path d=\"M0 0h24v24H0V0z\" fill=\"none\"/>\n",
              "    <path d=\"M18.56 5.44l.94 2.06.94-2.06 2.06-.94-2.06-.94-.94-2.06-.94 2.06-2.06.94zm-11 1L8.5 8.5l.94-2.06 2.06-.94-2.06-.94L8.5 2.5l-.94 2.06-2.06.94zm10 10l.94 2.06.94-2.06 2.06-.94-2.06-.94-.94-2.06-.94 2.06-2.06.94z\"/><path d=\"M17.41 7.96l-1.37-1.37c-.4-.4-.92-.59-1.43-.59-.52 0-1.04.2-1.43.59L10.3 9.45l-7.72 7.72c-.78.78-.78 2.05 0 2.83L4 21.41c.39.39.9.59 1.41.59.51 0 1.02-.2 1.41-.59l7.78-7.78 2.81-2.81c.8-.78.8-2.07 0-2.86zM5.41 20L4 18.59l7.72-7.72 1.47 1.35L5.41 20z\"/>\n",
              "  </svg>\n",
              "      </button>\n",
              "      \n",
              "  <style>\n",
              "    .colab-df-container {\n",
              "      display:flex;\n",
              "      flex-wrap:wrap;\n",
              "      gap: 12px;\n",
              "    }\n",
              "\n",
              "    .colab-df-convert {\n",
              "      background-color: #E8F0FE;\n",
              "      border: none;\n",
              "      border-radius: 50%;\n",
              "      cursor: pointer;\n",
              "      display: none;\n",
              "      fill: #1967D2;\n",
              "      height: 32px;\n",
              "      padding: 0 0 0 0;\n",
              "      width: 32px;\n",
              "    }\n",
              "\n",
              "    .colab-df-convert:hover {\n",
              "      background-color: #E2EBFA;\n",
              "      box-shadow: 0px 1px 2px rgba(60, 64, 67, 0.3), 0px 1px 3px 1px rgba(60, 64, 67, 0.15);\n",
              "      fill: #174EA6;\n",
              "    }\n",
              "\n",
              "    [theme=dark] .colab-df-convert {\n",
              "      background-color: #3B4455;\n",
              "      fill: #D2E3FC;\n",
              "    }\n",
              "\n",
              "    [theme=dark] .colab-df-convert:hover {\n",
              "      background-color: #434B5C;\n",
              "      box-shadow: 0px 1px 3px 1px rgba(0, 0, 0, 0.15);\n",
              "      filter: drop-shadow(0px 1px 2px rgba(0, 0, 0, 0.3));\n",
              "      fill: #FFFFFF;\n",
              "    }\n",
              "  </style>\n",
              "\n",
              "      <script>\n",
              "        const buttonEl =\n",
              "          document.querySelector('#df-18f75348-5dfd-49b7-9fa2-b7f25dfb14c1 button.colab-df-convert');\n",
              "        buttonEl.style.display =\n",
              "          google.colab.kernel.accessAllowed ? 'block' : 'none';\n",
              "\n",
              "        async function convertToInteractive(key) {\n",
              "          const element = document.querySelector('#df-18f75348-5dfd-49b7-9fa2-b7f25dfb14c1');\n",
              "          const dataTable =\n",
              "            await google.colab.kernel.invokeFunction('convertToInteractive',\n",
              "                                                     [key], {});\n",
              "          if (!dataTable) return;\n",
              "\n",
              "          const docLinkHtml = 'Like what you see? Visit the ' +\n",
              "            '<a target=\"_blank\" href=https://colab.research.google.com/notebooks/data_table.ipynb>data table notebook</a>'\n",
              "            + ' to learn more about interactive tables.';\n",
              "          element.innerHTML = '';\n",
              "          dataTable['output_type'] = 'display_data';\n",
              "          await google.colab.output.renderOutput(dataTable, element);\n",
              "          const docLink = document.createElement('div');\n",
              "          docLink.innerHTML = docLinkHtml;\n",
              "          element.appendChild(docLink);\n",
              "        }\n",
              "      </script>\n",
              "    </div>\n",
              "  </div>\n",
              "  "
            ]
          },
          "metadata": {},
          "execution_count": 159
        }
      ],
      "source": [
        "df"
      ]
    },
    {
      "cell_type": "code",
      "execution_count": 160,
      "metadata": {
        "id": "KDHJ5lSW7qj4"
      },
      "outputs": [],
      "source": [
        "# get_dummmies= pd.get_dummies(y) \n",
        "# get_dummmies\n",
        "\n",
        "df[\"Category\"] = df[\"Category\"].astype('category')\n",
        "\n",
        "df[\"cat_num\"] = df[\"Category\"].cat.codes\n"
      ]
    },
    {
      "cell_type": "code",
      "execution_count": 161,
      "metadata": {
        "colab": {
          "base_uri": "https://localhost:8080/"
        },
        "id": "FdhKpNuG7qj4",
        "outputId": "1f2dfbce-1840-4312-fc9b-b893b3632728"
      },
      "outputs": [
        {
          "output_type": "execute_result",
          "data": {
            "text/plain": [
              "1    155486\n",
              "3    112060\n",
              "2     78976\n",
              "4     40132\n",
              "5     38074\n",
              "0     21348\n",
              "Name: cat_num, dtype: int64"
            ]
          },
          "metadata": {},
          "execution_count": 161
        }
      ],
      "source": [
        "df['cat_num'].value_counts()"
      ]
    },
    {
      "cell_type": "code",
      "execution_count": 162,
      "metadata": {
        "colab": {
          "base_uri": "https://localhost:8080/"
        },
        "id": "US5CXOsV7qj5",
        "outputId": "7b9f91f0-77bb-4bbe-f234-a6f82b2c37a8"
      },
      "outputs": [
        {
          "output_type": "execute_result",
          "data": {
            "text/plain": [
              "general               155486\n",
              "mpesa                 112060\n",
              "internet               78976\n",
              "valueaddedservices     40132\n",
              "voice                  38074\n",
              "customercare           21348\n",
              "Name: Category, dtype: int64"
            ]
          },
          "metadata": {},
          "execution_count": 162
        }
      ],
      "source": [
        "df['Category'].value_counts()"
      ]
    },
    {
      "cell_type": "code",
      "execution_count": 164,
      "metadata": {
        "colab": {
          "base_uri": "https://localhost:8080/"
        },
        "id": "pWrM2CqA7qj5",
        "outputId": "279cda34-5e77-4929-ec46-55bc2e911367"
      },
      "outputs": [
        {
          "output_type": "execute_result",
          "data": {
            "text/plain": [
              "<312253x140038 sparse matrix of type '<class 'numpy.float64'>'\n",
              "\twith 2880179 stored elements in Compressed Sparse Row format>"
            ]
          },
          "metadata": {},
          "execution_count": 164
        }
      ],
      "source": [
        "X= df['Clean_Tweets']\n",
        "y= df[\"cat_num\"]\n",
        "# Splitting the values to train and test sets\n",
        "X_train, X_test, y_train, y_test = train_test_split(X, y, random_state= 42, test_size= 0.3)\n",
        "\n",
        "#vectorize X_TRAIN AND X_TEST using tfidf vectorizer\n",
        "tfidf= TfidfVectorizer()\n",
        "X_train = tfidf.fit_transform(X_train)\n",
        "X_test = tfidf.transform(X_test)\n",
        "X_train"
      ]
    },
    {
      "cell_type": "markdown",
      "metadata": {
        "id": "rz199-y27qj5"
      },
      "source": [
        "#### 1. KNN Model"
      ]
    },
    {
      "cell_type": "code",
      "execution_count": null,
      "metadata": {
        "colab": {
          "base_uri": "https://localhost:8080/"
        },
        "id": "9A_T4r4d7qj5",
        "outputId": "5d971072-e819-4bb7-9ecc-ee29f31262b0"
      },
      "outputs": [
        {
          "output_type": "stream",
          "name": "stdout",
          "text": [
            "This model has an accuracy of 54.75889794728859%\n"
          ]
        }
      ],
      "source": [
        "clf= KNeighborsClassifier()\n",
        "clf.fit(X_train, y_train)\n",
        "print(f'This model has an accuracy of {clf.score(X_test, y_test)*100}%')\n",
        "# making predictions\n",
        "y_pred = clf.predict(X_test)\n",
        "# getting the scores for the model\n",
        "print(classification_report(y_test, y_pred))"
      ]
    },
    {
      "cell_type": "markdown",
      "metadata": {
        "id": "cSiCRsu47qj5"
      },
      "source": [
        "### 2. Decision Tree "
      ]
    },
    {
      "cell_type": "code",
      "execution_count": null,
      "metadata": {
        "id": "yxf-O2jx7qj5"
      },
      "outputs": [],
      "source": [
        "# fitting a decision tree classifier\n",
        "tree = DecisionTreeClassifier(max_depth=10, min_samples_leaf=3 , min_samples_split= 100)\n",
        "tree.fit(X_train, y_train)\n",
        "# getting the accuracy\n",
        "print(f'This model has an accuracy of {tree.score(X_test, y_test)*100}%')\n",
        "# getting the scores for the model\n",
        "print(classification_report(y_test, y_pred))"
      ]
    },
    {
      "cell_type": "markdown",
      "metadata": {
        "id": "iwbNH0x-7qj5"
      },
      "source": [
        "### 3. Random Forest"
      ]
    },
    {
      "cell_type": "code",
      "execution_count": null,
      "metadata": {
        "id": "UpP3WPNh7qj5"
      },
      "outputs": [],
      "source": [
        "# fitting a random forest with 2 trees\n",
        "forest = RandomForestClassifier(n_estimators= 2, random_state=2 )\n",
        "forest.fit(X_train, y_train)\n",
        "forest.score(X_train, y_train)\n",
        "print(f'This model has an accuracy of {forest.score(X_test, y_test)*100}%')\n",
        "# making predictions\n",
        "y_pred = forest.predict(X_test)\n",
        "accuracy_score(y_test, y_pred )\n",
        "# getting the scores\n",
        "print(classification_report(y_test, y_pred))"
      ]
    },
    {
      "cell_type": "markdown",
      "metadata": {
        "id": "t79KnUbK7qj5"
      },
      "source": [
        "### 4. SVM"
      ]
    },
    {
      "cell_type": "code",
      "execution_count": null,
      "metadata": {
        "id": "FX1ooQBa7qj5"
      },
      "outputs": [],
      "source": [
        "#initializing the model\n",
        "svc= SVC(kernel= 'rbf', C = 10, gamma= 0.1)\n",
        "# fitting the model\n",
        "svc.fit(X_train, y_train)\n"
      ]
    },
    {
      "cell_type": "code",
      "execution_count": null,
      "metadata": {
        "id": "5OCH5-TV7qj5"
      },
      "outputs": [],
      "source": [
        "svc.score(X_train, y_train)\n",
        "print(f'This model has an accuracy of {svc.score(X_test, y_test)*100}%')\n",
        "y_pred = svc.predict(X_test)\n",
        "\n",
        "print(f'the accuracy of predictions is {accuracy_score(y_test, y_pred )}')\n",
        "print(classification_report(y_test, y_pred))"
      ]
    },
    {
      "cell_type": "markdown",
      "source": [
        "##### Decision Trees with GridSearchCV"
      ],
      "metadata": {
        "id": "_Rjl-i2wrSDm"
      }
    },
    {
      "cell_type": "code",
      "execution_count": null,
      "metadata": {
        "colab": {
          "base_uri": "https://localhost:8080/",
          "height": 407
        },
        "id": "0Jc-HMYc7qj6",
        "outputId": "03d74b10-776a-41a8-f3ea-6e7226175876"
      },
      "outputs": [
        {
          "output_type": "stream",
          "name": "stdout",
          "text": [
            "Fitting 5 folds for each of 144 candidates, totalling 720 fits\n"
          ]
        },
        {
          "output_type": "error",
          "ename": "KeyboardInterrupt",
          "evalue": "ignored",
          "traceback": [
            "\u001b[0;31m---------------------------------------------------------------------------\u001b[0m",
            "\u001b[0;31mKeyboardInterrupt\u001b[0m                         Traceback (most recent call last)",
            "\u001b[0;32m<ipython-input-242-b9ebf79cbab0>\u001b[0m in \u001b[0;36m<module>\u001b[0;34m\u001b[0m\n\u001b[1;32m     21\u001b[0m \u001b[0;34m\u001b[0m\u001b[0m\n\u001b[1;32m     22\u001b[0m \u001b[0;31m# fit the grid search object to your training data\u001b[0m\u001b[0;34m\u001b[0m\u001b[0;34m\u001b[0m\u001b[0;34m\u001b[0m\u001b[0m\n\u001b[0;32m---> 23\u001b[0;31m \u001b[0mgrid_search\u001b[0m\u001b[0;34m.\u001b[0m\u001b[0mfit\u001b[0m\u001b[0;34m(\u001b[0m\u001b[0mX_train\u001b[0m\u001b[0;34m,\u001b[0m \u001b[0my_train\u001b[0m\u001b[0;34m)\u001b[0m\u001b[0;34m\u001b[0m\u001b[0;34m\u001b[0m\u001b[0m\n\u001b[0m\u001b[1;32m     24\u001b[0m \u001b[0;34m\u001b[0m\u001b[0m\n\u001b[1;32m     25\u001b[0m \u001b[0;31m# print the best parameters and score found on the training set\u001b[0m\u001b[0;34m\u001b[0m\u001b[0;34m\u001b[0m\u001b[0;34m\u001b[0m\u001b[0m\n",
            "\u001b[0;32m/usr/local/lib/python3.8/dist-packages/sklearn/model_selection/_search.py\u001b[0m in \u001b[0;36mfit\u001b[0;34m(self, X, y, groups, **fit_params)\u001b[0m\n\u001b[1;32m    889\u001b[0m                 \u001b[0;32mreturn\u001b[0m \u001b[0mresults\u001b[0m\u001b[0;34m\u001b[0m\u001b[0;34m\u001b[0m\u001b[0m\n\u001b[1;32m    890\u001b[0m \u001b[0;34m\u001b[0m\u001b[0m\n\u001b[0;32m--> 891\u001b[0;31m             \u001b[0mself\u001b[0m\u001b[0;34m.\u001b[0m\u001b[0m_run_search\u001b[0m\u001b[0;34m(\u001b[0m\u001b[0mevaluate_candidates\u001b[0m\u001b[0;34m)\u001b[0m\u001b[0;34m\u001b[0m\u001b[0;34m\u001b[0m\u001b[0m\n\u001b[0m\u001b[1;32m    892\u001b[0m \u001b[0;34m\u001b[0m\u001b[0m\n\u001b[1;32m    893\u001b[0m             \u001b[0;31m# multimetric is determined here because in the case of a callable\u001b[0m\u001b[0;34m\u001b[0m\u001b[0;34m\u001b[0m\u001b[0;34m\u001b[0m\u001b[0m\n",
            "\u001b[0;32m/usr/local/lib/python3.8/dist-packages/sklearn/model_selection/_search.py\u001b[0m in \u001b[0;36m_run_search\u001b[0;34m(self, evaluate_candidates)\u001b[0m\n\u001b[1;32m   1390\u001b[0m     \u001b[0;32mdef\u001b[0m \u001b[0m_run_search\u001b[0m\u001b[0;34m(\u001b[0m\u001b[0mself\u001b[0m\u001b[0;34m,\u001b[0m \u001b[0mevaluate_candidates\u001b[0m\u001b[0;34m)\u001b[0m\u001b[0;34m:\u001b[0m\u001b[0;34m\u001b[0m\u001b[0;34m\u001b[0m\u001b[0m\n\u001b[1;32m   1391\u001b[0m         \u001b[0;34m\"\"\"Search all candidates in param_grid\"\"\"\u001b[0m\u001b[0;34m\u001b[0m\u001b[0;34m\u001b[0m\u001b[0m\n\u001b[0;32m-> 1392\u001b[0;31m         \u001b[0mevaluate_candidates\u001b[0m\u001b[0;34m(\u001b[0m\u001b[0mParameterGrid\u001b[0m\u001b[0;34m(\u001b[0m\u001b[0mself\u001b[0m\u001b[0;34m.\u001b[0m\u001b[0mparam_grid\u001b[0m\u001b[0;34m)\u001b[0m\u001b[0;34m)\u001b[0m\u001b[0;34m\u001b[0m\u001b[0;34m\u001b[0m\u001b[0m\n\u001b[0m\u001b[1;32m   1393\u001b[0m \u001b[0;34m\u001b[0m\u001b[0m\n\u001b[1;32m   1394\u001b[0m \u001b[0;34m\u001b[0m\u001b[0m\n",
            "\u001b[0;32m/usr/local/lib/python3.8/dist-packages/sklearn/model_selection/_search.py\u001b[0m in \u001b[0;36mevaluate_candidates\u001b[0;34m(candidate_params, cv, more_results)\u001b[0m\n\u001b[1;32m    836\u001b[0m                     )\n\u001b[1;32m    837\u001b[0m \u001b[0;34m\u001b[0m\u001b[0m\n\u001b[0;32m--> 838\u001b[0;31m                 out = parallel(\n\u001b[0m\u001b[1;32m    839\u001b[0m                     delayed(_fit_and_score)(\n\u001b[1;32m    840\u001b[0m                         \u001b[0mclone\u001b[0m\u001b[0;34m(\u001b[0m\u001b[0mbase_estimator\u001b[0m\u001b[0;34m)\u001b[0m\u001b[0;34m,\u001b[0m\u001b[0;34m\u001b[0m\u001b[0;34m\u001b[0m\u001b[0m\n",
            "\u001b[0;32m/usr/local/lib/python3.8/dist-packages/joblib/parallel.py\u001b[0m in \u001b[0;36m__call__\u001b[0;34m(self, iterable)\u001b[0m\n\u001b[1;32m   1096\u001b[0m \u001b[0;34m\u001b[0m\u001b[0m\n\u001b[1;32m   1097\u001b[0m             \u001b[0;32mwith\u001b[0m \u001b[0mself\u001b[0m\u001b[0;34m.\u001b[0m\u001b[0m_backend\u001b[0m\u001b[0;34m.\u001b[0m\u001b[0mretrieval_context\u001b[0m\u001b[0;34m(\u001b[0m\u001b[0;34m)\u001b[0m\u001b[0;34m:\u001b[0m\u001b[0;34m\u001b[0m\u001b[0;34m\u001b[0m\u001b[0m\n\u001b[0;32m-> 1098\u001b[0;31m                 \u001b[0mself\u001b[0m\u001b[0;34m.\u001b[0m\u001b[0mretrieve\u001b[0m\u001b[0;34m(\u001b[0m\u001b[0;34m)\u001b[0m\u001b[0;34m\u001b[0m\u001b[0;34m\u001b[0m\u001b[0m\n\u001b[0m\u001b[1;32m   1099\u001b[0m             \u001b[0;31m# Make sure that we get a last message telling us we are done\u001b[0m\u001b[0;34m\u001b[0m\u001b[0;34m\u001b[0m\u001b[0;34m\u001b[0m\u001b[0m\n\u001b[1;32m   1100\u001b[0m             \u001b[0melapsed_time\u001b[0m \u001b[0;34m=\u001b[0m \u001b[0mtime\u001b[0m\u001b[0;34m.\u001b[0m\u001b[0mtime\u001b[0m\u001b[0;34m(\u001b[0m\u001b[0;34m)\u001b[0m \u001b[0;34m-\u001b[0m \u001b[0mself\u001b[0m\u001b[0;34m.\u001b[0m\u001b[0m_start_time\u001b[0m\u001b[0;34m\u001b[0m\u001b[0;34m\u001b[0m\u001b[0m\n",
            "\u001b[0;32m/usr/local/lib/python3.8/dist-packages/joblib/parallel.py\u001b[0m in \u001b[0;36mretrieve\u001b[0;34m(self)\u001b[0m\n\u001b[1;32m    973\u001b[0m             \u001b[0;32mtry\u001b[0m\u001b[0;34m:\u001b[0m\u001b[0;34m\u001b[0m\u001b[0;34m\u001b[0m\u001b[0m\n\u001b[1;32m    974\u001b[0m                 \u001b[0;32mif\u001b[0m \u001b[0mgetattr\u001b[0m\u001b[0;34m(\u001b[0m\u001b[0mself\u001b[0m\u001b[0;34m.\u001b[0m\u001b[0m_backend\u001b[0m\u001b[0;34m,\u001b[0m \u001b[0;34m'supports_timeout'\u001b[0m\u001b[0;34m,\u001b[0m \u001b[0;32mFalse\u001b[0m\u001b[0;34m)\u001b[0m\u001b[0;34m:\u001b[0m\u001b[0;34m\u001b[0m\u001b[0;34m\u001b[0m\u001b[0m\n\u001b[0;32m--> 975\u001b[0;31m                     \u001b[0mself\u001b[0m\u001b[0;34m.\u001b[0m\u001b[0m_output\u001b[0m\u001b[0;34m.\u001b[0m\u001b[0mextend\u001b[0m\u001b[0;34m(\u001b[0m\u001b[0mjob\u001b[0m\u001b[0;34m.\u001b[0m\u001b[0mget\u001b[0m\u001b[0;34m(\u001b[0m\u001b[0mtimeout\u001b[0m\u001b[0;34m=\u001b[0m\u001b[0mself\u001b[0m\u001b[0;34m.\u001b[0m\u001b[0mtimeout\u001b[0m\u001b[0;34m)\u001b[0m\u001b[0;34m)\u001b[0m\u001b[0;34m\u001b[0m\u001b[0;34m\u001b[0m\u001b[0m\n\u001b[0m\u001b[1;32m    976\u001b[0m                 \u001b[0;32melse\u001b[0m\u001b[0;34m:\u001b[0m\u001b[0;34m\u001b[0m\u001b[0;34m\u001b[0m\u001b[0m\n\u001b[1;32m    977\u001b[0m                     \u001b[0mself\u001b[0m\u001b[0;34m.\u001b[0m\u001b[0m_output\u001b[0m\u001b[0;34m.\u001b[0m\u001b[0mextend\u001b[0m\u001b[0;34m(\u001b[0m\u001b[0mjob\u001b[0m\u001b[0;34m.\u001b[0m\u001b[0mget\u001b[0m\u001b[0;34m(\u001b[0m\u001b[0;34m)\u001b[0m\u001b[0;34m)\u001b[0m\u001b[0;34m\u001b[0m\u001b[0;34m\u001b[0m\u001b[0m\n",
            "\u001b[0;32m/usr/local/lib/python3.8/dist-packages/joblib/_parallel_backends.py\u001b[0m in \u001b[0;36mwrap_future_result\u001b[0;34m(future, timeout)\u001b[0m\n\u001b[1;32m    565\u001b[0m         AsyncResults.get from multiprocessing.\"\"\"\n\u001b[1;32m    566\u001b[0m         \u001b[0;32mtry\u001b[0m\u001b[0;34m:\u001b[0m\u001b[0;34m\u001b[0m\u001b[0;34m\u001b[0m\u001b[0m\n\u001b[0;32m--> 567\u001b[0;31m             \u001b[0;32mreturn\u001b[0m \u001b[0mfuture\u001b[0m\u001b[0;34m.\u001b[0m\u001b[0mresult\u001b[0m\u001b[0;34m(\u001b[0m\u001b[0mtimeout\u001b[0m\u001b[0;34m=\u001b[0m\u001b[0mtimeout\u001b[0m\u001b[0;34m)\u001b[0m\u001b[0;34m\u001b[0m\u001b[0;34m\u001b[0m\u001b[0m\n\u001b[0m\u001b[1;32m    568\u001b[0m         \u001b[0;32mexcept\u001b[0m \u001b[0mCfTimeoutError\u001b[0m \u001b[0;32mas\u001b[0m \u001b[0me\u001b[0m\u001b[0;34m:\u001b[0m\u001b[0;34m\u001b[0m\u001b[0;34m\u001b[0m\u001b[0m\n\u001b[1;32m    569\u001b[0m             \u001b[0;32mraise\u001b[0m \u001b[0mTimeoutError\u001b[0m \u001b[0;32mfrom\u001b[0m \u001b[0me\u001b[0m\u001b[0;34m\u001b[0m\u001b[0;34m\u001b[0m\u001b[0m\n",
            "\u001b[0;32m/usr/lib/python3.8/concurrent/futures/_base.py\u001b[0m in \u001b[0;36mresult\u001b[0;34m(self, timeout)\u001b[0m\n\u001b[1;32m    437\u001b[0m                     \u001b[0;32mreturn\u001b[0m \u001b[0mself\u001b[0m\u001b[0;34m.\u001b[0m\u001b[0m__get_result\u001b[0m\u001b[0;34m(\u001b[0m\u001b[0;34m)\u001b[0m\u001b[0;34m\u001b[0m\u001b[0;34m\u001b[0m\u001b[0m\n\u001b[1;32m    438\u001b[0m \u001b[0;34m\u001b[0m\u001b[0m\n\u001b[0;32m--> 439\u001b[0;31m                 \u001b[0mself\u001b[0m\u001b[0;34m.\u001b[0m\u001b[0m_condition\u001b[0m\u001b[0;34m.\u001b[0m\u001b[0mwait\u001b[0m\u001b[0;34m(\u001b[0m\u001b[0mtimeout\u001b[0m\u001b[0;34m)\u001b[0m\u001b[0;34m\u001b[0m\u001b[0;34m\u001b[0m\u001b[0m\n\u001b[0m\u001b[1;32m    440\u001b[0m \u001b[0;34m\u001b[0m\u001b[0m\n\u001b[1;32m    441\u001b[0m                 \u001b[0;32mif\u001b[0m \u001b[0mself\u001b[0m\u001b[0;34m.\u001b[0m\u001b[0m_state\u001b[0m \u001b[0;32min\u001b[0m \u001b[0;34m[\u001b[0m\u001b[0mCANCELLED\u001b[0m\u001b[0;34m,\u001b[0m \u001b[0mCANCELLED_AND_NOTIFIED\u001b[0m\u001b[0;34m]\u001b[0m\u001b[0;34m:\u001b[0m\u001b[0;34m\u001b[0m\u001b[0;34m\u001b[0m\u001b[0m\n",
            "\u001b[0;32m/usr/lib/python3.8/threading.py\u001b[0m in \u001b[0;36mwait\u001b[0;34m(self, timeout)\u001b[0m\n\u001b[1;32m    300\u001b[0m         \u001b[0;32mtry\u001b[0m\u001b[0;34m:\u001b[0m    \u001b[0;31m# restore state no matter what (e.g., KeyboardInterrupt)\u001b[0m\u001b[0;34m\u001b[0m\u001b[0;34m\u001b[0m\u001b[0m\n\u001b[1;32m    301\u001b[0m             \u001b[0;32mif\u001b[0m \u001b[0mtimeout\u001b[0m \u001b[0;32mis\u001b[0m \u001b[0;32mNone\u001b[0m\u001b[0;34m:\u001b[0m\u001b[0;34m\u001b[0m\u001b[0;34m\u001b[0m\u001b[0m\n\u001b[0;32m--> 302\u001b[0;31m                 \u001b[0mwaiter\u001b[0m\u001b[0;34m.\u001b[0m\u001b[0macquire\u001b[0m\u001b[0;34m(\u001b[0m\u001b[0;34m)\u001b[0m\u001b[0;34m\u001b[0m\u001b[0;34m\u001b[0m\u001b[0m\n\u001b[0m\u001b[1;32m    303\u001b[0m                 \u001b[0mgotit\u001b[0m \u001b[0;34m=\u001b[0m \u001b[0;32mTrue\u001b[0m\u001b[0;34m\u001b[0m\u001b[0;34m\u001b[0m\u001b[0m\n\u001b[1;32m    304\u001b[0m             \u001b[0;32melse\u001b[0m\u001b[0;34m:\u001b[0m\u001b[0;34m\u001b[0m\u001b[0;34m\u001b[0m\u001b[0m\n",
            "\u001b[0;31mKeyboardInterrupt\u001b[0m: "
          ]
        }
      ],
      "source": [
        "from sklearn.ensemble import RandomForestClassifier\n",
        "from sklearn.model_selection import GridSearchCV\n",
        "\n",
        "# create a list of values for each hyperparameter that you want to tune\n",
        "n_estimators = [10, 50, 100, 200]\n",
        "max_depth = [None, 5, 10, 15]\n",
        "min_samples_split = [2, 5, 10]\n",
        "min_samples_leaf = [1, 2, 4]\n",
        "\n",
        "# create a parameter grid using the values you defined above\n",
        "param_grid = {'n_estimators': n_estimators,\n",
        "              'max_depth': max_depth,\n",
        "              'min_samples_split': min_samples_split,\n",
        "              'min_samples_leaf': min_samples_leaf}\n",
        "\n",
        "# create a random forest classifier\n",
        "clf = RandomForestClassifier()\n",
        "\n",
        "# create a grid search object using the parameter grid and the random forest classifier\n",
        "grid_search = GridSearchCV(estimator=clf, param_grid=param_grid, cv=5, n_jobs=-1, verbose=2)\n",
        "\n",
        "# fit the grid search object to your training data\n",
        "grid_search.fit(X_train, y_train)\n",
        "\n",
        "# print the best parameters and score found on the training set\n",
        "print(grid_search.best_params_)\n",
        "print(grid_search.best_score_)\n",
        "\n",
        "# use the best parameters to make predictions on the test set\n",
        "y_pred = grid_search.predict(X_test)"
      ]
    },
    {
      "cell_type": "code",
      "execution_count": null,
      "metadata": {
        "id": "nyhVBMwk7qj6",
        "outputId": "99569023-f125-4d6f-d26a-810a8025e303"
      },
      "outputs": [
        {
          "data": {
            "image/png": "[encoded data removed]",
            "text/plain": [
              "<Figure size 720x576 with 2 Axes>"
            ]
          },
          "metadata": {},
          "output_type": "display_data"
        }
      ],
      "source": [
        " # plotting the  confusion matrix\n",
        "cm= confusion_matrix(y_test, y_pred)\n",
        "class_label = [0,1,2,3,4,5]\n",
        "df_cm = pd.DataFrame(cm, index=class_label,columns=class_label)\n",
        "\n",
        "    # Plot the Model\n",
        "plt.figure(figsize=(10,8))\n",
        "\n",
        "sns.heatmap(df_cm, annot=True, fmt='d')\n",
        "plt.title(\"Confusion Matrix\")\n",
        "plt.xlabel(\"Predicted Label\")\n",
        "plt.ylabel(\"True Label\")\n",
        "plt.show()"
      ]
    },
    {
      "cell_type": "code",
      "execution_count": null,
      "metadata": {
        "id": "UihZpj-17qj6"
      },
      "outputs": [],
      "source": [
        "# # a pipleline for the models\n",
        "# pipeline1 = Pipeline([('tree',DecisionTreeClassifier(max_depth=10, min_samples_leaf=3 , min_samples_split= 100))]) \n",
        "# #pipeline2 = Pipeline([('forest', RandomForestClassifier(n_estimators=2, random_state= 2))])\n"
      ]
    },
    {
      "cell_type": "code",
      "execution_count": null,
      "metadata": {
        "id": "IxjSp1gc7qj6"
      },
      "outputs": [],
      "source": [
        "# pipeline1.fit_transform(X_train, y_train)\n",
        "# pipeline1.score(X_test, y_test)\n",
        "# y_pred= pipeline1.predict(X_test)\n",
        "# print(classification_report(y_test, y_pred))"
      ]
    },
    {
      "cell_type": "markdown",
      "source": [
        "### Neural Networks"
      ],
      "metadata": {
        "id": "QcnH9ylhPE61"
      }
    },
    {
      "cell_type": "code",
      "source": [
        "# importing libraries\n",
        "import tensorflow as tf\n",
        "import keras\n",
        "from keras.models import Sequential\n",
        "from keras.layers import Input\n",
        "from keras.layers import Dense, Activation\n",
        "from keras import backend as K\n",
        "from keras.layers.core import Dense\n",
        "from keras.optimizers import Adam\n",
        "from keras.metrics import categorical_crossentropy\n",
        "from tensorflow.keras.preprocessing.sequence import pad_sequences\n",
        "from tensorflow.keras.layers import Flatten\n",
        "from tensorflow.keras.preprocessing.text import Tokenizer\n"
      ],
      "metadata": {
        "id": "T7_JPoGTPEAk"
      },
      "execution_count": null,
      "outputs": []
    },
    {
      "cell_type": "markdown",
      "source": [],
      "metadata": {
        "id": "XhuKGYzK1ATG"
      }
    },
    {
      "cell_type": "code",
      "source": [
        "# import numpy as np\n",
        "# from keras.preprocessing.text import Tokenizer\n",
        "# from keras.utils import pad_sequences\n",
        "# from keras.utils import to_categorical\n",
        "# from keras.layers import Embedding, LSTM, Dense, Dropout\n",
        "# from keras.callbacks import EarlyStopping\n",
        "# from keras.models import Sequential\n",
        "# # Load the tweets and labels\n",
        "# tweets = list(df['Clean_Tweets']) # Replace with your list of tweets\n",
        "# df['Category']= df['Category'].astype('category')\n",
        "# labels = list(df['Category'].cat.codes) # Replace with your list of labels (must be 0 for negative, 1 for neutral, and 2 for positive)\n",
        "# # Tokenize the tweets and pad the sequences to have the same length\n",
        "# MAX_SEQUENCE_LENGTH = 280 # This is the maximum number of words in a tweet (as of September 2021)\n",
        "# tokenizer = Tokenizer()\n",
        "# tokenizer.fit_on_texts(tweets)\n",
        "# sequences = tokenizer.texts_to_sequences(tweets)\n",
        "# data = pad_sequences(sequences, maxlen=MAX_SEQUENCE_LENGTH)\n",
        "# # One-hot encode the labels\n",
        "# labels = to_categorical(np.asarray(labels))\n",
        "# # Split the data into training and testing sets\n",
        "# # indices = np.arange(data.shape[0])\n",
        "# # np.random.shuffle(indices)\n",
        "# # data = data[indices]\n",
        "# # labels = labels[indices]\n",
        "# # num_validation_samples = int(90 * data.shape[0])\n",
        "# # x_train = data[:-num_validation_samples]\n",
        "# # y_train = labels[:-num_validation_samples]\n",
        "# # x_val = data[-num_validation_samples:]\n",
        "# # y_val = labels[-num_validation_samples:]\n",
        "# # Create the model\n",
        "# model = Sequential()\n",
        "# model.add(Embedding(20000,128))\n",
        "# model.add(LSTM(25, return_sequences=True))\n",
        "# model.add(Dropout(0.5))\n",
        "# model.add(LSTM(25))\n",
        "# model.add(Dropout(0.5))\n",
        "# model.add(Dense(6, activation='softmax'))\n",
        "# # Compile the model\n",
        "# model.compile(loss='categorical_crossentropy', optimizer='adam', metrics=['accuracy'])\n",
        "# # Train the model\n",
        "# early_stopping = EarlyStopping(monitor='val_loss', min_delta=0, patience=3, verbose=0, mode='auto')\n",
        "# model.fit(X_t, y, epochs=3, batch_size=20, validation_split= 0.1)\n",
        "# # Test the model on the test set\n",
        "# # scores = model.evaluate(x_test, y_test, verbose=0)\n"
      ],
      "metadata": {
        "id": "xBAgdf2RUQjN"
      },
      "execution_count": null,
      "outputs": []
    },
    {
      "cell_type": "code",
      "source": [
        "# X= df['Clean_Tweets']\n",
        "# y= pd.get_dummies(df[\"Category\"]).values\n",
        "\n",
        "# #tokenizing the values\n",
        "# tokenizer = text.Tokenizer(num_words=20000)\n",
        "# tokenizer.fit_on_texts(list(X))\n",
        "# #making the tokens a sequence\n",
        "# list_tokenized_headlines = tokenizer.texts_to_sequences(X)\n",
        "# #padding\n",
        "# X_t = pad_sequences(list_tokenized_headlines, maxlen=100)\n",
        "\n",
        "# # Splitting the values to train and test sets\n",
        "# from sklearn.model_selection import train_test_split\n",
        "# X_train, X_test, y_train, y_test = train_test_split(X_t, y, random_state= 42, test_size= 0.3)\n",
        "\n",
        "# # initializing the model\n",
        "# model = Sequential()\n",
        "# # Create the model\n",
        "# embedding_size = 128\n",
        "# model = Sequential()\n",
        "# model.add(Embedding(20000, embedding_size))\n",
        "# model.add(LSTM(25, return_sequences=True))\n",
        "# model.add(Dropout(0.5))\n",
        "# model.add(LSTM(25))\n",
        "# model.add(Dropout(0.5))\n",
        "# model.add(Dense(6, activation='softmax'))\n",
        "# model.compile(loss='categorical_crossentropy', \n",
        "#               optimizer='adam', \n",
        "#               metrics=['accuracy'])\n",
        "# model.summary()\n",
        "# model.fit(X_train, y_train, epochs=3, batch_size=32, validation_split=0.1)"
      ],
      "metadata": {
        "colab": {
          "base_uri": "https://localhost:8080/",
          "height": 764
        },
        "id": "D-tczm9CWIp9",
        "outputId": "91e15864-0fb2-4a3c-e51c-2477312e5062"
      },
      "execution_count": 110,
      "outputs": [
        {
          "output_type": "stream",
          "name": "stdout",
          "text": [
            "Model: \"sequential_22\"\n",
            "_________________________________________________________________\n",
            " Layer (type)                Output Shape              Param #   \n",
            "=================================================================\n",
            " embedding_16 (Embedding)    (None, None, 128)         2560000   \n",
            "                                                                 \n",
            " lstm_23 (LSTM)              (None, None, 25)          15400     \n",
            "                                                                 \n",
            " dropout_24 (Dropout)        (None, None, 25)          0         \n",
            "                                                                 \n",
            " lstm_24 (LSTM)              (None, 25)                5100      \n",
            "                                                                 \n",
            " dropout_25 (Dropout)        (None, 25)                0         \n",
            "                                                                 \n",
            " dense_15 (Dense)            (None, 6)                 156       \n",
            "                                                                 \n",
            "=================================================================\n",
            "Total params: 2,580,656\n",
            "Trainable params: 2,580,656\n",
            "Non-trainable params: 0\n",
            "_________________________________________________________________\n",
            "Epoch 1/3\n",
            "5467/8783 [=================>............] - ETA: 6:02 - loss: 0.1158 - accuracy: 0.9648"
          ]
        },
        {
          "output_type": "error",
          "ename": "KeyboardInterrupt",
          "evalue": "ignored",
          "traceback": [
            "\u001b[0;31m---------------------------------------------------------------------------\u001b[0m",
            "\u001b[0;31mKeyboardInterrupt\u001b[0m                         Traceback (most recent call last)",
            "\u001b[0;32m<ipython-input-110-786b5b74bac9>\u001b[0m in \u001b[0;36m<module>\u001b[0;34m\u001b[0m\n\u001b[1;32m     29\u001b[0m               metrics=['accuracy'])\n\u001b[1;32m     30\u001b[0m \u001b[0mmodel\u001b[0m\u001b[0;34m.\u001b[0m\u001b[0msummary\u001b[0m\u001b[0;34m(\u001b[0m\u001b[0;34m)\u001b[0m\u001b[0;34m\u001b[0m\u001b[0;34m\u001b[0m\u001b[0m\n\u001b[0;32m---> 31\u001b[0;31m \u001b[0mmodel\u001b[0m\u001b[0;34m.\u001b[0m\u001b[0mfit\u001b[0m\u001b[0;34m(\u001b[0m\u001b[0mX_train\u001b[0m\u001b[0;34m,\u001b[0m \u001b[0my_train\u001b[0m\u001b[0;34m,\u001b[0m \u001b[0mepochs\u001b[0m\u001b[0;34m=\u001b[0m\u001b[0;36m3\u001b[0m\u001b[0;34m,\u001b[0m \u001b[0mbatch_size\u001b[0m\u001b[0;34m=\u001b[0m\u001b[0;36m32\u001b[0m\u001b[0;34m,\u001b[0m \u001b[0mvalidation_split\u001b[0m\u001b[0;34m=\u001b[0m\u001b[0;36m0.1\u001b[0m\u001b[0;34m)\u001b[0m\u001b[0;34m\u001b[0m\u001b[0;34m\u001b[0m\u001b[0m\n\u001b[0m",
            "\u001b[0;32m/usr/local/lib/python3.8/dist-packages/keras/utils/traceback_utils.py\u001b[0m in \u001b[0;36merror_handler\u001b[0;34m(*args, **kwargs)\u001b[0m\n\u001b[1;32m     62\u001b[0m     \u001b[0mfiltered_tb\u001b[0m \u001b[0;34m=\u001b[0m \u001b[0;32mNone\u001b[0m\u001b[0;34m\u001b[0m\u001b[0;34m\u001b[0m\u001b[0m\n\u001b[1;32m     63\u001b[0m     \u001b[0;32mtry\u001b[0m\u001b[0;34m:\u001b[0m\u001b[0;34m\u001b[0m\u001b[0;34m\u001b[0m\u001b[0m\n\u001b[0;32m---> 64\u001b[0;31m       \u001b[0;32mreturn\u001b[0m \u001b[0mfn\u001b[0m\u001b[0;34m(\u001b[0m\u001b[0;34m*\u001b[0m\u001b[0margs\u001b[0m\u001b[0;34m,\u001b[0m \u001b[0;34m**\u001b[0m\u001b[0mkwargs\u001b[0m\u001b[0;34m)\u001b[0m\u001b[0;34m\u001b[0m\u001b[0;34m\u001b[0m\u001b[0m\n\u001b[0m\u001b[1;32m     65\u001b[0m     \u001b[0;32mexcept\u001b[0m \u001b[0mException\u001b[0m \u001b[0;32mas\u001b[0m \u001b[0me\u001b[0m\u001b[0;34m:\u001b[0m  \u001b[0;31m# pylint: disable=broad-except\u001b[0m\u001b[0;34m\u001b[0m\u001b[0;34m\u001b[0m\u001b[0m\n\u001b[1;32m     66\u001b[0m       \u001b[0mfiltered_tb\u001b[0m \u001b[0;34m=\u001b[0m \u001b[0m_process_traceback_frames\u001b[0m\u001b[0;34m(\u001b[0m\u001b[0me\u001b[0m\u001b[0;34m.\u001b[0m\u001b[0m__traceback__\u001b[0m\u001b[0;34m)\u001b[0m\u001b[0;34m\u001b[0m\u001b[0;34m\u001b[0m\u001b[0m\n",
            "\u001b[0;32m/usr/local/lib/python3.8/dist-packages/keras/engine/training.py\u001b[0m in \u001b[0;36mfit\u001b[0;34m(self, x, y, batch_size, epochs, verbose, callbacks, validation_split, validation_data, shuffle, class_weight, sample_weight, initial_epoch, steps_per_epoch, validation_steps, validation_batch_size, validation_freq, max_queue_size, workers, use_multiprocessing)\u001b[0m\n\u001b[1;32m   1407\u001b[0m                 _r=1):\n\u001b[1;32m   1408\u001b[0m               \u001b[0mcallbacks\u001b[0m\u001b[0;34m.\u001b[0m\u001b[0mon_train_batch_begin\u001b[0m\u001b[0;34m(\u001b[0m\u001b[0mstep\u001b[0m\u001b[0;34m)\u001b[0m\u001b[0;34m\u001b[0m\u001b[0;34m\u001b[0m\u001b[0m\n\u001b[0;32m-> 1409\u001b[0;31m               \u001b[0mtmp_logs\u001b[0m \u001b[0;34m=\u001b[0m \u001b[0mself\u001b[0m\u001b[0;34m.\u001b[0m\u001b[0mtrain_function\u001b[0m\u001b[0;34m(\u001b[0m\u001b[0miterator\u001b[0m\u001b[0;34m)\u001b[0m\u001b[0;34m\u001b[0m\u001b[0;34m\u001b[0m\u001b[0m\n\u001b[0m\u001b[1;32m   1410\u001b[0m               \u001b[0;32mif\u001b[0m \u001b[0mdata_handler\u001b[0m\u001b[0;34m.\u001b[0m\u001b[0mshould_sync\u001b[0m\u001b[0;34m:\u001b[0m\u001b[0;34m\u001b[0m\u001b[0;34m\u001b[0m\u001b[0m\n\u001b[1;32m   1411\u001b[0m                 \u001b[0mcontext\u001b[0m\u001b[0;34m.\u001b[0m\u001b[0masync_wait\u001b[0m\u001b[0;34m(\u001b[0m\u001b[0;34m)\u001b[0m\u001b[0;34m\u001b[0m\u001b[0;34m\u001b[0m\u001b[0m\n",
            "\u001b[0;32m/usr/local/lib/python3.8/dist-packages/tensorflow/python/util/traceback_utils.py\u001b[0m in \u001b[0;36merror_handler\u001b[0;34m(*args, **kwargs)\u001b[0m\n\u001b[1;32m    148\u001b[0m     \u001b[0mfiltered_tb\u001b[0m \u001b[0;34m=\u001b[0m \u001b[0;32mNone\u001b[0m\u001b[0;34m\u001b[0m\u001b[0;34m\u001b[0m\u001b[0m\n\u001b[1;32m    149\u001b[0m     \u001b[0;32mtry\u001b[0m\u001b[0;34m:\u001b[0m\u001b[0;34m\u001b[0m\u001b[0;34m\u001b[0m\u001b[0m\n\u001b[0;32m--> 150\u001b[0;31m       \u001b[0;32mreturn\u001b[0m \u001b[0mfn\u001b[0m\u001b[0;34m(\u001b[0m\u001b[0;34m*\u001b[0m\u001b[0margs\u001b[0m\u001b[0;34m,\u001b[0m \u001b[0;34m**\u001b[0m\u001b[0mkwargs\u001b[0m\u001b[0;34m)\u001b[0m\u001b[0;34m\u001b[0m\u001b[0;34m\u001b[0m\u001b[0m\n\u001b[0m\u001b[1;32m    151\u001b[0m     \u001b[0;32mexcept\u001b[0m \u001b[0mException\u001b[0m \u001b[0;32mas\u001b[0m \u001b[0me\u001b[0m\u001b[0;34m:\u001b[0m\u001b[0;34m\u001b[0m\u001b[0;34m\u001b[0m\u001b[0m\n\u001b[1;32m    152\u001b[0m       \u001b[0mfiltered_tb\u001b[0m \u001b[0;34m=\u001b[0m \u001b[0m_process_traceback_frames\u001b[0m\u001b[0;34m(\u001b[0m\u001b[0me\u001b[0m\u001b[0;34m.\u001b[0m\u001b[0m__traceback__\u001b[0m\u001b[0;34m)\u001b[0m\u001b[0;34m\u001b[0m\u001b[0;34m\u001b[0m\u001b[0m\n",
            "\u001b[0;32m/usr/local/lib/python3.8/dist-packages/tensorflow/python/eager/def_function.py\u001b[0m in \u001b[0;36m__call__\u001b[0;34m(self, *args, **kwds)\u001b[0m\n\u001b[1;32m    913\u001b[0m \u001b[0;34m\u001b[0m\u001b[0m\n\u001b[1;32m    914\u001b[0m       \u001b[0;32mwith\u001b[0m \u001b[0mOptionalXlaContext\u001b[0m\u001b[0;34m(\u001b[0m\u001b[0mself\u001b[0m\u001b[0;34m.\u001b[0m\u001b[0m_jit_compile\u001b[0m\u001b[0;34m)\u001b[0m\u001b[0;34m:\u001b[0m\u001b[0;34m\u001b[0m\u001b[0;34m\u001b[0m\u001b[0m\n\u001b[0;32m--> 915\u001b[0;31m         \u001b[0mresult\u001b[0m \u001b[0;34m=\u001b[0m \u001b[0mself\u001b[0m\u001b[0;34m.\u001b[0m\u001b[0m_call\u001b[0m\u001b[0;34m(\u001b[0m\u001b[0;34m*\u001b[0m\u001b[0margs\u001b[0m\u001b[0;34m,\u001b[0m \u001b[0;34m**\u001b[0m\u001b[0mkwds\u001b[0m\u001b[0;34m)\u001b[0m\u001b[0;34m\u001b[0m\u001b[0;34m\u001b[0m\u001b[0m\n\u001b[0m\u001b[1;32m    916\u001b[0m \u001b[0;34m\u001b[0m\u001b[0m\n\u001b[1;32m    917\u001b[0m       \u001b[0mnew_tracing_count\u001b[0m \u001b[0;34m=\u001b[0m \u001b[0mself\u001b[0m\u001b[0;34m.\u001b[0m\u001b[0mexperimental_get_tracing_count\u001b[0m\u001b[0;34m(\u001b[0m\u001b[0;34m)\u001b[0m\u001b[0;34m\u001b[0m\u001b[0;34m\u001b[0m\u001b[0m\n",
            "\u001b[0;32m/usr/local/lib/python3.8/dist-packages/tensorflow/python/eager/def_function.py\u001b[0m in \u001b[0;36m_call\u001b[0;34m(self, *args, **kwds)\u001b[0m\n\u001b[1;32m    945\u001b[0m       \u001b[0;31m# In this case we have created variables on the first call, so we run the\u001b[0m\u001b[0;34m\u001b[0m\u001b[0;34m\u001b[0m\u001b[0;34m\u001b[0m\u001b[0m\n\u001b[1;32m    946\u001b[0m       \u001b[0;31m# defunned version which is guaranteed to never create variables.\u001b[0m\u001b[0;34m\u001b[0m\u001b[0;34m\u001b[0m\u001b[0;34m\u001b[0m\u001b[0m\n\u001b[0;32m--> 947\u001b[0;31m       \u001b[0;32mreturn\u001b[0m \u001b[0mself\u001b[0m\u001b[0;34m.\u001b[0m\u001b[0m_stateless_fn\u001b[0m\u001b[0;34m(\u001b[0m\u001b[0;34m*\u001b[0m\u001b[0margs\u001b[0m\u001b[0;34m,\u001b[0m \u001b[0;34m**\u001b[0m\u001b[0mkwds\u001b[0m\u001b[0;34m)\u001b[0m  \u001b[0;31m# pylint: disable=not-callable\u001b[0m\u001b[0;34m\u001b[0m\u001b[0;34m\u001b[0m\u001b[0m\n\u001b[0m\u001b[1;32m    948\u001b[0m     \u001b[0;32melif\u001b[0m \u001b[0mself\u001b[0m\u001b[0;34m.\u001b[0m\u001b[0m_stateful_fn\u001b[0m \u001b[0;32mis\u001b[0m \u001b[0;32mnot\u001b[0m \u001b[0;32mNone\u001b[0m\u001b[0;34m:\u001b[0m\u001b[0;34m\u001b[0m\u001b[0;34m\u001b[0m\u001b[0m\n\u001b[1;32m    949\u001b[0m       \u001b[0;31m# Release the lock early so that multiple threads can perform the call\u001b[0m\u001b[0;34m\u001b[0m\u001b[0;34m\u001b[0m\u001b[0;34m\u001b[0m\u001b[0m\n",
            "\u001b[0;32m/usr/local/lib/python3.8/dist-packages/tensorflow/python/eager/function.py\u001b[0m in \u001b[0;36m__call__\u001b[0;34m(self, *args, **kwargs)\u001b[0m\n\u001b[1;32m   2451\u001b[0m       (graph_function,\n\u001b[1;32m   2452\u001b[0m        filtered_flat_args) = self._maybe_define_function(args, kwargs)\n\u001b[0;32m-> 2453\u001b[0;31m     return graph_function._call_flat(\n\u001b[0m\u001b[1;32m   2454\u001b[0m         filtered_flat_args, captured_inputs=graph_function.captured_inputs)  # pylint: disable=protected-access\n\u001b[1;32m   2455\u001b[0m \u001b[0;34m\u001b[0m\u001b[0m\n",
            "\u001b[0;32m/usr/local/lib/python3.8/dist-packages/tensorflow/python/eager/function.py\u001b[0m in \u001b[0;36m_call_flat\u001b[0;34m(self, args, captured_inputs, cancellation_manager)\u001b[0m\n\u001b[1;32m   1858\u001b[0m         and executing_eagerly):\n\u001b[1;32m   1859\u001b[0m       \u001b[0;31m# No tape is watching; skip to running the function.\u001b[0m\u001b[0;34m\u001b[0m\u001b[0;34m\u001b[0m\u001b[0;34m\u001b[0m\u001b[0m\n\u001b[0;32m-> 1860\u001b[0;31m       return self._build_call_outputs(self._inference_function.call(\n\u001b[0m\u001b[1;32m   1861\u001b[0m           ctx, args, cancellation_manager=cancellation_manager))\n\u001b[1;32m   1862\u001b[0m     forward_backward = self._select_forward_and_backward_functions(\n",
            "\u001b[0;32m/usr/local/lib/python3.8/dist-packages/tensorflow/python/eager/function.py\u001b[0m in \u001b[0;36mcall\u001b[0;34m(self, ctx, args, cancellation_manager)\u001b[0m\n\u001b[1;32m    495\u001b[0m       \u001b[0;32mwith\u001b[0m \u001b[0m_InterpolateFunctionError\u001b[0m\u001b[0;34m(\u001b[0m\u001b[0mself\u001b[0m\u001b[0;34m)\u001b[0m\u001b[0;34m:\u001b[0m\u001b[0;34m\u001b[0m\u001b[0;34m\u001b[0m\u001b[0m\n\u001b[1;32m    496\u001b[0m         \u001b[0;32mif\u001b[0m \u001b[0mcancellation_manager\u001b[0m \u001b[0;32mis\u001b[0m \u001b[0;32mNone\u001b[0m\u001b[0;34m:\u001b[0m\u001b[0;34m\u001b[0m\u001b[0;34m\u001b[0m\u001b[0m\n\u001b[0;32m--> 497\u001b[0;31m           outputs = execute.execute(\n\u001b[0m\u001b[1;32m    498\u001b[0m               \u001b[0mstr\u001b[0m\u001b[0;34m(\u001b[0m\u001b[0mself\u001b[0m\u001b[0;34m.\u001b[0m\u001b[0msignature\u001b[0m\u001b[0;34m.\u001b[0m\u001b[0mname\u001b[0m\u001b[0;34m)\u001b[0m\u001b[0;34m,\u001b[0m\u001b[0;34m\u001b[0m\u001b[0;34m\u001b[0m\u001b[0m\n\u001b[1;32m    499\u001b[0m               \u001b[0mnum_outputs\u001b[0m\u001b[0;34m=\u001b[0m\u001b[0mself\u001b[0m\u001b[0;34m.\u001b[0m\u001b[0m_num_outputs\u001b[0m\u001b[0;34m,\u001b[0m\u001b[0;34m\u001b[0m\u001b[0;34m\u001b[0m\u001b[0m\n",
            "\u001b[0;32m/usr/local/lib/python3.8/dist-packages/tensorflow/python/eager/execute.py\u001b[0m in \u001b[0;36mquick_execute\u001b[0;34m(op_name, num_outputs, inputs, attrs, ctx, name)\u001b[0m\n\u001b[1;32m     52\u001b[0m   \u001b[0;32mtry\u001b[0m\u001b[0;34m:\u001b[0m\u001b[0;34m\u001b[0m\u001b[0;34m\u001b[0m\u001b[0m\n\u001b[1;32m     53\u001b[0m     \u001b[0mctx\u001b[0m\u001b[0;34m.\u001b[0m\u001b[0mensure_initialized\u001b[0m\u001b[0;34m(\u001b[0m\u001b[0;34m)\u001b[0m\u001b[0;34m\u001b[0m\u001b[0;34m\u001b[0m\u001b[0m\n\u001b[0;32m---> 54\u001b[0;31m     tensors = pywrap_tfe.TFE_Py_Execute(ctx._handle, device_name, op_name,\n\u001b[0m\u001b[1;32m     55\u001b[0m                                         inputs, attrs, num_outputs)\n\u001b[1;32m     56\u001b[0m   \u001b[0;32mexcept\u001b[0m \u001b[0mcore\u001b[0m\u001b[0;34m.\u001b[0m\u001b[0m_NotOkStatusException\u001b[0m \u001b[0;32mas\u001b[0m \u001b[0me\u001b[0m\u001b[0;34m:\u001b[0m\u001b[0;34m\u001b[0m\u001b[0;34m\u001b[0m\u001b[0m\n",
            "\u001b[0;31mKeyboardInterrupt\u001b[0m: "
          ]
        }
      ]
    },
    {
      "cell_type": "code",
      "source": [
        "# scores = model.evaluate(X_test, y_test, verbose=0)\n",
        "# scores"
      ],
      "metadata": {
        "id": "pacEIciQeDrM"
      },
      "execution_count": null,
      "outputs": []
    },
    {
      "cell_type": "code",
      "source": [
        "from tensorflow.keras.preprocessing.sequence import pad_sequences\n",
        "from keras.layers import Input, Dense, LSTM, Embedding\n",
        "from keras.layers import Dropout, Activation, Bidirectional, GlobalMaxPool1D\n",
        "from keras.models import Sequential\n",
        "from keras import initializers, regularizers, constraints, optimizers, layers\n",
        "from keras.preprocessing import text, sequence"
      ],
      "metadata": {
        "id": "sMC2tdRhzU_G"
      },
      "execution_count": 96,
      "outputs": []
    },
    {
      "cell_type": "code",
      "source": [
        "target= df['Category']\n",
        "y = pd.get_dummies(target).values\n",
        "tokenizer = Tokenizer(num_words=20000)\n",
        "tokenizer.fit_on_texts(list(df['Clean_Tweets']))\n",
        "list_tokenized_headlines = tokenizer.texts_to_sequences(df['Clean_Tweets'])\n",
        "X_t = pad_sequences(list_tokenized_headlines, maxlen=100)\n",
        "\n",
        "# create the model\n",
        "model = Sequential()\n",
        "# embedding\n",
        "embedding_size = 128\n",
        "model.add(Embedding(20000, embedding_size))\n",
        "model.add(LSTM(25, return_sequences=True))\n",
        "model.add(GlobalMaxPool1D())\n",
        "model.add(Dropout(0.5))\n",
        "model.add(Dense(50, activation='relu'))\n",
        "model.add(Dropout(0.5))\n",
        "model.add(Dense(6, activation='softmax'))\n",
        "#compile the model\n",
        "model.compile(loss='categorical_crossentropy', \n",
        "              optimizer='adam', \n",
        "              metrics=['accuracy'])\n",
        "model.summary()"
      ],
      "metadata": {
        "id": "hbtvUn8UzeAA",
        "colab": {
          "base_uri": "https://localhost:8080/"
        },
        "outputId": "896efac7-f403-4d66-bbf1-a343c58dd394"
      },
      "execution_count": 99,
      "outputs": [
        {
          "output_type": "stream",
          "name": "stdout",
          "text": [
            "Model: \"sequential_12\"\n",
            "_________________________________________________________________\n",
            " Layer (type)                Output Shape              Param #   \n",
            "=================================================================\n",
            " embedding_9 (Embedding)     (None, None, 128)         2560000   \n",
            "                                                                 \n",
            " lstm_10 (LSTM)              (None, None, 25)          15400     \n",
            "                                                                 \n",
            " global_max_pooling1d_1 (Glo  (None, 25)               0         \n",
            " balMaxPooling1D)                                                \n",
            "                                                                 \n",
            " dropout_10 (Dropout)        (None, 25)                0         \n",
            "                                                                 \n",
            " dense_7 (Dense)             (None, 50)                1300      \n",
            "                                                                 \n",
            " dropout_11 (Dropout)        (None, 50)                0         \n",
            "                                                                 \n",
            " dense_8 (Dense)             (None, 6)                 306       \n",
            "                                                                 \n",
            "=================================================================\n",
            "Total params: 2,577,006\n",
            "Trainable params: 2,577,006\n",
            "Non-trainable params: 0\n",
            "_________________________________________________________________\n"
          ]
        }
      ]
    },
    {
      "cell_type": "code",
      "source": [
        "model.fit(X_t, y, epochs=3, batch_size=32, validation_split=0.1)"
      ],
      "metadata": {
        "id": "mXsDFvyEz9io",
        "colab": {
          "base_uri": "https://localhost:8080/"
        },
        "outputId": "62adb063-0a38-470c-93b7-cd7fd46e0d7d"
      },
      "execution_count": 100,
      "outputs": [
        {
          "output_type": "stream",
          "name": "stdout",
          "text": [
            "Epoch 1/3\n",
            "12546/12546 [==============================] - 912s 72ms/step - loss: 0.0777 - accuracy: 0.9741 - val_loss: 1.5192e-04 - val_accuracy: 1.0000\n",
            "Epoch 2/3\n",
            "12546/12546 [==============================] - 963s 77ms/step - loss: 0.0166 - accuracy: 0.9954 - val_loss: 4.2018e-04 - val_accuracy: 0.9999\n",
            "Epoch 3/3\n",
            "12546/12546 [==============================] - 893s 71ms/step - loss: 0.0124 - accuracy: 0.9969 - val_loss: 5.3114e-04 - val_accuracy: 1.0000\n"
          ]
        },
        {
          "output_type": "execute_result",
          "data": {
            "text/plain": [
              "<keras.callbacks.History at 0x7fe102c02bb0>"
            ]
          },
          "metadata": {},
          "execution_count": 100
        }
      ]
    },
    {
      "cell_type": "code",
      "source": [
        "X= df['Clean_Tweets']\n",
        "y= pd.get_dummies(df[\"Category\"]).values\n",
        "# Splitting the values to train and test sets\n",
        "X_train, X_test, y_train, y_test = train_test_split(X, y, random_state= 42, test_size= 0.3)\n",
        "tokenizer = text.Tokenizer(num_words=20000)\n",
        "tokenizer.fit_on_texts(list(X_train))\n",
        "list_tokenized_headlines = tokenizer.texts_to_sequences(X_train)\n",
        "X_t = pad_sequences(list_tokenized_headlines, maxlen=100)\n",
        "model = Sequential()\n",
        "# Create the model\n",
        "embedding_size = 128\n",
        "model = Sequential()\n",
        "model.add(Embedding(20000, embedding_size))\n",
        "model.add(LSTM(25, return_sequences=True))\n",
        "model.add(GlobalMaxPool1D())\n",
        "model.add(Dropout(0.5))\n",
        "model.add(LSTM(25))\n",
        "model.add(Dropout(0.5))\n",
        "model.add(Dense(6, activation='softmax'))\n",
        "model.compile(loss='categorical_crossentropy', \n",
        "              optimizer='adam', \n",
        "              metrics=['accuracy'])\n",
        "model.summary()\n",
        "model.fit(X_t, y_train, epochs=3, batch_size=32, validation_split=0.2)"
      ],
      "metadata": {
        "id": "1BNmtEL74wbn"
      },
      "execution_count": null,
      "outputs": []
    },
    {
      "cell_type": "code",
      "source": [
        "tokenizer = text.Tokenizer(num_words=20000)\n",
        "tokenizer.fit_on_texts(list(X_test))\n",
        "list_tokenized_tweets = tokenizer.texts_to_sequences(X_test)\n",
        "X_test = pad_sequences(list_tokenized_tweets, maxlen=100)\n",
        "model.fit(X_test, y_train, epochs=3, batch_size=32, validation_split=0.1)"
      ],
      "metadata": {
        "id": "_GKL1ChzYnKh"
      },
      "execution_count": null,
      "outputs": []
    },
    {
      "cell_type": "code",
      "source": [
        "model.fit(X_test, y_test, epochs=3, batch_size=32, validation_split=0.1)"
      ],
      "metadata": {
        "id": "MQMuWTT1smj2"
      },
      "execution_count": null,
      "outputs": []
    }
  ],
  "metadata": {
    "kernelspec": {
      "display_name": "Python (learn-env)",
      "language": "python",
      "name": "learn-env"
    },
    "language_info": {
      "codemirror_mode": {
        "name": "ipython",
        "version": 3
      },
      "file_extension": ".py",
      "mimetype": "text/x-python",
      "name": "python",
      "nbconvert_exporter": "python",
      "pygments_lexer": "ipython3",
      "version": "3.8.5"
    },
    "colab": {
      "provenance": []
    }
  },
  "nbformat": 4,
  "nbformat_minor": 0
}